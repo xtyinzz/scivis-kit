{
 "cells": [
  {
   "cell_type": "code",
   "execution_count": 1,
   "metadata": {},
   "outputs": [],
   "source": [
    "%load_ext autoreload\n",
    "%autoreload 2\n",
    "import numpy as np\n",
    "import scipy as s\n",
    "from netCDF4 import Dataset\n",
    "import os\n",
    "from vis_io import get_vtu, write_vtu, get_vts, write_vts, get_mesh\n",
    "from vec_io import read_grid, write_grid, read_vec, write_vec\n",
    "import vtk\n",
    "from data.data import SphericalDataset\n",
    "from vtkmodules.util import numpy_support\n",
    "import scipy.optimize as op"
   ]
  },
  {
   "cell_type": "code",
   "execution_count": 2,
   "metadata": {},
   "outputs": [],
   "source": [
    "def deg2rad(deg):\n",
    "  return deg * np.pi / 180\n",
    "\n",
    "# for numerical isse\n",
    "def mysin(a):\n",
    "  val = np.sin(a)\n",
    "  val = close_round(val, 0)\n",
    "  val = close_round(val, 1)\n",
    "  return val\n",
    "\n",
    "def mycos(a):\n",
    "  val = np.cos(a)\n",
    "  val = close_round(val, 0)\n",
    "  val = close_round(val, 1)\n",
    "  return val\n",
    "\n",
    "def close_round(val, test_val, abs_bounds=1e-12):\n",
    "  isclose = np.abs(test_val - val) < abs_bounds\n",
    "  # print(isclose)\n",
    "  if isinstance(val, float) or isinstance(val, int) or np.float32:\n",
    "    val_cp = test_val if isclose else val\n",
    "  else:\n",
    "    val_cp = val.copy()\n",
    "    val_cp[isclose] = test_val\n",
    "  return val_cp\n",
    "\n",
    "def sph2car(r, theta, phi):\n",
    "  # x_coef = np.sin(phi)*np.cos(theta)\n",
    "  # y_coef = np.around(np.sin(phi)*np.sin(theta), decimals=10)\n",
    "  # z_coef = np.around(np.cos(phi), decimals=10)\n",
    "  x = r*mysin(phi)*mycos(theta)\n",
    "  y = r*mysin(phi)*mysin(theta)\n",
    "  z = r*mycos(phi)\n",
    "  \n",
    "  return np.array([x,y,z])\n",
    "\n",
    "def car2sph(x, y, z):\n",
    "  # assert (x or y) != 0\n",
    "  r = np.sqrt(x*x + y*y + z*z)\n",
    "  theta = np.arctan(y/x)\n",
    "  phi = np.arctan(np.sqrt(x*x + y*y) / z)\n",
    "  # if x > 0:\n",
    "  #   phi = np.arctan(y/x)\n",
    "  # elif x < 0 and y >= 0:\n",
    "  #   phi = np.arctan(y/x)+np.pi\n",
    "  # elif x < 0 and y < 0:\n",
    "  #   phi == np.arctan(y/x)-np.pi\n",
    "  # elif x == 0 and y > 0:\n",
    "  #   phi = np.pi/2\n",
    "  # elif x == 0 and y < 0:\n",
    "  #   phi = -np.pi/2\n",
    "\n",
    "  return np.array([r,theta,phi])\n",
    "# //\n",
    "# //\t\t    6________7  high-vtx\n",
    "# //\t\t   /|       /|\n",
    "# //\t\t  / |      / |\n",
    "# //\t\t4/_______5/  |\n",
    "# //\t\t|  2|___ |___|3\n",
    "# //\t\t|  /     |  /\n",
    "# //\t\t| /      | /\n",
    "# //\t\t|/_______|/\n",
    "# //\t\t0        1\n",
    "# //  low_vtx\n",
    "\n",
    "# //\n",
    "# //\t\t 011_________111  high-vtx\n",
    "# //\t\t   /|       /|\n",
    "# //\t\t  / |      / |\n",
    "# //\t001/_____101/  |\n",
    "# //\t\t|010|___ |___|110\n",
    "# //\t\t|  /     |  /\n",
    "# //\t\t| /      | /\n",
    "# //\t\t|/_______|/\n",
    "# //\t000       100\n",
    "\n",
    "\n",
    "def trilerp(coord: np.ndarray, low_vtx: np.ndarray, high_vtx: np.ndarray, cell_val: np.ndarray):\n",
    "  # x0,y0,z0 = low_vtx\n",
    "  # x1,y1,z1 = high_vtx\n",
    "  # x, y, z = coord\n",
    "\n",
    "  # low_vtx, high_vtx, coord = normalization(np.array([low_vtx, high_vtx, coord]), new_min=0, dim=0)\n",
    "\n",
    "  # TODO: Why trilerp doesn't work if low and high are not normalized to 1\n",
    "  x, y, z = (coord - low_vtx) / (high_vtx - low_vtx)\n",
    "  low_vtx = np.zeros(3)\n",
    "  high_vtx = np.ones(3)\n",
    "  x0,y0,z0 = low_vtx\n",
    "  x1,y1,z1 = high_vtx\n",
    "\n",
    "  v000 = cell_val[0,0,0]\n",
    "  v100 = cell_val[1,0,0]\n",
    "  v010 = cell_val[0,1,0]\n",
    "  v110 = cell_val[1,1,0]\n",
    "  v001 = cell_val[0,0,1]\n",
    "  v101 = cell_val[1,0,1]\n",
    "  v011 = cell_val[0,1,1]\n",
    "  v111 = cell_val[1,1,1]\n",
    "  # print(x, y, z)\n",
    "  # print(x0, y0, z0)\n",
    "  # print(x1, y1, z1)\n",
    "  # print((x0-x1)*(y0-y1)*(z0-z1))\n",
    "  # print(((x0-x1)*(y0-y1)*(z0-z1)))\n",
    "  # for cord in [v000, v100, v010, v110, v001, v101, v011, v111]:\n",
    "  #   print(cord)\n",
    "  a0 = (\n",
    "    (-v000*x1*y1*z1 + v001*x1*y1*z0 + v010*x1*y0*z1 - v011*x1*y0*z0 + \n",
    "    v100*x0*y1*z1 - v101*x0*y1*z0 - v110*x0*y0*z1 + v111*x0*y0*z0)\n",
    "  )\n",
    "  a1 = (\n",
    "    (v000*z1*y1 - v001*z0*y1 - v010*z1*y0 + v011*z0*y0 - \n",
    "    v100*z1*y1 + v101*z0*y1 + v110*z1*y0 - v111*z0*y0)\n",
    "  )\n",
    "  a2 = (\n",
    "    (v000*x1*z1 - v001*x1*z0 - v010*x1*z1 + v011*x1*z0 - \n",
    "    v100*x0*z1 + v101*x0*z0 + v110*x0*z1 - v111*x0*z0)\n",
    "  )\n",
    "  a3 = (\n",
    "    (v000*x1*y1 - v001*x1*y1 - v010*x1*y0 + v011*x1*y0 - \n",
    "    v100*x0*y1 + v101*x0*y1 + v110*x0*y0 - v111*x0*y0)\n",
    "  )\n",
    "  a4 = (\n",
    "    (-v000*z1 + v001*z0 + v010*z1 - v011*z0 + \n",
    "    v100*z1 - v101*z0 - v110*z1 + v111*z0)\n",
    "  )\n",
    "  a5 = (\n",
    "    (-v000*y1 + v001*y1 + v010*y0 - v011*y0 + \n",
    "    v100*y1 - v101*y1 - v110*y0 + v111*y0)\n",
    "  )\n",
    "  a6 = (\n",
    "    (-v000*x1 + v001*x1 + v010*x1 - v011*x1 + \n",
    "    v100*x0 - v101*x0 - v110*x0 + v111*x0)\n",
    "  )\n",
    "  a7 = (\n",
    "    (v000 - v001 - v010 + v011 -v100 + v101 + v110 - v111)\n",
    "  )\n",
    "  interpolant = (a0 + a1*x + a2*y + a3*z + a4*x*y + a5*x*z + a6*y*z + a7*x*y*z) / ((x0-x1)*(y0-y1)*(z0-z1))\n",
    "  coeff = np.array([a0, a1, a2, a3, a4, a5, a6, a7]).T\n",
    "  return interpolant, coeff\n",
    "\n",
    "# G\n",
    "def comp2phys(comp: np.ndarray, vtx_low, vtx_high, cell_coords):\n",
    "  phys_est_x, a = trilerp(comp, vtx_low, vtx_high, cell_coords[..., 0])\n",
    "  phys_est_y, b = trilerp(comp, vtx_low, vtx_high, cell_coords[..., 1])\n",
    "  phys_est_z, c = trilerp(comp, vtx_low, vtx_high, cell_coords[..., 2])\n",
    "  return np.array([phys_est_x, phys_est_y, phys_est_z]), np.array([a,b,c])\n",
    "\n",
    "# F\n",
    "def diff_phys(comp: np.ndarray, phys: np.ndarray, vtx_low, vtx_high, cell_coords):\n",
    "  phys_est, coeff = comp2phys(comp, vtx_low, vtx_high, cell_coords)\n",
    "  return phys - phys_est\n",
    "\n",
    "def diff_phys_dim(comp: np.ndarray, phys: np.ndarray, vtx_low, vtx_high, cell_coords_dim):\n",
    "  phys_est = trilerp(comp, vtx_low, vtx_high, cell_coords_dim)\n",
    "  return phys - phys_est\n",
    "# op.root_scalar(diff_phys, method='newton')\n",
    "\n",
    "def diff_phys_dim_inv_jac():\n",
    "  pass\n",
    "\n",
    "class CurviInterpField:\n",
    "  def __init__(self):\n",
    "    pass\n",
    "\n",
    "class CurviInterpCell:\n",
    "  def __init__(self, min_comp, max_comp, phys_coords):\n",
    "    self.min_comp = np.array(min_comp)\n",
    "    self.max_comp = np.array(max_comp)\n",
    "    self.phys = phys_coords\n",
    "    self.init_comp = min_comp + (max_comp - min_comp) / 2\n",
    "    self.coeff = None\n",
    "\n",
    "    # xs = [min_comp[0], max_comp[0]]\n",
    "    # ys = [min_comp[1], max_comp[1]]\n",
    "    # zs = [min_comp[2], max_comp[2]]\n",
    "    # self.interp = RegularGridInterpolator((xs, ys, zs), phys_coords)\n",
    "\n",
    "  # Newton's method to find computational coordinate given physical cooridnate\n",
    "  def phys2comp(self, phys: np.ndarray, init_comp=None, tol=1.48e-8, maxiter=50, rtol=0.0):\n",
    "    if init_comp is None:\n",
    "      init_comp = self.init_comp\n",
    "\n",
    "    comp = init_comp\n",
    "    goal_diff = np.zeros(3)\n",
    "    for i in range(maxiter):\n",
    "      phys_est, coeff = self.comp2phys(comp)\n",
    "      diff_funcval = (phys_est - phys)\n",
    "\n",
    "      jac_inv = self.get_jacobian_inv(comp, coeff)\n",
    "\n",
    "      new_comp = comp - (jac_inv @ diff_funcval.reshape(3, 1)).flatten()\n",
    "      # print(phys_est.shape, coeff.shape, phys.shape)\n",
    "      # print(new_comp.shape, comp.shape)\n",
    "      # print(jac_inv.shape, diff_funcval.shape)\n",
    "      # print(f'phys_est: {phys_est} comp: {new_comp}  error: {np.abs(diff_funcval-goal_diff)}')\n",
    "      # if np.all(np.isclose(new_comp, comp, rtol=rtol, atol=tol)):\n",
    "      if np.all(np.isclose(diff_funcval, goal_diff, rtol=rtol, atol=tol)):\n",
    "        print(f'iter {i}')\n",
    "        return new_comp\n",
    "      comp = new_comp\n",
    "    return comp\n",
    "\n",
    "  # def phys2comp(self, phys):\n",
    "  #   return self.find_comp(phys)\n",
    "\n",
    "  def comp2phys(self, comp):\n",
    "    phys_est, coeff = trilerp(comp, self.min_comp, self.max_comp, self.phys)\n",
    "    # phys_est_y, b = trilerp(comp, self.min_comp, self.max_comp, self.phys[..., 1])\n",
    "    # phys_est_z, c = trilerp(comp, self.min_comp, self.max_comp, self.phys[..., 2])\n",
    "    # self.coeff = np.array([a,b,c])\n",
    "    # return np.array([phys_est_x, phys_est_y, phys_est_z]), np.array([a,b,c])\n",
    "    # print(phys_est.shape, coeff.shape)\n",
    "    # self.interp(comp)\n",
    "    return phys_est, coeff\n",
    "  \n",
    "  def get_jacobian(self, comp, coeff):\n",
    "    a,b,c = coeff\n",
    "    return np.array([\n",
    "      [\n",
    "        a[1] + a[4]*comp[1] + a[5]*comp[2] + a[7]*comp[1]*comp[2],\n",
    "        a[2] + a[4]*comp[0] + a[6]*comp[2] + a[7]*comp[0]*comp[2],\n",
    "        a[3] + a[5]*comp[0] + a[6]*comp[1] + a[7]*comp[0]*comp[1],\n",
    "      ],\n",
    "      [\n",
    "        b[1] + b[4]*comp[1] + b[5]*comp[2] + b[7]*comp[1]*comp[2],\n",
    "        b[2] + b[4]*comp[0] + b[6]*comp[2] + b[7]*comp[0]*comp[2],\n",
    "        b[3] + b[5]*comp[0] + b[6]*comp[1] + b[7]*comp[0]*comp[1],\n",
    "      ],\n",
    "      [\n",
    "        c[1] + c[4]*comp[1] + c[5]*comp[2] + c[7]*comp[1]*comp[2],\n",
    "        c[2] + c[4]*comp[0] + c[6]*comp[2] + c[7]*comp[0]*comp[2],\n",
    "        c[3] + c[5]*comp[0] + c[6]*comp[1] + c[7]*comp[0]*comp[1],\n",
    "      ]\n",
    "    ])\n",
    "  \n",
    "  def get_jacobian_inv(self, comp, coeff):\n",
    "    jac = self.get_jacobian(comp, coeff)\n",
    "    # np_det = np.linalg.det(jac)\n",
    "    # np_inv = np.linalg.inv(jac)\n",
    "    det = (-jac[0,0]*jac[1,1]*jac[2,2] - jac[0,1]*jac[1,2]*jac[2,0] - jac[0,2]*jac[1,0]*jac[2,1] + \n",
    "            jac[0,2]*jac[1,1]*jac[2,0] + jac[0,1]*jac[1,0]*jac[2,2] + jac[0,0]*jac[1,2]*jac[2,1])\n",
    "    inv = np.array([\n",
    "      [\n",
    "        jac[1,1]*jac[2,2] - jac[1,2]*jac[2,1],\n",
    "        -jac[0,1]*jac[2,2] + jac[0,2]*jac[2,1],\n",
    "        jac[0,1]*jac[1,2] - jac[0,2]*jac[1,1],\n",
    "      ],\n",
    "      [\n",
    "        -jac[1,0]*jac[2,2] + jac[1,2]*jac[2,0],\n",
    "        jac[0,0]*jac[2,2] - jac[0,2]*jac[2,0],\n",
    "        -jac[0,0]*jac[1,2] + jac[0,2]*jac[1,0],\n",
    "      ],\n",
    "      [\n",
    "        jac[1,0]*jac[2,1] - jac[1,1]*jac[2,0],\n",
    "        jac[0,0]*jac[2,1] - jac[0,1]*jac[2,0],\n",
    "        jac[0,0]*jac[1,1] - jac[0,1]*jac[1,0],\n",
    "      ],\n",
    "    ])\n",
    "    # print(jac)\n",
    "    # print(np_inv)\n",
    "    # print(inv/det)\n",
    "    # print(np_det)\n",
    "    # print(det)\n",
    "    return inv/det"
   ]
  },
  {
   "cell_type": "code",
   "execution_count": 5,
   "metadata": {},
   "outputs": [
    {
     "name": "stdout",
     "output_type": "stream",
     "text": [
      "lon:\n",
      "ascending sorted\n",
      "lat:\n",
      "decending sorted\n",
      "r:\n",
      "ascending sorted\n"
     ]
    }
   ],
   "source": [
    "mt = Dataset(\"/fs/project/PAS0027/mantle/data/spherical010.nc\", format=\"netcdf4\")\n",
    "# r:\n",
    "# lon: [0, 360] theta (math)\n",
    "# lat: [-90, 90] phi (math)\n",
    "r = mt.variables['r'][:]\n",
    "lon = mt.variables['lon'][:]\n",
    "lat = mt.variables['lat'][:] + 90\n",
    "lat_acsend = np.flip(lat)\n",
    "temp = mt.variables['temperature'][:]\n",
    "\n",
    "print('lon:')\n",
    "isSorted(lon)\n",
    "print('lat:')\n",
    "isSorted(lat)\n",
    "print('r:')\n",
    "isSorted(r)\n",
    "\n",
    "mt.close()"
   ]
  },
  {
   "cell_type": "code",
   "execution_count": 13,
   "metadata": {},
   "outputs": [
    {
     "data": {
      "text/plain": [
       "masked_array(data=[3485.  , 3492.25, 3506.75, 3521.26, 3535.76, 3550.26,\n",
       "                   3564.76, 3579.27, 3593.77, 3608.27, 3622.77, 3637.28,\n",
       "                   3651.78, 3666.28, 3680.78, 3695.29, 3709.79, 3724.29,\n",
       "                   3738.79, 3753.3 , 3767.8 , 3782.3 , 3796.8 , 3811.31,\n",
       "                   3825.81, 3840.31, 3854.81, 3869.32, 3883.82, 3898.32,\n",
       "                   3912.82, 3927.33, 3941.83, 3956.33, 3970.83, 3985.34,\n",
       "                   3999.84, 4014.34, 4028.84, 4043.35, 4057.85, 4072.35,\n",
       "                   4086.85, 4101.36, 4115.86, 4130.36, 4144.86, 4159.37,\n",
       "                   4173.87, 4188.37, 4202.87, 4217.38, 4231.88, 4246.38,\n",
       "                   4260.88, 4275.39, 4289.89, 4304.39, 4318.89, 4333.4 ,\n",
       "                   4347.9 , 4362.4 , 4376.9 , 4391.41, 4405.91, 4420.41,\n",
       "                   4434.91, 4449.42, 4463.92, 4478.42, 4492.92, 4507.43,\n",
       "                   4521.93, 4536.43, 4550.93, 4565.44, 4579.94, 4594.44,\n",
       "                   4608.94, 4623.45, 4637.95, 4652.45, 4666.95, 4681.46,\n",
       "                   4695.96, 4710.46, 4724.96, 4739.47, 4753.97, 4768.47,\n",
       "                   4782.97, 4797.48, 4811.98, 4826.48, 4840.98, 4855.49,\n",
       "                   4869.99, 4884.49, 4898.99, 4913.5 , 4928.  , 4942.5 ,\n",
       "                   4957.01, 4971.51, 4986.01, 5000.51, 5015.02, 5029.52,\n",
       "                   5044.02, 5058.52, 5073.03, 5087.53, 5102.03, 5116.53,\n",
       "                   5131.04, 5145.54, 5160.04, 5174.54, 5189.05, 5203.55,\n",
       "                   5218.05, 5232.55, 5247.06, 5261.56, 5276.06, 5290.56,\n",
       "                   5305.07, 5319.57, 5334.07, 5348.57, 5363.08, 5377.58,\n",
       "                   5392.08, 5406.58, 5421.09, 5435.59, 5450.09, 5464.59,\n",
       "                   5479.1 , 5493.6 , 5508.1 , 5522.6 , 5537.11, 5551.61,\n",
       "                   5566.11, 5580.61, 5595.12, 5609.62, 5624.12, 5638.62,\n",
       "                   5653.13, 5667.63, 5682.13, 5696.63, 5711.14, 5725.64,\n",
       "                   5740.14, 5754.64, 5769.15, 5783.65, 5798.15, 5812.65,\n",
       "                   5827.16, 5841.66, 5856.16, 5870.66, 5885.17, 5899.67,\n",
       "                   5914.17, 5928.67, 5943.18, 5957.68, 5972.18, 5986.68,\n",
       "                   6001.19, 6015.69, 6030.19, 6044.69, 6059.2 , 6073.7 ,\n",
       "                   6088.2 , 6102.7 , 6117.21, 6131.71, 6146.21, 6160.71,\n",
       "                   6175.22, 6189.72, 6204.22, 6218.72, 6233.23, 6247.73,\n",
       "                   6262.23, 6276.73, 6291.24, 6305.74, 6320.24, 6334.74,\n",
       "                   6349.25, 6363.75, 6371.  ],\n",
       "             mask=False,\n",
       "       fill_value=1e+20,\n",
       "            dtype=float32)"
      ]
     },
     "execution_count": 13,
     "metadata": {},
     "output_type": "execute_result"
    }
   ],
   "source": [
    "grid_size = np.array([len(r), len(lon), len(lat_acsend)], dtype=np.int32)\n",
    "r.astype(np.float32)"
   ]
  },
  {
   "cell_type": "code",
   "execution_count": 39,
   "metadata": {},
   "outputs": [],
   "source": [
    "# downsample a bit\n",
    "r = r[:]\n",
    "lon = lon[:]\n",
    "# remove poles to avoid same physcial coordinates on the poles\n",
    "lat = lat[range(10, len(lat)-10)]\n",
    "lat_acsend = lat_acsend[range(10, len(lat_acsend)-10)]"
   ]
  },
  {
   "cell_type": "code",
   "execution_count": 107,
   "metadata": {},
   "outputs": [
    {
     "name": "stdout",
     "output_type": "stream",
     "text": [
      "meshe generated: (201, 360, 140, 3)\n",
      "meshe generated: (201, 360, 140, 3)\n"
     ]
    }
   ],
   "source": [
    "# output comp space\n",
    "dims = [len(r), len(lon), len(lat_acsend)]\n",
    "coords = get_mesh(r, lon, lat_acsend).reshape(-1, 3)\n",
    "temp_val = temp.flatten()[:len(coords)]\n",
    "\n",
    "# output cart space\n",
    "lon_rad = np.radians(lon)\n",
    "lat_rad = np.radians(lat_acsend)\n",
    "coords_rad = get_mesh(r, lon_rad, lat_rad).reshape(-1, 3)\n",
    "\n",
    "cart_coords = sph2car(coords_rad[:,0], coords_rad[:,1], coords_rad[:,2])\n",
    "for i in range(len(cart_coords)):\n",
    "  cart_coords[i] = cart_coords[i][..., None]\n",
    "cart_coords = np.concatenate(cart_coords, axis=-1)"
   ]
  },
  {
   "cell_type": "code",
   "execution_count": null,
   "metadata": {},
   "outputs": [],
   "source": [
    "curv = get_vts(dims, coords, {})\n",
    "write_vts(\"test_comp.vts\", curv)\n",
    "cart = get_vts(dims, cart_coords, {})\n",
    "write_vts(\"test_cart.vts\", cart)"
   ]
  },
  {
   "cell_type": "code",
   "execution_count": 120,
   "metadata": {},
   "outputs": [],
   "source": [
    "write_vec('../test/src/data/mantle_phys.vec', *dims, vecs=cart_coords)\n",
    "write_grid('../test/src/data/mantle_comp.grid', r, lon, lat_acsend)\n",
    "xyz = read_vec('../test/src/data/mantle_phys.vec')\n",
    "xg, yg, zg = read_grid('../test/src/data/mantle_comp.grid')"
   ]
  },
  {
   "cell_type": "code",
   "execution_count": 5,
   "metadata": {},
   "outputs": [
    {
     "name": "stdout",
     "output_type": "stream",
     "text": [
      "meshe generated: (201, 360, 140, 3)\n"
     ]
    }
   ],
   "source": [
    "xyz = read_vec('../test/src/data/mantle_phys.vec')\n",
    "xg, yg, zg = read_grid('../test/src/data/mantle_comp.grid')\n",
    "xyz_comp = get_mesh(xg, yg, zg)"
   ]
  },
  {
   "cell_type": "code",
   "execution_count": 16,
   "metadata": {},
   "outputs": [],
   "source": [
    "s = np.array(xyz.shape, dtype=np.int32)"
   ]
  },
  {
   "cell_type": "code",
   "execution_count": 27,
   "metadata": {},
   "outputs": [
    {
     "data": {
      "text/plain": [
       "30391200"
      ]
     },
     "execution_count": 27,
     "metadata": {},
     "output_type": "execute_result"
    }
   ],
   "source": [
    "s.prod()"
   ]
  },
  {
   "cell_type": "code",
   "execution_count": 6,
   "metadata": {},
   "outputs": [
    {
     "data": {
      "text/plain": [
       "array([ 3490.3113,   744.0171, -1208.5039], dtype=float32)"
      ]
     },
     "execution_count": 6,
     "metadata": {},
     "output_type": "execute_result"
    }
   ],
   "source": [
    "xyz[20,12,88]"
   ]
  },
  {
   "cell_type": "code",
   "execution_count": 7,
   "metadata": {},
   "outputs": [
    {
     "data": {
      "text/plain": [
       "array([ 3490.3113,   744.0171, -1208.5039], dtype=float32)"
      ]
     },
     "execution_count": 7,
     "metadata": {},
     "output_type": "execute_result"
    }
   ],
   "source": [
    "xyz.reshape(-1, 3)[20*50400 + 140*12 + 88]"
   ]
  },
  {
   "cell_type": "code",
   "execution_count": 9,
   "metadata": {},
   "outputs": [
    {
     "data": {
      "text/plain": [
       "1009768"
      ]
     },
     "execution_count": 9,
     "metadata": {},
     "output_type": "execute_result"
    }
   ],
   "source": [
    "20*50400 + 140*12 + 88"
   ]
  },
  {
   "cell_type": "code",
   "execution_count": 8,
   "metadata": {},
   "outputs": [
    {
     "data": {
      "text/plain": [
       "array([4217.38    ,   23.064066,  105.674   ], dtype=float32)"
      ]
     },
     "execution_count": 8,
     "metadata": {},
     "output_type": "execute_result"
    }
   ],
   "source": [
    "xyz_comp[51,23,85]"
   ]
  },
  {
   "cell_type": "code",
   "execution_count": 129,
   "metadata": {},
   "outputs": [
    {
     "data": {
      "text/plain": [
       "array([3485.  , 3492.25, 3506.75, 3521.26, 3535.76, 3550.26, 3564.76,\n",
       "       3579.27, 3593.77, 3608.27], dtype=float32)"
      ]
     },
     "metadata": {},
     "output_type": "display_data"
    },
    {
     "data": {
      "text/plain": [
       "masked_array(data=[3485.  , 3492.25, 3506.75, 3521.26, 3535.76, 3550.26,\n",
       "                   3564.76, 3579.27, 3593.77, 3608.27],\n",
       "             mask=False,\n",
       "       fill_value=1e+20)"
      ]
     },
     "metadata": {},
     "output_type": "display_data"
    },
    {
     "data": {
      "text/plain": [
       "array([[1175.865 ,    0.    , 3280.635 ],\n",
       "       [1233.5667,    0.    , 3259.377 ],\n",
       "       [1290.9407,    0.    , 3237.0815],\n",
       "       [1347.856 ,    0.    , 3213.7998],\n",
       "       [1404.3516,    0.    , 3189.5173],\n",
       "       [1460.41  ,    0.    , 3164.242 ],\n",
       "       [1516.0685,    0.    , 3137.955 ],\n",
       "       [1571.1996,    0.    , 3110.7163],\n",
       "       [1625.8417,    0.    , 3082.5093],\n",
       "       [1679.9774,    0.    , 3053.3425]], dtype=float32)"
      ]
     },
     "metadata": {},
     "output_type": "display_data"
    },
    {
     "data": {
      "text/plain": [
       "masked_array(\n",
       "  data=[[1175.86494003,    0.        , 3280.63509748],\n",
       "        [1233.56660539,    0.        , 3259.3770003 ],\n",
       "        [1290.94070045,    0.        , 3237.08157264],\n",
       "        [1347.85597732,    0.        , 3213.7998171 ],\n",
       "        [1404.35160221,    0.        , 3189.51745212],\n",
       "        [1460.40998534,    0.        , 3164.24203795],\n",
       "        [1516.06844094,    0.        , 3137.95498412],\n",
       "        [1571.19964577,    0.        , 3110.71642441],\n",
       "        [1625.84166108,    0.        , 3082.50935004],\n",
       "        [1679.97747418,    0.        , 3053.34254322]],\n",
       "  mask=False,\n",
       "  fill_value=1e+20)"
      ]
     },
     "metadata": {},
     "output_type": "display_data"
    }
   ],
   "source": [
    "display(xg[:10], r[:10])\n",
    "display(xyz.reshape(-1, 3)[:10], cart_coords[:10])"
   ]
  }
 ],
 "metadata": {
  "interpreter": {
   "hash": "b43128b8149febc113f839bcab30702eb99c8d3a604df05727c78f54e33a9fbd"
  },
  "kernelspec": {
   "display_name": "Python 3.7.6 ('ml37')",
   "language": "python",
   "name": "python3"
  },
  "language_info": {
   "codemirror_mode": {
    "name": "ipython",
    "version": 3
   },
   "file_extension": ".py",
   "mimetype": "text/x-python",
   "name": "python",
   "nbconvert_exporter": "python",
   "pygments_lexer": "ipython3",
   "version": "3.7.10"
  },
  "orig_nbformat": 4
 },
 "nbformat": 4,
 "nbformat_minor": 2
}
