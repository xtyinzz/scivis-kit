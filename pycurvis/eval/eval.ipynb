{
 "cells": [
  {
   "cell_type": "code",
   "execution_count": 12,
   "metadata": {},
   "outputs": [
    {
     "ename": "ModuleNotFoundError",
     "evalue": "No module named 'util.args'; 'util' is not a package",
     "output_type": "error",
     "traceback": [
      "\u001b[0;31m---------------------------------------------------------------------------\u001b[0m",
      "\u001b[0;31mModuleNotFoundError\u001b[0m                       Traceback (most recent call last)",
      "\u001b[0;32m<ipython-input-12-553ee27f6a6d>\u001b[0m in \u001b[0;36m<module>\u001b[0;34m\u001b[0m\n\u001b[1;32m      4\u001b[0m \u001b[0;32mfrom\u001b[0m \u001b[0mtorch\u001b[0m\u001b[0;34m.\u001b[0m\u001b[0mutils\u001b[0m\u001b[0;34m.\u001b[0m\u001b[0mdata\u001b[0m \u001b[0;32mimport\u001b[0m \u001b[0mDataLoader\u001b[0m\u001b[0;34m,\u001b[0m \u001b[0mdataloader\u001b[0m\u001b[0;34m\u001b[0m\u001b[0;34m\u001b[0m\u001b[0m\n\u001b[1;32m      5\u001b[0m \u001b[0;32mfrom\u001b[0m \u001b[0mtqdm\u001b[0m \u001b[0;32mimport\u001b[0m \u001b[0mtqdm\u001b[0m\u001b[0;34m\u001b[0m\u001b[0;34m\u001b[0m\u001b[0m\n\u001b[0;32m----> 6\u001b[0;31m \u001b[0;32mfrom\u001b[0m \u001b[0mutil\u001b[0m\u001b[0;34m.\u001b[0m\u001b[0margs\u001b[0m \u001b[0;32mimport\u001b[0m \u001b[0mparse_args\u001b[0m\u001b[0;34m\u001b[0m\u001b[0;34m\u001b[0m\u001b[0m\n\u001b[0m\u001b[1;32m      7\u001b[0m \u001b[0;32mfrom\u001b[0m \u001b[0mutil\u001b[0m\u001b[0;34m.\u001b[0m\u001b[0mconfigs\u001b[0m \u001b[0;32mimport\u001b[0m \u001b[0mConfig\u001b[0m\u001b[0;34m\u001b[0m\u001b[0;34m\u001b[0m\u001b[0m\n\u001b[1;32m      8\u001b[0m \u001b[0;32mfrom\u001b[0m \u001b[0mutil\u001b[0m\u001b[0;34m.\u001b[0m\u001b[0mdata\u001b[0m \u001b[0;32mimport\u001b[0m \u001b[0mVBHGridDataset\u001b[0m\u001b[0;34m,\u001b[0m \u001b[0mstandardization\u001b[0m\u001b[0;34m\u001b[0m\u001b[0;34m\u001b[0m\u001b[0m\n",
      "\u001b[0;31mModuleNotFoundError\u001b[0m: No module named 'util.args'; 'util' is not a package"
     ]
    }
   ],
   "source": [
    "import os\n",
    "os.chdir(\"/users/PAS0027/xiong336/project/trajectory\")\n",
    "import torch\n",
    "from torch.utils.data import DataLoader, dataloader\n",
    "from tqdm import tqdm\n",
    "from util.args import parse_args\n",
    "from util.configs import Config\n",
    "from util.data import VBHGridDataset, standardization\n",
    "from train import load_checkpoint\n",
    "from eval.util import *\n",
    "from mpl_toolkits import mplot3d\n",
    "import matplotlib.pyplot as plt\n"
   ]
  },
  {
   "cell_type": "code",
   "execution_count": null,
   "metadata": {},
   "outputs": [],
   "source": [
    "def get_data(cfgObj, **kwargs):\n",
    "  dataset = VBHGridDataset(**cfgObj.get_dataset_param(), input_trans=standardization)\n",
    "  return dataset\n",
    "\n",
    "def get_model(model_path, args, **kwargs):\n",
    "  nncfg = Config(args.nncfg)\n",
    "  ckpt = load_checkpoint(model_path, nncfg)\n",
    "  model = ckpt['model']\n",
    "  return model"
   ]
  },
  {
   "cell_type": "code",
   "execution_count": 6,
   "metadata": {},
   "outputs": [
    {
     "data": {
      "text/plain": [
       "'/users/PAS0027/xiong336/project/trajectory'"
      ]
     },
     "execution_count": 6,
     "metadata": {},
     "output_type": "execute_result"
    }
   ],
   "source": [
    "args = parse_args()\n",
    "cfgObj = Config(args.testcfg)\n",
    "cfg = cfgObj.config\n",
    "out_dir = cfg['out_dir']\n",
    "vis_out_dir = cfg['vis_out_dir']\n",
    "\n",
    "# get model\n",
    "model_path = cfg['model_path']\n",
    "model = get_model(model_path, args)\n",
    "\n",
    "# get data\n",
    "dataset = get_data(cfgObj)\n",
    "coord = np.load(dataset.pdata)\n",
    "coord = np.take(coord, dataset.in_idx, -1).reshape(-1, len(dataset.in_idx))"
   ]
  }
 ],
 "metadata": {
  "interpreter": {
   "hash": "d82c3ef9a9c52ca48f89a57a471345d340895240528db2b7c56159ebd2138f11"
  },
  "kernelspec": {
   "display_name": "Python 3.7.10 ('vis': conda)",
   "language": "python",
   "name": "python3"
  },
  "language_info": {
   "codemirror_mode": {
    "name": "ipython",
    "version": 3
   },
   "file_extension": ".py",
   "mimetype": "text/x-python",
   "name": "python",
   "nbconvert_exporter": "python",
   "pygments_lexer": "ipython3",
   "version": "3.7.10"
  },
  "orig_nbformat": 4
 },
 "nbformat": 4,
 "nbformat_minor": 2
}
