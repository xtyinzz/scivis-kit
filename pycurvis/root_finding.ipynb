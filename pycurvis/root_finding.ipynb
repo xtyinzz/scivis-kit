{
 "cells": [
  {
   "cell_type": "code",
   "execution_count": 1,
   "metadata": {},
   "outputs": [],
   "source": [
    "%load_ext autoreload\n",
    "%autoreload 2\n",
    "import torch\n",
    "import torch.nn as nn\n",
    "from cfg.configs import Config\n",
    "from util.args import parse_args\n",
    "import numpy as np\n",
    "import scipy.optimize as op\n",
    "from data.data import SphericalDataset, SphericalBlockDataset, minmax_scale, normalization\n",
    "from eval.util import mse, mae\n",
    "from test import get_model\n",
    "from time import time"
   ]
  },
  {
   "cell_type": "markdown",
   "metadata": {},
   "source": [
    "### Rooting Finding: phys -> comp"
   ]
  },
  {
   "cell_type": "code",
   "execution_count": 101,
   "metadata": {},
   "outputs": [],
   "source": [
    "def deg2rad(deg):\n",
    "  return deg * np.pi / 180\n",
    "\n",
    "# for numerical isse\n",
    "def mysin(a):\n",
    "  val = np.sin(a)\n",
    "  val = close_round(val, 0)\n",
    "  val = close_round(val, 1)\n",
    "  return val\n",
    "\n",
    "def mycos(a):\n",
    "  val = np.cos(a)\n",
    "  val = close_round(val, 0)\n",
    "  val = close_round(val, 1)\n",
    "  return val\n",
    "\n",
    "def close_round(val, test_val, abs_bounds=1e-12):\n",
    "  isclose = np.abs(test_val - val) < abs_bounds\n",
    "  # print(isclose)\n",
    "  if isinstance(val, float) or isinstance(val, int) or np.float32:\n",
    "    val_cp = test_val if isclose else val\n",
    "  else:\n",
    "    val_cp = val.copy()\n",
    "    val_cp[isclose] = test_val\n",
    "  return val_cp\n",
    "\n",
    "def sph2car(r, theta, phi):\n",
    "  # x_coef = np.sin(phi)*np.cos(theta)\n",
    "  # y_coef = np.around(np.sin(phi)*np.sin(theta), decimals=10)\n",
    "  # z_coef = np.around(np.cos(phi), decimals=10)\n",
    "  x = r*mysin(phi)*mycos(theta)\n",
    "  y = r*mysin(phi)*mysin(theta)\n",
    "  z = r*mycos(phi)\n",
    "  \n",
    "  return np.array([x,y,z])\n",
    "\n",
    "def car2sph(x, y, z):\n",
    "  # assert (x or y) != 0\n",
    "  r = np.sqrt(x*x + y*y + z*z)\n",
    "  theta = np.arctan(y/x)\n",
    "  phi = np.arctan(np.sqrt(x*x + y*y) / z)\n",
    "  # if x > 0:\n",
    "  #   phi = np.arctan(y/x)\n",
    "  # elif x < 0 and y >= 0:\n",
    "  #   phi = np.arctan(y/x)+np.pi\n",
    "  # elif x < 0 and y < 0:\n",
    "  #   phi == np.arctan(y/x)-np.pi\n",
    "  # elif x == 0 and y > 0:\n",
    "  #   phi = np.pi/2\n",
    "  # elif x == 0 and y < 0:\n",
    "  #   phi = -np.pi/2\n",
    "\n",
    "  return np.array([r,theta,phi])\n",
    "# //\n",
    "# //\t\t    6________7  high-vtx\n",
    "# //\t\t   /|       /|\n",
    "# //\t\t  / |      / |\n",
    "# //\t\t4/_______5/  |\n",
    "# //\t\t|  2|___ |___|3\n",
    "# //\t\t|  /     |  /\n",
    "# //\t\t| /      | /\n",
    "# //\t\t|/_______|/\n",
    "# //\t\t0        1\n",
    "# //  low_vtx\n",
    "\n",
    "# //\n",
    "# //\t\t 011_________111  high-vtx\n",
    "# //\t\t   /|       /|\n",
    "# //\t\t  / |      / |\n",
    "# //\t001/_____101/  |\n",
    "# //\t\t|010|___ |___|110\n",
    "# //\t\t|  /     |  /\n",
    "# //\t\t| /      | /\n",
    "# //\t\t|/_______|/\n",
    "# //\t000       100\n",
    "\n",
    "\n",
    "def trilerp(coord: np.ndarray, low_vtx: np.ndarray, high_vtx: np.ndarray, cell_val: np.ndarray):\n",
    "  # x0,y0,z0 = low_vtx\n",
    "  # x1,y1,z1 = high_vtx\n",
    "  # x, y, z = coord\n",
    "\n",
    "  # low_vtx, high_vtx, coord = normalization(np.array([low_vtx, high_vtx, coord]), new_min=0, dim=0)\n",
    "\n",
    "  # TODO: Why trilerp doesn't work if low and high are not normalized to 1\n",
    "  x, y, z = (coord - low_vtx) / (high_vtx - low_vtx)\n",
    "  low_vtx = np.zeros(3)\n",
    "  high_vtx = np.ones(3)\n",
    "  x0,y0,z0 = low_vtx\n",
    "  x1,y1,z1 = high_vtx\n",
    "\n",
    "  v000 = cell_val[0,0,0]\n",
    "  v100 = cell_val[1,0,0]\n",
    "  v010 = cell_val[0,1,0]\n",
    "  v110 = cell_val[1,1,0]\n",
    "  v001 = cell_val[0,0,1]\n",
    "  v101 = cell_val[1,0,1]\n",
    "  v011 = cell_val[0,1,1]\n",
    "  v111 = cell_val[1,1,1]\n",
    "  # print(x, y, z)\n",
    "  # print(x0, y0, z0)\n",
    "  # print(x1, y1, z1)\n",
    "  # print((x0-x1)*(y0-y1)*(z0-z1))\n",
    "  # print(((x0-x1)*(y0-y1)*(z0-z1)))\n",
    "  # for cord in [v000, v100, v010, v110, v001, v101, v011, v111]:\n",
    "  #   print(cord)\n",
    "  a0 = (\n",
    "    (-v000*x1*y1*z1 + v001*x1*y1*z0 + v010*x1*y0*z1 - v011*x1*y0*z0 + \n",
    "    v100*x0*y1*z1 - v101*x0*y1*z0 - v110*x0*y0*z1 + v111*x0*y0*z0)\n",
    "  )\n",
    "  a1 = (\n",
    "    (v000*z1*y1 - v001*z0*y1 - v010*z1*y0 + v011*z0*y0 - \n",
    "    v100*z1*y1 + v101*z0*y1 + v110*z1*y0 - v111*z0*y0)\n",
    "  )\n",
    "  a2 = (\n",
    "    (v000*x1*z1 - v001*x1*z0 - v010*x1*z1 + v011*x1*z0 - \n",
    "    v100*x0*z1 + v101*x0*z0 + v110*x0*z1 - v111*x0*z0)\n",
    "  )\n",
    "  a3 = (\n",
    "    (v000*x1*y1 - v001*x1*y1 - v010*x1*y0 + v011*x1*y0 - \n",
    "    v100*x0*y1 + v101*x0*y1 + v110*x0*y0 - v111*x0*y0)\n",
    "  )\n",
    "  a4 = (\n",
    "    (-v000*z1 + v001*z0 + v010*z1 - v011*z0 + \n",
    "    v100*z1 - v101*z0 - v110*z1 + v111*z0)\n",
    "  )\n",
    "  a5 = (\n",
    "    (-v000*y1 + v001*y1 + v010*y0 - v011*y0 + \n",
    "    v100*y1 - v101*y1 - v110*y0 + v111*y0)\n",
    "  )\n",
    "  a6 = (\n",
    "    (-v000*x1 + v001*x1 + v010*x1 - v011*x1 + \n",
    "    v100*x0 - v101*x0 - v110*x0 + v111*x0)\n",
    "  )\n",
    "  a7 = (\n",
    "    (v000 - v001 - v010 + v011 -v100 + v101 + v110 - v111)\n",
    "  )\n",
    "  interpolant = (a0 + a1*x + a2*y + a3*z + a4*x*y + a5*x*z + a6*y*z + a7*x*y*z) / ((x0-x1)*(y0-y1)*(z0-z1))\n",
    "  coeff = np.array([a0, a1, a2, a3, a4, a5, a6, a7]).T\n",
    "  return interpolant, coeff\n",
    "\n",
    "# G\n",
    "def comp2phys(comp: np.ndarray, vtx_low, vtx_high, cell_coords):\n",
    "  phys_est_x, a = trilerp(comp, vtx_low, vtx_high, cell_coords[..., 0])\n",
    "  phys_est_y, b = trilerp(comp, vtx_low, vtx_high, cell_coords[..., 1])\n",
    "  phys_est_z, c = trilerp(comp, vtx_low, vtx_high, cell_coords[..., 2])\n",
    "  return np.array([phys_est_x, phys_est_y, phys_est_z]), np.array([a,b,c])\n",
    "\n",
    "# F\n",
    "def diff_phys(comp: np.ndarray, phys: np.ndarray, vtx_low, vtx_high, cell_coords):\n",
    "  phys_est, coeff = comp2phys(comp, vtx_low, vtx_high, cell_coords)\n",
    "  return phys - phys_est\n",
    "\n",
    "def diff_phys_dim(comp: np.ndarray, phys: np.ndarray, vtx_low, vtx_high, cell_coords_dim):\n",
    "  phys_est = trilerp(comp, vtx_low, vtx_high, cell_coords_dim)\n",
    "  return phys - phys_est\n",
    "# op.root_scalar(diff_phys, method='newton')\n",
    "\n",
    "def diff_phys_dim_inv_jac():\n",
    "  pass\n",
    "\n",
    "class CurviInterpField:\n",
    "  def __init__(self):\n",
    "    pass\n",
    "\n",
    "class CurviInterpCell:\n",
    "  def __init__(self, min_comp, max_comp, phys_coords):\n",
    "    self.min_comp = np.array(min_comp)\n",
    "    self.max_comp = np.array(max_comp)\n",
    "    self.phys = phys_coords\n",
    "    self.init_comp = min_comp + (max_comp - min_comp) / 2\n",
    "    self.coeff = None\n",
    "\n",
    "    # xs = [min_comp[0], max_comp[0]]\n",
    "    # ys = [min_comp[1], max_comp[1]]\n",
    "    # zs = [min_comp[2], max_comp[2]]\n",
    "    # self.interp = RegularGridInterpolator((xs, ys, zs), phys_coords)\n",
    "\n",
    "  # Newton's method to find computational coordinate given physical cooridnate\n",
    "  def phys2comp(self, phys: np.ndarray, init_comp=None, tol=1.48e-8, maxiter=50, rtol=0.0):\n",
    "    if init_comp is None:\n",
    "      init_comp = self.init_comp\n",
    "\n",
    "    comp = init_comp\n",
    "    goal_diff = np.zeros(3)\n",
    "    for i in range(maxiter):\n",
    "      phys_est, coeff = self.comp2phys(comp)\n",
    "      diff_funcval = (phys_est - phys)\n",
    "\n",
    "      jac_inv = self.get_jacobian_inv(comp, coeff)\n",
    "\n",
    "      new_comp = comp - (jac_inv @ diff_funcval.reshape(3, 1)).flatten()\n",
    "      # print(phys_est.shape, coeff.shape, phys.shape)\n",
    "      # print(new_comp.shape, comp.shape)\n",
    "      # print(jac_inv.shape, diff_funcval.shape)\n",
    "      # print(f'phys_est: {phys_est} comp: {new_comp}  error: {np.abs(diff_funcval-goal_diff)}')\n",
    "      # if np.all(np.isclose(new_comp, comp, rtol=rtol, atol=tol)):\n",
    "      if np.all(np.isclose(diff_funcval, goal_diff, rtol=rtol, atol=tol)):\n",
    "        print(f'iter {i}')\n",
    "        return new_comp\n",
    "      comp = new_comp\n",
    "    return comp\n",
    "\n",
    "  # def phys2comp(self, phys):\n",
    "  #   return self.find_comp(phys)\n",
    "\n",
    "  def comp2phys(self, comp):\n",
    "    phys_est, coeff = trilerp(comp, self.min_comp, self.max_comp, self.phys)\n",
    "    # phys_est_y, b = trilerp(comp, self.min_comp, self.max_comp, self.phys[..., 1])\n",
    "    # phys_est_z, c = trilerp(comp, self.min_comp, self.max_comp, self.phys[..., 2])\n",
    "    # self.coeff = np.array([a,b,c])\n",
    "    # return np.array([phys_est_x, phys_est_y, phys_est_z]), np.array([a,b,c])\n",
    "    # print(phys_est.shape, coeff.shape)\n",
    "    # self.interp(comp)\n",
    "    return phys_est, coeff\n",
    "  \n",
    "  def get_jacobian(self, comp, coeff):\n",
    "    a,b,c = coeff\n",
    "    return np.array([\n",
    "      [\n",
    "        a[1] + a[4]*comp[1] + a[5]*comp[2] + a[7]*comp[1]*comp[2],\n",
    "        a[2] + a[4]*comp[0] + a[6]*comp[2] + a[7]*comp[0]*comp[2],\n",
    "        a[3] + a[5]*comp[0] + a[6]*comp[1] + a[7]*comp[0]*comp[1],\n",
    "      ],\n",
    "      [\n",
    "        b[1] + b[4]*comp[1] + b[5]*comp[2] + b[7]*comp[1]*comp[2],\n",
    "        b[2] + b[4]*comp[0] + b[6]*comp[2] + b[7]*comp[0]*comp[2],\n",
    "        b[3] + b[5]*comp[0] + b[6]*comp[1] + b[7]*comp[0]*comp[1],\n",
    "      ],\n",
    "      [\n",
    "        c[1] + c[4]*comp[1] + c[5]*comp[2] + c[7]*comp[1]*comp[2],\n",
    "        c[2] + c[4]*comp[0] + c[6]*comp[2] + c[7]*comp[0]*comp[2],\n",
    "        c[3] + c[5]*comp[0] + c[6]*comp[1] + c[7]*comp[0]*comp[1],\n",
    "      ]\n",
    "    ])\n",
    "  \n",
    "  def get_jacobian_inv(self, comp, coeff):\n",
    "    jac = self.get_jacobian(comp, coeff)\n",
    "    # np_det = np.linalg.det(jac)\n",
    "    # np_inv = np.linalg.inv(jac)\n",
    "    det = (-jac[0,0]*jac[1,1]*jac[2,2] - jac[0,1]*jac[1,2]*jac[2,0] - jac[0,2]*jac[1,0]*jac[2,1] + \n",
    "            jac[0,2]*jac[1,1]*jac[2,0] + jac[0,1]*jac[1,0]*jac[2,2] + jac[0,0]*jac[1,2]*jac[2,1])\n",
    "    inv = np.array([\n",
    "      [\n",
    "        jac[1,1]*jac[2,2] - jac[1,2]*jac[2,1],\n",
    "        -jac[0,1]*jac[2,2] + jac[0,2]*jac[2,1],\n",
    "        jac[0,1]*jac[1,2] - jac[0,2]*jac[1,1],\n",
    "      ],\n",
    "      [\n",
    "        -jac[1,0]*jac[2,2] + jac[1,2]*jac[2,0],\n",
    "        jac[0,0]*jac[2,2] - jac[0,2]*jac[2,0],\n",
    "        -jac[0,0]*jac[1,2] + jac[0,2]*jac[1,0],\n",
    "      ],\n",
    "      [\n",
    "        jac[1,0]*jac[2,1] - jac[1,1]*jac[2,0],\n",
    "        jac[0,0]*jac[2,1] - jac[0,1]*jac[2,0],\n",
    "        jac[0,0]*jac[1,1] - jac[0,1]*jac[1,0],\n",
    "      ],\n",
    "    ])\n",
    "    # print(jac)\n",
    "    # print(np_inv)\n",
    "    # print(inv/det)\n",
    "    # print(np_det)\n",
    "    # print(det)\n",
    "    return inv/det"
   ]
  },
  {
   "cell_type": "code",
   "execution_count": 145,
   "metadata": {},
   "outputs": [
    {
     "name": "stdout",
     "output_type": "stream",
     "text": [
      "creating train test splits for inputs\n",
      "creating train test splits for targets\n"
     ]
    }
   ],
   "source": [
    "bds = SphericalBlockDataset('../data/earth_nopole.npy', [0,1,2], [3,4,5], downscale=2, intrans=None, outtrans=None)"
   ]
  },
  {
   "cell_type": "code",
   "execution_count": 144,
   "metadata": {},
   "outputs": [
    {
     "data": {
      "text/plain": [
       "torch.return_types.min(\n",
       "values=tensor([3485.0000,    0.0000,    9.6070]),\n",
       "indices=tensor([  0,   0, 159]))"
      ]
     },
     "execution_count": 144,
     "metadata": {},
     "output_type": "execute_result"
    }
   ],
   "source": [
    "bds.curv.view(-1, 3).min(0)"
   ]
  },
  {
   "cell_type": "code",
   "execution_count": 141,
   "metadata": {},
   "outputs": [
    {
     "data": {
      "text/plain": [
       "torch.return_types.max(\n",
       "values=tensor([6371.0000,  360.0000,  170.3930]),\n",
       "indices=tensor([11520000,    57440,        0]))"
      ]
     },
     "execution_count": 141,
     "metadata": {},
     "output_type": "execute_result"
    }
   ],
   "source": [
    "bds.curv.view(-1, 3).max(0)"
   ]
  },
  {
   "cell_type": "code",
   "execution_count": 149,
   "metadata": {},
   "outputs": [
    {
     "name": "stdout",
     "output_type": "stream",
     "text": [
      "torch.Size([1440000, 3]) tensor([3485.0000,    0.0000,   90.5060]) tensor([4913.5000,  179.4986,  170.3930])\n",
      "torch.Size([1440000, 3]) tensor([3485.0000,    0.0000,    9.6070]) tensor([4913.5000,  179.4986,   89.4940])\n",
      "torch.Size([1440000, 3]) tensor([3485.0000,  180.5014,   90.5060]) tensor([4913.5000,  360.0000,  170.3930])\n",
      "torch.Size([1440000, 3]) tensor([3485.0000,  180.5014,    9.6070]) tensor([4913.5000,  360.0000,   89.4940])\n",
      "torch.Size([1440000, 3]) tensor([4928.0000,    0.0000,   90.5060]) tensor([6363.7500,  179.4986,  170.3930])\n",
      "torch.Size([1440000, 3]) tensor([4928.0000,    0.0000,    9.6070]) tensor([6363.7500,  179.4986,   89.4940])\n",
      "torch.Size([1440000, 3]) tensor([4928.0000,  180.5014,   90.5060]) tensor([6363.7500,  360.0000,  170.3930])\n",
      "torch.Size([1440000, 3]) tensor([4928.0000,  180.5014,    9.6070]) tensor([6363.7500,  360.0000,   89.4940])\n"
     ]
    }
   ],
   "source": [
    "for curv_block in bds.curvs:\n",
    "  # curv_block = pp.inverse_transform(curv_block)\n",
    "  print(curv_block.shape, curv_block.min(0)[0], curv_block.max(0)[0])"
   ]
  },
  {
   "cell_type": "code",
   "execution_count": 135,
   "metadata": {},
   "outputs": [
    {
     "data": {
      "text/plain": [
       "(1440000, 3)"
      ]
     },
     "execution_count": 135,
     "metadata": {},
     "output_type": "execute_result"
    }
   ],
   "source": [
    "curv_block[0].shape"
   ]
  },
  {
   "cell_type": "code",
   "execution_count": 97,
   "metadata": {},
   "outputs": [
    {
     "data": {
      "text/plain": [
       "(201, 360, 160, 3)"
      ]
     },
     "execution_count": 97,
     "metadata": {},
     "output_type": "execute_result"
    }
   ],
   "source": [
    "ds = SphericalDataset('../data/earth_nopole.npy', [0,1,2], [3,4,5])\n",
    "ds.curv.shape"
   ]
  },
  {
   "cell_type": "code",
   "execution_count": 98,
   "metadata": {},
   "outputs": [],
   "source": [
    "phys = np.array(ds.cart[100:102, 100:102, 100:102])\n",
    "comp = np.array(ds.curv[100:102, 100:102, 100:102])\n",
    "# phi dimension is decressing, which breaks trilerp implementation\n",
    "comp = np.flip(comp, 2)\n",
    "phys = np.array([sph2car(sph[0], *np.radians(sph[1:])) for sph in comp.reshape(-1, 3)]).reshape(2,2,2,3)"
   ]
  },
  {
   "cell_type": "code",
   "execution_count": 99,
   "metadata": {},
   "outputs": [
    {
     "data": {
      "text/plain": [
       "array([4928.     ,  100.27855,   68.258  ], dtype=float32)"
      ]
     },
     "metadata": {},
     "output_type": "display_data"
    },
    {
     "data": {
      "text/plain": [
       "array([4942.5     ,  101.281334,   69.27    ], dtype=float32)"
      ]
     },
     "metadata": {},
     "output_type": "display_data"
    },
    {
     "name": "stdout",
     "output_type": "stream",
     "text": [
      "Testing point in phys is [-834.1868 4510.0483 1810.3514]\n",
      "Testing point in comp GT is [4930.9     100.4791   68.4604]\n"
     ]
    }
   ],
   "source": [
    "# get the mean coordinate as initial guess\n",
    "init_guess = comp.reshape(-1, 3).mean(0)\n",
    "\n",
    "init_guess\n",
    "\n",
    "low_vtx = comp[0,0,0]\n",
    "high_vtx = comp[1,1,1]\n",
    "xs = [low_vtx[0], high_vtx[0]]\n",
    "ys = [low_vtx[1], high_vtx[1]]\n",
    "zs = [low_vtx[2], high_vtx[2]]\n",
    "\n",
    "cell_coords_x, cell_coords_y, cell_coords_z = np.meshgrid(\n",
    "  xs, ys, zs, indexing='ij',  sparse=False\n",
    ")\n",
    "\n",
    "\n",
    "point = low_vtx + (high_vtx - low_vtx)*0.2\n",
    "display(low_vtx, high_vtx)\n",
    "\n",
    "point_phys = sph2car(point[0], *np.radians(point[1:]))\n",
    "print(f\"Testing point in phys is { point_phys}\")\n",
    "print(f\"Testing point in comp GT is { point}\")\n"
   ]
  },
  {
   "cell_type": "code",
   "execution_count": 55,
   "metadata": {},
   "outputs": [],
   "source": [
    "cfgObj = Config('nntest.yaml')\n",
    "nncfg = Config('nn.yaml')\n",
    "testcfg = cfgObj.config\n",
    "# get model\n",
    "model_path = testcfg['model_path']\n",
    "model = get_model(model_path, nncfg)\n",
    "model.eval()"
   ]
  },
  {
   "cell_type": "code",
   "execution_count": 90,
   "metadata": {},
   "outputs": [
    {
     "data": {
      "text/plain": [
       "array([-834.1868, 4510.0483, 1810.3514], dtype=float32)"
      ]
     },
     "execution_count": 90,
     "metadata": {},
     "output_type": "execute_result"
    }
   ],
   "source": [
    "point_phys"
   ]
  },
  {
   "cell_type": "code",
   "execution_count": 100,
   "metadata": {},
   "outputs": [
    {
     "data": {
      "text/plain": [
       "array([3269.9482  ,  154.27129 ,   42.181812], dtype=float32)"
      ]
     },
     "execution_count": 100,
     "metadata": {},
     "output_type": "execute_result"
    }
   ],
   "source": [
    "point_phys_nn = ds.inpp.transform(point_phys)\n",
    "with torch.no_grad():\n",
    "  comp_est_nn = model(torch.Tensor(point_phys))\n",
    "ds.outpp.inverse_transform(comp_est_nn.numpy())"
   ]
  },
  {
   "cell_type": "code",
   "execution_count": 96,
   "metadata": {},
   "outputs": [
    {
     "data": {
      "text/plain": [
       "array([3269.9482  ,  154.27129 ,   42.181812], dtype=float32)"
      ]
     },
     "execution_count": 96,
     "metadata": {},
     "output_type": "execute_result"
    }
   ],
   "source": [
    "point_phys_nn = ds.inpp.transform(phys[0,0,0])\n",
    "with torch.no_grad():\n",
    "  comp_est_nn = model(torch.Tensor(point_phys))\n",
    "ds.outpp.inverse_transform(comp_est_nn.numpy())"
   ]
  },
  {
   "cell_type": "code",
   "execution_count": 116,
   "metadata": {},
   "outputs": [
    {
     "name": "stdout",
     "output_type": "stream",
     "text": [
      "Testing point in phys is [-834.1868 4510.0483 1810.3514]\n",
      "Testing point in comp GT is [4930.9     100.4791   68.4604]\n",
      "Testing point initial phys_est is [-860.3292 4518.601  1787.5289]\n",
      "\n",
      "\n",
      "0.016889753 0.3105902671813965\n",
      "920781.5 0.09482598304748535\n"
     ]
    }
   ],
   "source": [
    "cic = CurviInterpCell(min_comp=low_vtx, max_comp=high_vtx, phys_coords=phys)\n",
    "print(f\"Testing point in phys is { point_phys}\")\n",
    "print(f\"Testing point in comp GT is { point}\")\n",
    "print(f\"Testing point initial phys_est is {cic.comp2phys(init_guess)[0]}\\n\\n\")\n",
    "st = time()\n",
    "cic = CurviInterpCell(min_comp=low_vtx, max_comp=high_vtx, phys_coords=phys)\n",
    "for i in range(100):\n",
    "  comp_est_newton = cic.phys2comp(point_phys, maxiter=10, tol=1e-4)\n",
    "t_newton = time() - st\n",
    "\n",
    "st = time()\n",
    "for i in range(100):\n",
    "  point_phys_nn = ds.inpp.transform(point_phys)\n",
    "  with torch.no_grad():\n",
    "    comp_est_nn = model(torch.Tensor(point_phys))\n",
    "  comp_est_nn = ds.outpp.inverse_transform(comp_est_nn.numpy())\n",
    "t_nn = time() - st\n",
    "\n",
    "print(mse(comp_est, point), t_newton)\n",
    "print(mse(comp_est_nn, point), t_nn)"
   ]
  },
  {
   "cell_type": "code",
   "execution_count": 31,
   "metadata": {},
   "outputs": [
    {
     "ename": "TypeError",
     "evalue": "_isclose_dispatcher() got an unexpected keyword argument 'trol'",
     "output_type": "error",
     "traceback": [
      "\u001b[0;31m---------------------------------------------------------------------------\u001b[0m",
      "\u001b[0;31mTypeError\u001b[0m                                 Traceback (most recent call last)",
      "\u001b[0;32m<ipython-input-31-c8f717ed6191>\u001b[0m in \u001b[0;36m<module>\u001b[0;34m\u001b[0m\n\u001b[0;32m----> 1\u001b[0;31m \u001b[0mcic\u001b[0m\u001b[0;34m.\u001b[0m\u001b[0mphys2comp\u001b[0m\u001b[0;34m(\u001b[0m\u001b[0mpoint_phys\u001b[0m\u001b[0;34m)\u001b[0m\u001b[0;34m\u001b[0m\u001b[0;34m\u001b[0m\u001b[0m\n\u001b[0m",
      "\u001b[0;32m<ipython-input-22-7d9bfc9f0639>\u001b[0m in \u001b[0;36mphys2comp\u001b[0;34m(self, phys, init_comp, tol, maxiter, rtol)\u001b[0m\n\u001b[1;32m    165\u001b[0m \u001b[0;34m\u001b[0m\u001b[0m\n\u001b[1;32m    166\u001b[0m       \u001b[0mnew_comp\u001b[0m \u001b[0;34m=\u001b[0m \u001b[0mcomp\u001b[0m \u001b[0;34m-\u001b[0m \u001b[0mjac_inv\u001b[0m \u001b[0;34m@\u001b[0m \u001b[0mdiff_funcval\u001b[0m\u001b[0;34m.\u001b[0m\u001b[0mreshape\u001b[0m\u001b[0;34m(\u001b[0m\u001b[0;36m3\u001b[0m\u001b[0;34m,\u001b[0m \u001b[0;36m1\u001b[0m\u001b[0;34m)\u001b[0m\u001b[0;34m\u001b[0m\u001b[0;34m\u001b[0m\u001b[0m\n\u001b[0;32m--> 167\u001b[0;31m       \u001b[0;32mif\u001b[0m \u001b[0mnp\u001b[0m\u001b[0;34m.\u001b[0m\u001b[0misclose\u001b[0m\u001b[0;34m(\u001b[0m\u001b[0mnew_comp\u001b[0m\u001b[0;34m,\u001b[0m \u001b[0mcomp\u001b[0m\u001b[0;34m,\u001b[0m \u001b[0mtrol\u001b[0m\u001b[0;34m=\u001b[0m\u001b[0mrtol\u001b[0m\u001b[0;34m,\u001b[0m \u001b[0matol\u001b[0m\u001b[0;34m=\u001b[0m\u001b[0mtol\u001b[0m\u001b[0;34m)\u001b[0m\u001b[0;34m:\u001b[0m\u001b[0;34m\u001b[0m\u001b[0;34m\u001b[0m\u001b[0m\n\u001b[0m\u001b[1;32m    168\u001b[0m         \u001b[0mprint\u001b[0m\u001b[0;34m(\u001b[0m\u001b[0;34mf'iter {i}'\u001b[0m\u001b[0;34m)\u001b[0m\u001b[0;34m\u001b[0m\u001b[0;34m\u001b[0m\u001b[0m\n\u001b[1;32m    169\u001b[0m         \u001b[0;32mreturn\u001b[0m \u001b[0mnew_comp\u001b[0m\u001b[0;34m\u001b[0m\u001b[0;34m\u001b[0m\u001b[0m\n",
      "\u001b[0;32m<__array_function__ internals>\u001b[0m in \u001b[0;36misclose\u001b[0;34m(*args, **kwargs)\u001b[0m\n",
      "\u001b[0;31mTypeError\u001b[0m: _isclose_dispatcher() got an unexpected keyword argument 'trol'"
     ]
    }
   ],
   "source": [
    "cic.phys2comp(point_phys)"
   ]
  },
  {
   "cell_type": "code",
   "execution_count": null,
   "metadata": {},
   "outputs": [],
   "source": [
    "cell_coords = np.concatenate([cell_coords_x[...,None], cell_coords_y[...,None], cell_coords_z[...,None]], -1)"
   ]
  },
  {
   "cell_type": "code",
   "execution_count": 21,
   "metadata": {},
   "outputs": [
    {
     "name": "stdout",
     "output_type": "stream",
     "text": [
      "4928.0 4942.5 4928.0 4942.5 4928.0 4942.5 4928.0 4942.5\n",
      "100.27855 100.27855 101.281334 101.281334 100.27855 100.27855 101.281334 101.281334\n",
      "69.27 69.27 69.27 69.27 68.258 68.258 68.258 68.258\n"
     ]
    },
    {
     "data": {
      "text/plain": [
       "(array([5361.5796  ,  136.56906 ,   57.702682], dtype=float32),\n",
       " array([[   0.,   16.,    0.,    0.,    0.,    0.,    0.,    0.],\n",
       "        [   0.,    0.,   20.,    0.,    0.,    0.,    0.,    0.],\n",
       "        [-256.,    0.,    0.,   16.,    0.,    0.,    0.,    0.]],\n",
       "       dtype=float32))"
      ]
     },
     "execution_count": 21,
     "metadata": {},
     "output_type": "execute_result"
    }
   ],
   "source": [
    "comp2phy(point, low_vtx, high_vtx, cell_coords)"
   ]
  },
  {
   "cell_type": "code",
   "execution_count": 17,
   "metadata": {},
   "outputs": [],
   "source": []
  },
  {
   "cell_type": "code",
   "execution_count": 18,
   "metadata": {},
   "outputs": [
    {
     "ename": "ValueError",
     "evalue": "not enough values to unpack (expected 3, got 1)",
     "output_type": "error",
     "traceback": [
      "\u001b[0;31m---------------------------------------------------------------------------\u001b[0m",
      "\u001b[0;31mValueError\u001b[0m                                Traceback (most recent call last)",
      "\u001b[0;32m<ipython-input-18-be09d6166039>\u001b[0m in \u001b[0;36m<module>\u001b[0;34m\u001b[0m\n\u001b[0;32m----> 1\u001b[0;31m \u001b[0msol\u001b[0m \u001b[0;34m=\u001b[0m \u001b[0mop\u001b[0m\u001b[0;34m.\u001b[0m\u001b[0mroot\u001b[0m\u001b[0;34m(\u001b[0m\u001b[0mdiff_phys_dim\u001b[0m\u001b[0;34m,\u001b[0m \u001b[0mx0\u001b[0m\u001b[0;34m=\u001b[0m\u001b[0minit_guess\u001b[0m\u001b[0;34m[\u001b[0m\u001b[0;36m0\u001b[0m\u001b[0;34m]\u001b[0m\u001b[0;34m,\u001b[0m \u001b[0margs\u001b[0m\u001b[0;34m=\u001b[0m\u001b[0;34m(\u001b[0m\u001b[0mpoint_phys\u001b[0m\u001b[0;34m,\u001b[0m \u001b[0mlow_vtx\u001b[0m\u001b[0;34m,\u001b[0m \u001b[0mhigh_vtx\u001b[0m\u001b[0;34m,\u001b[0m \u001b[0mcell_coords\u001b[0m\u001b[0;34m)\u001b[0m\u001b[0;34m)\u001b[0m\u001b[0;34m\u001b[0m\u001b[0;34m\u001b[0m\u001b[0m\n\u001b[0m",
      "\u001b[0;32m~/.conda/envs/vis/lib/python3.7/site-packages/scipy/optimize/_root.py\u001b[0m in \u001b[0;36mroot\u001b[0;34m(fun, x0, args, method, jac, tol, callback, options)\u001b[0m\n\u001b[1;32m    185\u001b[0m \u001b[0;34m\u001b[0m\u001b[0m\n\u001b[1;32m    186\u001b[0m     \u001b[0;32mif\u001b[0m \u001b[0mmeth\u001b[0m \u001b[0;34m==\u001b[0m \u001b[0;34m'hybr'\u001b[0m\u001b[0;34m:\u001b[0m\u001b[0;34m\u001b[0m\u001b[0;34m\u001b[0m\u001b[0m\n\u001b[0;32m--> 187\u001b[0;31m         \u001b[0msol\u001b[0m \u001b[0;34m=\u001b[0m \u001b[0m_root_hybr\u001b[0m\u001b[0;34m(\u001b[0m\u001b[0mfun\u001b[0m\u001b[0;34m,\u001b[0m \u001b[0mx0\u001b[0m\u001b[0;34m,\u001b[0m \u001b[0margs\u001b[0m\u001b[0;34m=\u001b[0m\u001b[0margs\u001b[0m\u001b[0;34m,\u001b[0m \u001b[0mjac\u001b[0m\u001b[0;34m=\u001b[0m\u001b[0mjac\u001b[0m\u001b[0;34m,\u001b[0m \u001b[0;34m**\u001b[0m\u001b[0moptions\u001b[0m\u001b[0;34m)\u001b[0m\u001b[0;34m\u001b[0m\u001b[0;34m\u001b[0m\u001b[0m\n\u001b[0m\u001b[1;32m    188\u001b[0m     \u001b[0;32melif\u001b[0m \u001b[0mmeth\u001b[0m \u001b[0;34m==\u001b[0m \u001b[0;34m'lm'\u001b[0m\u001b[0;34m:\u001b[0m\u001b[0;34m\u001b[0m\u001b[0;34m\u001b[0m\u001b[0m\n\u001b[1;32m    189\u001b[0m         \u001b[0msol\u001b[0m \u001b[0;34m=\u001b[0m \u001b[0m_root_leastsq\u001b[0m\u001b[0;34m(\u001b[0m\u001b[0mfun\u001b[0m\u001b[0;34m,\u001b[0m \u001b[0mx0\u001b[0m\u001b[0;34m,\u001b[0m \u001b[0margs\u001b[0m\u001b[0;34m=\u001b[0m\u001b[0margs\u001b[0m\u001b[0;34m,\u001b[0m \u001b[0mjac\u001b[0m\u001b[0;34m=\u001b[0m\u001b[0mjac\u001b[0m\u001b[0;34m,\u001b[0m \u001b[0;34m**\u001b[0m\u001b[0moptions\u001b[0m\u001b[0;34m)\u001b[0m\u001b[0;34m\u001b[0m\u001b[0;34m\u001b[0m\u001b[0m\n",
      "\u001b[0;32m~/.conda/envs/vis/lib/python3.7/site-packages/scipy/optimize/minpack.py\u001b[0m in \u001b[0;36m_root_hybr\u001b[0;34m(func, x0, args, jac, col_deriv, xtol, maxfev, band, eps, factor, diag, **unknown_options)\u001b[0m\n\u001b[1;32m    224\u001b[0m     \u001b[0;32mif\u001b[0m \u001b[0;32mnot\u001b[0m \u001b[0misinstance\u001b[0m\u001b[0;34m(\u001b[0m\u001b[0margs\u001b[0m\u001b[0;34m,\u001b[0m \u001b[0mtuple\u001b[0m\u001b[0;34m)\u001b[0m\u001b[0;34m:\u001b[0m\u001b[0;34m\u001b[0m\u001b[0;34m\u001b[0m\u001b[0m\n\u001b[1;32m    225\u001b[0m         \u001b[0margs\u001b[0m \u001b[0;34m=\u001b[0m \u001b[0;34m(\u001b[0m\u001b[0margs\u001b[0m\u001b[0;34m,\u001b[0m\u001b[0;34m)\u001b[0m\u001b[0;34m\u001b[0m\u001b[0;34m\u001b[0m\u001b[0m\n\u001b[0;32m--> 226\u001b[0;31m     \u001b[0mshape\u001b[0m\u001b[0;34m,\u001b[0m \u001b[0mdtype\u001b[0m \u001b[0;34m=\u001b[0m \u001b[0m_check_func\u001b[0m\u001b[0;34m(\u001b[0m\u001b[0;34m'fsolve'\u001b[0m\u001b[0;34m,\u001b[0m \u001b[0;34m'func'\u001b[0m\u001b[0;34m,\u001b[0m \u001b[0mfunc\u001b[0m\u001b[0;34m,\u001b[0m \u001b[0mx0\u001b[0m\u001b[0;34m,\u001b[0m \u001b[0margs\u001b[0m\u001b[0;34m,\u001b[0m \u001b[0mn\u001b[0m\u001b[0;34m,\u001b[0m \u001b[0;34m(\u001b[0m\u001b[0mn\u001b[0m\u001b[0;34m,\u001b[0m\u001b[0;34m)\u001b[0m\u001b[0;34m)\u001b[0m\u001b[0;34m\u001b[0m\u001b[0;34m\u001b[0m\u001b[0m\n\u001b[0m\u001b[1;32m    227\u001b[0m     \u001b[0;32mif\u001b[0m \u001b[0mepsfcn\u001b[0m \u001b[0;32mis\u001b[0m \u001b[0;32mNone\u001b[0m\u001b[0;34m:\u001b[0m\u001b[0;34m\u001b[0m\u001b[0;34m\u001b[0m\u001b[0m\n\u001b[1;32m    228\u001b[0m         \u001b[0mepsfcn\u001b[0m \u001b[0;34m=\u001b[0m \u001b[0mfinfo\u001b[0m\u001b[0;34m(\u001b[0m\u001b[0mdtype\u001b[0m\u001b[0;34m)\u001b[0m\u001b[0;34m.\u001b[0m\u001b[0meps\u001b[0m\u001b[0;34m\u001b[0m\u001b[0;34m\u001b[0m\u001b[0m\n",
      "\u001b[0;32m~/.conda/envs/vis/lib/python3.7/site-packages/scipy/optimize/minpack.py\u001b[0m in \u001b[0;36m_check_func\u001b[0;34m(checker, argname, thefunc, x0, args, numinputs, output_shape)\u001b[0m\n\u001b[1;32m     22\u001b[0m def _check_func(checker, argname, thefunc, x0, args, numinputs,\n\u001b[1;32m     23\u001b[0m                 output_shape=None):\n\u001b[0;32m---> 24\u001b[0;31m     \u001b[0mres\u001b[0m \u001b[0;34m=\u001b[0m \u001b[0matleast_1d\u001b[0m\u001b[0;34m(\u001b[0m\u001b[0mthefunc\u001b[0m\u001b[0;34m(\u001b[0m\u001b[0;34m*\u001b[0m\u001b[0;34m(\u001b[0m\u001b[0;34m(\u001b[0m\u001b[0mx0\u001b[0m\u001b[0;34m[\u001b[0m\u001b[0;34m:\u001b[0m\u001b[0mnuminputs\u001b[0m\u001b[0;34m]\u001b[0m\u001b[0;34m,\u001b[0m\u001b[0;34m)\u001b[0m \u001b[0;34m+\u001b[0m \u001b[0margs\u001b[0m\u001b[0;34m)\u001b[0m\u001b[0;34m)\u001b[0m\u001b[0;34m)\u001b[0m\u001b[0;34m\u001b[0m\u001b[0;34m\u001b[0m\u001b[0m\n\u001b[0m\u001b[1;32m     25\u001b[0m     \u001b[0;32mif\u001b[0m \u001b[0;34m(\u001b[0m\u001b[0moutput_shape\u001b[0m \u001b[0;32mis\u001b[0m \u001b[0;32mnot\u001b[0m \u001b[0;32mNone\u001b[0m\u001b[0;34m)\u001b[0m \u001b[0;32mand\u001b[0m \u001b[0;34m(\u001b[0m\u001b[0mshape\u001b[0m\u001b[0;34m(\u001b[0m\u001b[0mres\u001b[0m\u001b[0;34m)\u001b[0m \u001b[0;34m!=\u001b[0m \u001b[0moutput_shape\u001b[0m\u001b[0;34m)\u001b[0m\u001b[0;34m:\u001b[0m\u001b[0;34m\u001b[0m\u001b[0;34m\u001b[0m\u001b[0m\n\u001b[1;32m     26\u001b[0m         \u001b[0;32mif\u001b[0m \u001b[0;34m(\u001b[0m\u001b[0moutput_shape\u001b[0m\u001b[0;34m[\u001b[0m\u001b[0;36m0\u001b[0m\u001b[0;34m]\u001b[0m \u001b[0;34m!=\u001b[0m \u001b[0;36m1\u001b[0m\u001b[0;34m)\u001b[0m\u001b[0;34m:\u001b[0m\u001b[0;34m\u001b[0m\u001b[0;34m\u001b[0m\u001b[0m\n",
      "\u001b[0;32m<ipython-input-5-806b8c8c8097>\u001b[0m in \u001b[0;36mdiff_phys_dim\u001b[0;34m(comp, phys, vtx_low, vtx_high, cell_coords_dim)\u001b[0m\n\u001b[1;32m    133\u001b[0m \u001b[0;34m\u001b[0m\u001b[0m\n\u001b[1;32m    134\u001b[0m \u001b[0;32mdef\u001b[0m \u001b[0mdiff_phys_dim\u001b[0m\u001b[0;34m(\u001b[0m\u001b[0mcomp\u001b[0m\u001b[0;34m:\u001b[0m \u001b[0mnp\u001b[0m\u001b[0;34m.\u001b[0m\u001b[0mndarray\u001b[0m\u001b[0;34m,\u001b[0m \u001b[0mphys\u001b[0m\u001b[0;34m:\u001b[0m \u001b[0mnp\u001b[0m\u001b[0;34m.\u001b[0m\u001b[0mndarray\u001b[0m\u001b[0;34m,\u001b[0m \u001b[0mvtx_low\u001b[0m\u001b[0;34m,\u001b[0m \u001b[0mvtx_high\u001b[0m\u001b[0;34m,\u001b[0m \u001b[0mcell_coords_dim\u001b[0m\u001b[0;34m)\u001b[0m\u001b[0;34m:\u001b[0m\u001b[0;34m\u001b[0m\u001b[0;34m\u001b[0m\u001b[0m\n\u001b[0;32m--> 135\u001b[0;31m   \u001b[0mphys_est\u001b[0m \u001b[0;34m=\u001b[0m \u001b[0mtrilerp\u001b[0m\u001b[0;34m(\u001b[0m\u001b[0mcomp\u001b[0m\u001b[0;34m,\u001b[0m \u001b[0mvtx_low\u001b[0m\u001b[0;34m,\u001b[0m \u001b[0mvtx_high\u001b[0m\u001b[0;34m,\u001b[0m \u001b[0mcell_coords_dim\u001b[0m\u001b[0;34m)\u001b[0m\u001b[0;34m\u001b[0m\u001b[0;34m\u001b[0m\u001b[0m\n\u001b[0m\u001b[1;32m    136\u001b[0m   \u001b[0;32mreturn\u001b[0m \u001b[0mphys\u001b[0m \u001b[0;34m-\u001b[0m \u001b[0mphys_est\u001b[0m\u001b[0;34m\u001b[0m\u001b[0;34m\u001b[0m\u001b[0m\n\u001b[1;32m    137\u001b[0m \u001b[0;31m# op.root_scalar(diff_phys, method='newton')\u001b[0m\u001b[0;34m\u001b[0m\u001b[0;34m\u001b[0m\u001b[0;34m\u001b[0m\u001b[0m\n",
      "\u001b[0;32m<ipython-input-5-806b8c8c8097>\u001b[0m in \u001b[0;36mtrilerp\u001b[0;34m(coord, low_vtx, high_vtx, cell_val)\u001b[0m\n\u001b[1;32m     75\u001b[0m \u001b[0;31m# //    000       100\u001b[0m\u001b[0;34m\u001b[0m\u001b[0;34m\u001b[0m\u001b[0;34m\u001b[0m\u001b[0m\n\u001b[1;32m     76\u001b[0m \u001b[0;32mdef\u001b[0m \u001b[0mtrilerp\u001b[0m\u001b[0;34m(\u001b[0m\u001b[0mcoord\u001b[0m\u001b[0;34m:\u001b[0m \u001b[0mnp\u001b[0m\u001b[0;34m.\u001b[0m\u001b[0mndarray\u001b[0m\u001b[0;34m,\u001b[0m \u001b[0mlow_vtx\u001b[0m\u001b[0;34m:\u001b[0m \u001b[0mnp\u001b[0m\u001b[0;34m.\u001b[0m\u001b[0mndarray\u001b[0m\u001b[0;34m,\u001b[0m \u001b[0mhigh_vtx\u001b[0m\u001b[0;34m:\u001b[0m \u001b[0mnp\u001b[0m\u001b[0;34m.\u001b[0m\u001b[0mndarray\u001b[0m\u001b[0;34m,\u001b[0m \u001b[0mcell_val\u001b[0m\u001b[0;34m:\u001b[0m \u001b[0mnp\u001b[0m\u001b[0;34m.\u001b[0m\u001b[0mndarray\u001b[0m\u001b[0;34m)\u001b[0m\u001b[0;34m:\u001b[0m\u001b[0;34m\u001b[0m\u001b[0;34m\u001b[0m\u001b[0m\n\u001b[0;32m---> 77\u001b[0;31m   \u001b[0mx\u001b[0m\u001b[0;34m,\u001b[0m \u001b[0my\u001b[0m\u001b[0;34m,\u001b[0m \u001b[0mz\u001b[0m \u001b[0;34m=\u001b[0m \u001b[0mcoord\u001b[0m\u001b[0;34m\u001b[0m\u001b[0;34m\u001b[0m\u001b[0m\n\u001b[0m\u001b[1;32m     78\u001b[0m   \u001b[0mx0\u001b[0m\u001b[0;34m,\u001b[0m\u001b[0my0\u001b[0m\u001b[0;34m,\u001b[0m\u001b[0mz0\u001b[0m \u001b[0;34m=\u001b[0m \u001b[0mlow_vtx\u001b[0m\u001b[0;34m\u001b[0m\u001b[0;34m\u001b[0m\u001b[0m\n\u001b[1;32m     79\u001b[0m   \u001b[0mx1\u001b[0m\u001b[0;34m,\u001b[0m\u001b[0my1\u001b[0m\u001b[0;34m,\u001b[0m\u001b[0mz1\u001b[0m \u001b[0;34m=\u001b[0m \u001b[0mhigh_vtx\u001b[0m\u001b[0;34m\u001b[0m\u001b[0;34m\u001b[0m\u001b[0m\n",
      "\u001b[0;31mValueError\u001b[0m: not enough values to unpack (expected 3, got 1)"
     ]
    }
   ],
   "source": [
    "sol = op.root(diff_phys_dim, x0=init_guess[0], args=(point_phys, low_vtx, high_vtx, cell_coords_x))"
   ]
  },
  {
   "cell_type": "code",
   "execution_count": 238,
   "metadata": {},
   "outputs": [
    {
     "data": {
      "text/plain": [
       "array([4935.25   ,  100.77994,   68.764  ], dtype=float32)"
      ]
     },
     "execution_count": 238,
     "metadata": {},
     "output_type": "execute_result"
    }
   ],
   "source": [
    "init_guess"
   ]
  },
  {
   "cell_type": "code",
   "execution_count": 237,
   "metadata": {},
   "outputs": [
    {
     "data": {
      "text/plain": [
       "array([    1671.23568275, -1353139.43757878,  -336520.7910641 ])"
      ]
     },
     "execution_count": 237,
     "metadata": {},
     "output_type": "execute_result"
    }
   ],
   "source": [
    "sol.x"
   ]
  },
  {
   "cell_type": "code",
   "execution_count": 85,
   "metadata": {},
   "outputs": [
    {
     "name": "stdout",
     "output_type": "stream",
     "text": [
      "0.215 0.282 0.2162\n",
      "-1 -2 -3\n",
      "1 2 3\n",
      "-48\n",
      "-48\n",
      "0\n",
      "1\n",
      "10\n",
      "11\n",
      "100\n",
      "101\n",
      "110\n",
      "111\n",
      "gt: 24.655    -      lerp: (59.91583333333333, array([-2664,   -24,  -120,  -800,     0,     0,     0,     0]))\n"
     ]
    }
   ],
   "source": [
    "xg, yg ,zg = np.meshgrid([0,1], [0,1], [0,1],indexing='ij',  sparse=True)\n",
    "def f(x,y,z):\n",
    "  return x + 10*y + 100*z\n",
    "# my lerp\n",
    "coord = [0.215, 0.282, 0.2162]\n",
    "low_vtx = [-1,-2,-3]\n",
    "high_vtx = [1,2,3]\n",
    "cell_val = f(xg, yg, zg)\n",
    "interpolant = trilerp(coord, low_vtx, high_vtx, cell_val)\n",
    "gt = f(*coord)\n",
    "print(f\"gt: {gt}    -      lerp: {interpolant}\")"
   ]
  },
  {
   "cell_type": "code",
   "execution_count": 91,
   "metadata": {},
   "outputs": [
    {
     "data": {
      "text/plain": [
       "array([100.27855 , 101.281334], dtype=float32)"
      ]
     },
     "execution_count": 91,
     "metadata": {},
     "output_type": "execute_result"
    }
   ],
   "source": [
    "comp[...,1][0,:,0]"
   ]
  },
  {
   "cell_type": "code",
   "execution_count": null,
   "metadata": {},
   "outputs": [],
   "source": [
    "diff_phys(phys, comp, )"
   ]
  },
  {
   "cell_type": "code",
   "execution_count": 84,
   "metadata": {},
   "outputs": [
    {
     "data": {
      "text/plain": [
       "array([59.91583333])"
      ]
     },
     "execution_count": 84,
     "metadata": {},
     "output_type": "execute_result"
    }
   ],
   "source": [
    "# SCIPY lerp\n",
    "from scipy.interpolate import RegularGridInterpolator\n",
    "\n",
    "# x = np.arange(2)\n",
    "# y = np.arange(2)\n",
    "# z = np.arange(2)\n",
    "# xg, yg ,zg = np.meshgrid(x, y, z, indexing='ij', sparse=True)\n",
    "# data = f(xg, yg, zg)\n",
    "\n",
    "x= comp[...,0][:,0,0]\n",
    "y= comp[...,1][0,:,0]\n",
    "z= comp[...,2][0,0,:]\n",
    "\n",
    "xs = [low_vtx[0], high_vtx[0]]\n",
    "ys = [low_vtx[1], high_vtx[1]]\n",
    "zs = [low_vtx[2], high_vtx[2]]\n",
    "\n",
    "my_interpolating_function = RegularGridInterpolator((xs, ys, zs), cell_val)\n",
    "my_interpolating_function(coord)"
   ]
  }
 ],
 "metadata": {
  "interpreter": {
   "hash": "d82c3ef9a9c52ca48f89a57a471345d340895240528db2b7c56159ebd2138f11"
  },
  "kernelspec": {
   "display_name": "Python 3.7.10 ('vis': conda)",
   "language": "python",
   "name": "python3"
  },
  "language_info": {
   "codemirror_mode": {
    "name": "ipython",
    "version": 3
   },
   "file_extension": ".py",
   "mimetype": "text/x-python",
   "name": "python",
   "nbconvert_exporter": "python",
   "pygments_lexer": "ipython3",
   "version": "3.7.10"
  },
  "orig_nbformat": 4
 },
 "nbformat": 4,
 "nbformat_minor": 2
}
