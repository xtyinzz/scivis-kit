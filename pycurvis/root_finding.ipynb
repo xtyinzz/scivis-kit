{
 "cells": [
  {
   "cell_type": "code",
   "execution_count": 1,
   "metadata": {},
   "outputs": [],
   "source": [
    "%load_ext autoreload\n",
    "%autoreload 2\n",
    "import torch\n",
    "import torch.nn as nn\n",
    "from cfg.configs import Config\n",
    "from util.args import parse_args\n",
    "import numpy as np\n",
    "import scipy.optimize as op\n",
    "from data.data import SphericalDataset, SphericalBlockDataset, minmax_scale, normalization\n",
    "from eval.util import mse, mae\n",
    "from train import load_checkpoint, load_checkpoint_block\n",
    "from time import time\n",
    "from data.vec_io import *\n",
    "from data.vis_io import *"
   ]
  },
  {
   "cell_type": "markdown",
   "metadata": {},
   "source": [
    "### Rooting Finding: phys -> comp"
   ]
  },
  {
   "cell_type": "code",
   "execution_count": 2,
   "metadata": {},
   "outputs": [],
   "source": [
    "def deg2rad(deg):\n",
    "  return deg * np.pi / 180\n",
    "\n",
    "# for numerical isse\n",
    "def mysin(a):\n",
    "  val = np.sin(a)\n",
    "  val = close_round(val, 0)\n",
    "  val = close_round(val, 1)\n",
    "  return val\n",
    "\n",
    "def mycos(a):\n",
    "  val = np.cos(a)\n",
    "  val = close_round(val, 0)\n",
    "  val = close_round(val, 1)\n",
    "  return val\n",
    "\n",
    "def close_round(val, test_val, abs_bounds=1e-12):\n",
    "  isclose = np.abs(test_val - val) < abs_bounds\n",
    "  # print(isclose)\n",
    "  if isinstance(val, float) or isinstance(val, int) or np.float32:\n",
    "    val_cp = test_val if isclose else val\n",
    "  else:\n",
    "    val_cp = val.copy()\n",
    "    val_cp[isclose] = test_val\n",
    "  return val_cp\n",
    "\n",
    "def sph2car(r, theta, phi):\n",
    "  # x_coef = np.sin(phi)*np.cos(theta)\n",
    "  # y_coef = np.around(np.sin(phi)*np.sin(theta), decimals=10)\n",
    "  # z_coef = np.around(np.cos(phi), decimals=10)\n",
    "  x = r*mysin(phi)*mycos(theta)\n",
    "  y = r*mysin(phi)*mysin(theta)\n",
    "  z = r*mycos(phi)\n",
    "  \n",
    "  return np.array([x,y,z])\n",
    "\n",
    "def car2sph(x, y, z):\n",
    "  # assert (x or y) != 0\n",
    "  r = np.sqrt(x*x + y*y + z*z)\n",
    "  theta = np.arctan(y/x)\n",
    "  phi = np.arctan(np.sqrt(x*x + y*y) / z)\n",
    "  # if x > 0:\n",
    "  #   phi = np.arctan(y/x)\n",
    "  # elif x < 0 and y >= 0:\n",
    "  #   phi = np.arctan(y/x)+np.pi\n",
    "  # elif x < 0 and y < 0:\n",
    "  #   phi == np.arctan(y/x)-np.pi\n",
    "  # elif x == 0 and y > 0:\n",
    "  #   phi = np.pi/2\n",
    "  # elif x == 0 and y < 0:\n",
    "  #   phi = -np.pi/2\n",
    "\n",
    "  return np.array([r,theta,phi])\n",
    "# //\n",
    "# //\t\t    6________7  high-vtx\n",
    "# //\t\t   /|       /|\n",
    "# //\t\t  / |      / |\n",
    "# //\t\t4/_______5/  |\n",
    "# //\t\t|  2|___ |___|3\n",
    "# //\t\t|  /     |  /\n",
    "# //\t\t| /      | /\n",
    "# //\t\t|/_______|/\n",
    "# //\t\t0        1\n",
    "# //  low_vtx\n",
    "\n",
    "# //\n",
    "# //\t\t 011_________111  high-vtx\n",
    "# //\t\t   /|       /|\n",
    "# //\t\t  / |      / |\n",
    "# //\t001/_____101/  |\n",
    "# //\t\t|010|___ |___|110\n",
    "# //\t\t|  /     |  /\n",
    "# //\t\t| /      | /\n",
    "# //\t\t|/_______|/\n",
    "# //\t000       100\n",
    "\n",
    "\n",
    "def trilerp(coord: np.ndarray, low_vtx: np.ndarray, high_vtx: np.ndarray, cell_val: np.ndarray):\n",
    "  # x0,y0,z0 = low_vtx\n",
    "  # x1,y1,z1 = high_vtx\n",
    "  # x, y, z = coord\n",
    "\n",
    "  # low_vtx, high_vtx, coord = normalization(np.array([low_vtx, high_vtx, coord]), new_min=0, dim=0)\n",
    "\n",
    "  # TODO: Why trilerp doesn't work if low and high are not normalized to 1\n",
    "  x, y, z = (coord - low_vtx) / (high_vtx - low_vtx)\n",
    "  low_vtx = np.zeros(3)\n",
    "  high_vtx = np.ones(3)\n",
    "  x0,y0,z0 = low_vtx\n",
    "  x1,y1,z1 = high_vtx\n",
    "\n",
    "  v000 = cell_val[0,0,0]\n",
    "  v100 = cell_val[1,0,0]\n",
    "  v010 = cell_val[0,1,0]\n",
    "  v110 = cell_val[1,1,0]\n",
    "  v001 = cell_val[0,0,1]\n",
    "  v101 = cell_val[1,0,1]\n",
    "  v011 = cell_val[0,1,1]\n",
    "  v111 = cell_val[1,1,1]\n",
    "  # print(x, y, z)\n",
    "  # print(x0, y0, z0)\n",
    "  # print(x1, y1, z1)\n",
    "  # print((x0-x1)*(y0-y1)*(z0-z1))\n",
    "  # print(((x0-x1)*(y0-y1)*(z0-z1)))\n",
    "  # for cord in [v000, v100, v010, v110, v001, v101, v011, v111]:\n",
    "  #   print(cord)\n",
    "  a0 = (\n",
    "    (-v000*x1*y1*z1 + v001*x1*y1*z0 + v010*x1*y0*z1 - v011*x1*y0*z0 + \n",
    "    v100*x0*y1*z1 - v101*x0*y1*z0 - v110*x0*y0*z1 + v111*x0*y0*z0)\n",
    "  )\n",
    "  a1 = (\n",
    "    (v000*z1*y1 - v001*z0*y1 - v010*z1*y0 + v011*z0*y0 - \n",
    "    v100*z1*y1 + v101*z0*y1 + v110*z1*y0 - v111*z0*y0)\n",
    "  )\n",
    "  a2 = (\n",
    "    (v000*x1*z1 - v001*x1*z0 - v010*x1*z1 + v011*x1*z0 - \n",
    "    v100*x0*z1 + v101*x0*z0 + v110*x0*z1 - v111*x0*z0)\n",
    "  )\n",
    "  a3 = (\n",
    "    (v000*x1*y1 - v001*x1*y1 - v010*x1*y0 + v011*x1*y0 - \n",
    "    v100*x0*y1 + v101*x0*y1 + v110*x0*y0 - v111*x0*y0)\n",
    "  )\n",
    "  a4 = (\n",
    "    (-v000*z1 + v001*z0 + v010*z1 - v011*z0 + \n",
    "    v100*z1 - v101*z0 - v110*z1 + v111*z0)\n",
    "  )\n",
    "  a5 = (\n",
    "    (-v000*y1 + v001*y1 + v010*y0 - v011*y0 + \n",
    "    v100*y1 - v101*y1 - v110*y0 + v111*y0)\n",
    "  )\n",
    "  a6 = (\n",
    "    (-v000*x1 + v001*x1 + v010*x1 - v011*x1 + \n",
    "    v100*x0 - v101*x0 - v110*x0 + v111*x0)\n",
    "  )\n",
    "  a7 = (\n",
    "    (v000 - v001 - v010 + v011 -v100 + v101 + v110 - v111)\n",
    "  )\n",
    "  interpolant = (a0 + a1*x + a2*y + a3*z + a4*x*y + a5*x*z + a6*y*z + a7*x*y*z) / ((x0-x1)*(y0-y1)*(z0-z1))\n",
    "  coeff = np.array([a0, a1, a2, a3, a4, a5, a6, a7]).T\n",
    "  return interpolant, coeff\n",
    "\n",
    "# G\n",
    "def comp2phys(comp: np.ndarray, vtx_low, vtx_high, cell_coords):\n",
    "  phys_est_x, a = trilerp(comp, vtx_low, vtx_high, cell_coords[..., 0])\n",
    "  phys_est_y, b = trilerp(comp, vtx_low, vtx_high, cell_coords[..., 1])\n",
    "  phys_est_z, c = trilerp(comp, vtx_low, vtx_high, cell_coords[..., 2])\n",
    "  return np.array([phys_est_x, phys_est_y, phys_est_z]), np.array([a,b,c])\n",
    "\n",
    "# F\n",
    "def diff_phys(comp: np.ndarray, phys: np.ndarray, vtx_low, vtx_high, cell_coords):\n",
    "  phys_est, coeff = comp2phys(comp, vtx_low, vtx_high, cell_coords)\n",
    "  return phys - phys_est\n",
    "\n",
    "def diff_phys_dim(comp: np.ndarray, phys: np.ndarray, vtx_low, vtx_high, cell_coords_dim):\n",
    "  phys_est = trilerp(comp, vtx_low, vtx_high, cell_coords_dim)\n",
    "  return phys - phys_est\n",
    "# op.root_scalar(diff_phys, method='newton')\n",
    "\n",
    "def diff_phys_dim_inv_jac():\n",
    "  pass\n",
    "\n",
    "class CurviInterpField:\n",
    "  def __init__(self):\n",
    "    pass\n",
    "\n",
    "class CurviInterpCell:\n",
    "  def __init__(self, min_comp, max_comp, phys_coords):\n",
    "    self.min_comp = np.array(min_comp)\n",
    "    self.max_comp = np.array(max_comp)\n",
    "    self.phys = phys_coords\n",
    "    self.init_comp = min_comp + (max_comp - min_comp) / 2\n",
    "    self.coeff = None\n",
    "\n",
    "    # xs = [min_comp[0], max_comp[0]]\n",
    "    # ys = [min_comp[1], max_comp[1]]\n",
    "    # zs = [min_comp[2], max_comp[2]]\n",
    "    # self.interp = RegularGridInterpolator((xs, ys, zs), phys_coords)\n",
    "\n",
    "  # Newton's method to find computational coordinate given physical cooridnate\n",
    "  def phys2comp(self, phys: np.ndarray, init_comp=None, tol=1.48e-8, maxiter=50, rtol=0.0):\n",
    "    if init_comp is None:\n",
    "      init_comp = self.init_comp\n",
    "\n",
    "    comp = init_comp\n",
    "    goal_diff = np.zeros(3)\n",
    "    for i in range(maxiter):\n",
    "      phys_est, coeff = self.comp2phys(comp)\n",
    "      diff_funcval = (phys_est - phys)\n",
    "\n",
    "      jac_inv = self.get_jacobian_inv(comp, coeff)\n",
    "\n",
    "      new_comp = comp - (jac_inv @ diff_funcval.reshape(3, 1)).flatten()\n",
    "      # print(\"My Jac inv\\n\", jac_inv, diff_funcval, \"\\n\")\n",
    "      # print(phys_est.shape, coeff.shape, phys.shape)\n",
    "      # print(new_comp.shape, comp.shape)\n",
    "      # print(jac_inv.shape, diff_funcval.shape)\n",
    "      # print(f'coeff: {coeff[:, 0]}')\n",
    "      print(f'phys_est: {phys_est} comp: {new_comp}  error: {np.abs(diff_funcval-goal_diff)}')\n",
    "      # if np.all(np.isclose(new_comp, comp, rtol=rtol, atol=tol)):\n",
    "      if np.all(np.isclose(diff_funcval, goal_diff, rtol=rtol, atol=tol)):\n",
    "        print(f'iter {i}')\n",
    "        return new_comp\n",
    "      comp = new_comp\n",
    "    return comp\n",
    "\n",
    "  # def phys2comp(self, phys):\n",
    "  #   return self.find_comp(phys)\n",
    "\n",
    "  def comp2phys(self, comp):\n",
    "    phys_est, coeff = trilerp(comp, self.min_comp, self.max_comp, self.phys)\n",
    "    # phys_est_y, b = trilerp(comp, self.min_comp, self.max_comp, self.phys[..., 1])\n",
    "    # phys_est_z, c = trilerp(comp, self.min_comp, self.max_comp, self.phys[..., 2])\n",
    "    # self.coeff = np.array([a,b,c])\n",
    "    # return np.array([phys_est_x, phys_est_y, phys_est_z]), np.array([a,b,c])\n",
    "    # print(phys_est.shape, coeff.shape)\n",
    "    # self.interp(comp)\n",
    "    return phys_est, coeff\n",
    "  \n",
    "  def get_jacobian(self, comp, coeff):\n",
    "    a,b,c = coeff\n",
    "    # print(\"COE: \\n\", coeff.T)\n",
    "    # print(\"My COMP: \\n\", comp)\n",
    "    return np.array([\n",
    "      [\n",
    "        a[1] + a[4]*comp[1] + a[5]*comp[2] + a[7]*comp[1]*comp[2],\n",
    "        a[2] + a[4]*comp[0] + a[6]*comp[2] + a[7]*comp[0]*comp[2],\n",
    "        a[3] + a[5]*comp[0] + a[6]*comp[1] + a[7]*comp[0]*comp[1],\n",
    "      ],\n",
    "      [\n",
    "        b[1] + b[4]*comp[1] + b[5]*comp[2] + b[7]*comp[1]*comp[2],\n",
    "        b[2] + b[4]*comp[0] + b[6]*comp[2] + b[7]*comp[0]*comp[2],\n",
    "        b[3] + b[5]*comp[0] + b[6]*comp[1] + b[7]*comp[0]*comp[1],\n",
    "      ],\n",
    "      [\n",
    "        c[1] + c[4]*comp[1] + c[5]*comp[2] + c[7]*comp[1]*comp[2],\n",
    "        c[2] + c[4]*comp[0] + c[6]*comp[2] + c[7]*comp[0]*comp[2],\n",
    "        c[3] + c[5]*comp[0] + c[6]*comp[1] + c[7]*comp[0]*comp[1],\n",
    "      ]\n",
    "    ])\n",
    "  \n",
    "  def get_jacobian_inv(self, comp, coeff):\n",
    "    jac = self.get_jacobian(comp, coeff)\n",
    "    # np_det = np.linalg.det(jac)\n",
    "    # np_inv = np.linalg.inv(jac)\n",
    "    det = (-jac[0,0]*jac[1,1]*jac[2,2] - jac[0,1]*jac[1,2]*jac[2,0] - jac[0,2]*jac[1,0]*jac[2,1] + \n",
    "            jac[0,2]*jac[1,1]*jac[2,0] + jac[0,1]*jac[1,0]*jac[2,2] + jac[0,0]*jac[1,2]*jac[2,1])\n",
    "    inv = np.array([\n",
    "      [\n",
    "        jac[1,1]*jac[2,2] - jac[1,2]*jac[2,1],\n",
    "        -jac[0,1]*jac[2,2] + jac[0,2]*jac[2,1],\n",
    "        jac[0,1]*jac[1,2] - jac[0,2]*jac[1,1],\n",
    "      ],\n",
    "      [\n",
    "        -jac[1,0]*jac[2,2] + jac[1,2]*jac[2,0],\n",
    "        jac[0,0]*jac[2,2] - jac[0,2]*jac[2,0],\n",
    "        -jac[0,0]*jac[1,2] + jac[0,2]*jac[1,0],\n",
    "      ],\n",
    "      [\n",
    "        jac[1,0]*jac[2,1] - jac[1,1]*jac[2,0],\n",
    "        jac[0,0]*jac[2,1] - jac[0,1]*jac[2,0],\n",
    "        jac[0,0]*jac[1,1] - jac[0,1]*jac[1,0],\n",
    "      ],\n",
    "    ])\n",
    "    # print(jac)\n",
    "    # print(np_inv)\n",
    "    # print(inv/det)\n",
    "    # print(np_det)\n",
    "    # print(det)\n",
    "    # print(\"My Jac inv\\n\", jac, \"\\n\", inv, det, \"\\n\")\n",
    "    return inv/det"
   ]
  },
  {
   "cell_type": "code",
   "execution_count": 55,
   "metadata": {},
   "outputs": [
    {
     "name": "stdout",
     "output_type": "stream",
     "text": [
      "Testing point in phys is [ -768.3575  4154.1406 -2542.9346]\n",
      "Testing point in comp GT is [4930.9       100.4791    121.045204]\n",
      "Testing point initial comp is [4935.25     100.77994  121.3485 ]\n",
      "Testing point initial phys_est is [ -788.2636  4140.097  -2567.4258]\n",
      "\n",
      "\n"
     ]
    }
   ],
   "source": [
    "cic = CurviInterpCell(min_comp=low_vtx, max_comp=high_vtx, phys_coords=phys)\n",
    "print(f\"Testing point in phys is { point_phys}\")\n",
    "print(f\"Testing point in comp GT is { point}\")\n",
    "print(f\"Testing point initial comp is {init_guess}\")\n",
    "print(f\"Testing point initial phys_est is {cic.comp2phys(init_guess)[0]}\\n\\n\")\n",
    "cic = CurviInterpCell(min_comp=np.zeros(3), max_comp=np.ones(3), phys_coords=phys)\n",
    "comp_est_newton = cic.phys2comp(point_phys, maxiter=50, tol=1e-4)"
   ]
  },
  {
   "cell_type": "code",
   "execution_count": 80,
   "metadata": {},
   "outputs": [
    {
     "name": "stdout",
     "output_type": "stream",
     "text": [
      "transforming inputs\n",
      "transforming targets\n",
      "creating train test splits for inputs\n",
      "creating train test splits for targets\n",
      "(1440000, 3) 0.41854084 1.0\n",
      "(1440000, 3) 0.41854072 1.0\n",
      "(1440000, 3) 0.40762937 1.0\n",
      "(1440000, 3) 0.41740167 1.0\n",
      "(1440000, 3) 0.54877234 1.0\n",
      "(1440000, 3) 0.54877234 0.99999994\n",
      "(1440000, 3) 0.5422624 1.0\n",
      "(1440000, 3) 0.54809004 1.0\n"
     ]
    }
   ],
   "source": [
    "bds = SphericalBlockDataset('data/earth_nopole.npy', [0,1,2], [3,4,5], downscale=2)\n",
    "for curv_block, trans in bds.curvs:\n",
    "  # curv_block = pp.inverse_transform(curv_block)\n",
    "  print(curv_block.shape, curv_block.min(0)[0], curv_block.max(0)[0])\n",
    "\n",
    "print(bds.block_indices.shape)\n",
    "print(bds.block_indices[0])"
   ]
  },
  {
   "cell_type": "code",
   "execution_count": 84,
   "metadata": {},
   "outputs": [
    {
     "name": "stderr",
     "output_type": "stream",
     "text": [
      "100%|██████████| 8/8 [00:00<00:00, 120.62it/s]"
     ]
    },
    {
     "name": "stdout",
     "output_type": "stream",
     "text": [
      "\n"
     ]
    },
    {
     "name": "stderr",
     "output_type": "stream",
     "text": [
      "\n"
     ]
    }
   ],
   "source": [
    "cfgObj = Config('nntest_block_half.yaml')\n",
    "nncfg = Config('nn_block_half.yaml')\n",
    "testcfg = cfgObj.config\n",
    "# get model\n",
    "model_path = testcfg['model_path']\n",
    "ckpt = load_checkpoint_block(model_path, nncfg)\n",
    "models = ckpt['models']\n",
    "for model in models:\n",
    "  model.eval()\n",
    "print()"
   ]
  },
  {
   "cell_type": "code",
   "execution_count": 105,
   "metadata": {},
   "outputs": [
    {
     "data": {
      "text/plain": [
       "array([3485.7607  ,   21.173586,  165.57495 ], dtype=float32)"
      ]
     },
     "metadata": {},
     "output_type": "display_data"
    },
    {
     "data": {
      "text/plain": [
       "array([3485.   ,    0.   ,  170.393], dtype=float32)"
      ]
     },
     "metadata": {},
     "output_type": "display_data"
    },
    {
     "data": {
      "text/plain": [
       "157.37105"
      ]
     },
     "metadata": {},
     "output_type": "display_data"
    }
   ],
   "source": [
    "\n",
    "i,j,k = 0,0,0\n",
    "blocki = bds.get_block_index(i, j, k, bds.block_indices)\n",
    "\n",
    "_, phys_trans = bds.carts[blocki]\n",
    "_, comp_trans = bds.curvs[blocki]\n",
    "phys0 = bds.cart[i,j,k]\n",
    "comp0 = bds.curv[i,j,k].numpy()\n",
    "\n",
    "phys0_input = torch.tensor(phys_trans.transform(phys0.numpy()))\n",
    "model = models[blocki]\n",
    "with torch.no_grad():\n",
    "  # phys0_input = phys0_input[None]\n",
    "  comp_pred0 = model(phys0_input).detach().cpu().numpy()\n",
    "comp_pred0 = comp_trans.inverse_transform(comp_pred0)\n",
    "\n",
    "display(comp_pred0, comp0, mse(comp_pred0, comp0))"
   ]
  },
  {
   "cell_type": "code",
   "execution_count": 4,
   "metadata": {},
   "outputs": [
    {
     "name": "stdout",
     "output_type": "stream",
     "text": [
      "transforming inputs\n",
      "transforming outputs\n",
      "\n"
     ]
    }
   ],
   "source": [
    "cfgObj = Config('nntest.yaml')\n",
    "nncfg = Config('nn.yaml')\n",
    "testcfg = cfgObj.config\n",
    "\n",
    "ds = nncfg.get_dataset()\n",
    "\n",
    "# get model\n",
    "model_path = testcfg['model_path']\n",
    "ckpt = load_checkpoint(model_path, nncfg)\n",
    "model = ckpt['model']\n",
    "model.eval()\n",
    "print()"
   ]
  },
  {
   "cell_type": "code",
   "execution_count": 5,
   "metadata": {},
   "outputs": [
    {
     "name": "stdout",
     "output_type": "stream",
     "text": [
      "meshe generated: (201, 360, 140, 3)\n"
     ]
    }
   ],
   "source": [
    "xyz = read_vec('../test/src/data/mantle_phys.vec')\n",
    "xg, yg, zg = read_grid('../test/src/data/mantle_comp.grid')\n",
    "xyz_comp = get_mesh(xg, yg, zg)\n",
    "ds.cart = xyz\n",
    "ds.curv = xyz_comp"
   ]
  },
  {
   "cell_type": "code",
   "execution_count": 6,
   "metadata": {},
   "outputs": [
    {
     "data": {
      "text/plain": [
       "array([4928.     ,  100.27855,  120.843  ], dtype=float32)"
      ]
     },
     "metadata": {},
     "output_type": "display_data"
    },
    {
     "data": {
      "text/plain": [
       "array([4942.5     ,  101.281334,  121.854   ], dtype=float32)"
      ]
     },
     "metadata": {},
     "output_type": "display_data"
    },
    {
     "name": "stdout",
     "output_type": "stream",
     "text": [
      "Testing point in phys is [ 587.40845  706.02    -359.21857]\n",
      "Testing point in comp GT is [986.18     50.23955 111.36159]\n"
     ]
    }
   ],
   "source": [
    "phys = np.array(ds.cart[100:102, 100:102, 100:102])\n",
    "comp = np.array(ds.curv[100:102, 100:102, 100:102])\n",
    "# phi dimension is decressing, which breaks trilerp implementation\n",
    "# comp = np.flip(comp, 2)\n",
    "# phys_calc = np.array([sph2car(sph[0], *np.radians(sph[1:])) for sph in comp.reshape(-1, 3)]).reshape(2,2,2,3)\n",
    "\n",
    "\n",
    "# get the mean coordinate as initial guess\n",
    "init_guess = comp.reshape(-1, 3).mean(0)\n",
    "\n",
    "init_guess\n",
    "\n",
    "low_vtx = comp[0,0,0]\n",
    "high_vtx = comp[1,1,1]\n",
    "xs = [low_vtx[0], high_vtx[0]]\n",
    "ys = [low_vtx[1], high_vtx[1]]\n",
    "zs = [low_vtx[2], high_vtx[2]]\n",
    "\n",
    "cell_coords_x, cell_coords_y, cell_coords_z = np.meshgrid(\n",
    "  xs, ys, zs, indexing='ij',  sparse=False\n",
    ")\n",
    "\n",
    "\n",
    "point = low_vtx + (high_vtx - low_vtx)*0.2\n",
    "point[0] *= 0.2\n",
    "point[1] *= 0.5\n",
    "point[2] *= 0.92\n",
    "display(low_vtx, high_vtx)\n",
    "\n",
    "point_phys = sph2car(point[0], *np.radians(point[1:]))\n",
    "print(f\"Testing point in phys is { point_phys}\")\n",
    "print(f\"Testing point in comp GT is { point}\")\n"
   ]
  },
  {
   "cell_type": "code",
   "execution_count": 7,
   "metadata": {},
   "outputs": [
    {
     "data": {
      "text/plain": [
       "array([[[[ -754.9644 ,  4163.159  , -2526.5234 ],\n",
       "         [ -746.89246,  4118.6475 , -2600.7844 ]],\n",
       "\n",
       "        [[ -827.70825,  4149.3086 , -2526.5234 ],\n",
       "         [ -818.8586 ,  4104.9453 , -2600.7844 ]]],\n",
       "\n",
       "\n",
       "       [[[ -757.1858 ,  4175.4087 , -2533.9573 ],\n",
       "         [ -749.0901 ,  4130.766  , -2608.4368 ]],\n",
       "\n",
       "        [[ -830.1437 ,  4161.5176 , -2533.9573 ],\n",
       "         [ -821.268  ,  4117.0234 , -2608.4368 ]]]], dtype=float32)"
      ]
     },
     "execution_count": 7,
     "metadata": {},
     "output_type": "execute_result"
    }
   ],
   "source": [
    "phys"
   ]
  },
  {
   "cell_type": "code",
   "execution_count": 110,
   "metadata": {},
   "outputs": [
    {
     "data": {
      "text/plain": [
       "array([4204.997   ,   10.262208,  129.55469 ], dtype=float32)"
      ]
     },
     "metadata": {},
     "output_type": "display_data"
    },
    {
     "data": {
      "text/plain": [
       "array([4202.87    ,   12.033426,  168.371   ], dtype=float32)"
      ]
     },
     "metadata": {},
     "output_type": "display_data"
    },
    {
     "data": {
      "text/plain": [
       "504.78915"
      ]
     },
     "metadata": {},
     "output_type": "display_data"
    }
   ],
   "source": [
    "i,j,k = 50,12,2\n",
    "phys0 = ds.cart[i,j,k]\n",
    "phys0_input = torch.tensor(phys_trans.transform(phys0))\n",
    "with torch.no_grad():\n",
    "  # phys0_input = phys0_input[None]\n",
    "  comp_pred0 = model(phys0_input).detach().cpu().numpy()\n",
    "comp_pred0 = comp_trans.inverse_transform(comp_pred0)\n",
    "comp0 = ds.curv[i,j,k]\n",
    "display(comp_pred0, comp0, mse(comp_pred0, comp0))"
   ]
  },
  {
   "cell_type": "code",
   "execution_count": 39,
   "metadata": {},
   "outputs": [
    {
     "name": "stdout",
     "output_type": "stream",
     "text": [
      "Testing point in phys is [564.67816 678.69995 439.38132]\n",
      "Testing point in comp GT is [986.18     50.23955  63.54219]\n",
      "Testing point initial phys_est is [-860.32996 4518.6     1787.5287 ]\n",
      "\n",
      "\n",
      "phys_est: [-860.32996 4518.6     1787.5287 ] comp: [-292.81572973   -7.9669626   -28.48309039]  error: [1425.00805664 3839.90014648 1348.14733887]\n",
      "phys_est: [-26.597496 827.61096  -77.958496] comp: [-308.96053182  -50.34990288   18.06987716]  error: [591.27563477 148.91101074 517.33984375]\n",
      "phys_est: [232.74338 203.5288  291.60852] comp: [-284.61219143  -66.76488177   36.69879408]  error: [331.93478394 475.17114258 147.77279663]\n",
      "phys_est: [495.39465 125.61365 767.0381 ] comp: [-285.43802799  -58.52908523   36.77279142]  error: [ 69.2835083  553.08630371 327.6567688 ]\n",
      "phys_est: [414.40637 164.9689  756.5232 ] comp: [-284.18703426  -58.72489518   35.61610432]  error: [150.27178955 513.7310791  317.14187622]\n",
      "phys_est: [433.18182 203.26468 758.57227] comp: [-283.99721975  -58.45307842   34.02831679]  error: [131.49633789 475.43527222 319.19094849]\n",
      "phys_est: [440.98322 238.28311 740.011  ] comp: [-283.91515392  -58.41837577   32.43201082]  error: [123.69494629 440.4168396  300.62966919]\n",
      "phys_est: [450.0697 270.5498 719.8037] comp: [-283.89550679  -58.40313757   30.90968102]  error: [114.60845947 408.15014648 280.4223938 ]\n",
      "phys_est: [458.38745 300.40466 699.7417 ] comp: [-283.8899448   -58.3998294    29.47749484]  error: [106.29071045 378.29528809 260.36038208]\n",
      "phys_est: [466.20508 328.2529  680.69714] comp: [-283.88861379  -58.3988495    28.12926351]  error: [ 98.4730835  350.447052   241.31582642]\n",
      "phys_est: [473.54877 354.40356 662.71936] comp: [-283.88828834  -58.39870869   26.85595575]  error: [ 91.12939453 324.29638672 223.33804321]\n",
      "phys_est: [480.48492 379.0842  645.7291 ] comp: [-283.88824074  -58.39861313   25.64993422]  error: [ 84.1932373  299.61575317 206.34780884]\n",
      "phys_est: [487.05133 402.45645 629.6334 ] comp: [-283.88820948  -58.39864733   24.50561157]  error: [ 77.62683105 276.24349976 190.25210571]\n",
      "phys_est: [493.28387 424.6325  614.36084] comp: [-283.88820371  -58.39860813   23.41923369]  error: [ 71.39428711 254.06744385 174.97952271]\n",
      "phys_est: [499.1989  445.68533 599.8616 ] comp: [-283.88818975  -58.3986501    22.38848183]  error: [ 65.47924805 233.01461792 160.48025513]\n",
      "phys_est: [504.8133  465.66046 586.10486] comp: [-283.8882087   -58.39859719   21.41212465]  error: [ 59.86486816 213.03948975 146.72354126]\n",
      "phys_est: [510.1291 484.581  573.0736] comp: [-283.88819766  -58.39862066   20.48969523]  error: [ 54.54907227 194.11895752 133.69229126]\n",
      "phys_est: [515.15283 502.4569  560.7628 ] comp: [-283.88821982  -58.39861633   19.62114317]  error: [ 49.52532959 176.24304199 121.38150024]\n",
      "phys_est: [519.8822  519.28827 549.1703 ] comp: [-283.88821539  -58.3986311    18.80670047]  error: [ 44.79595947 159.41168213 109.78897095]\n",
      "phys_est: [524.3174 535.0713 538.3004] comp: [-283.88821736  -58.39864454   18.04653911]  error: [ 40.36077881 143.62866211  98.9190979 ]\n",
      "phys_est: [528.45715 549.8021  528.1549 ] comp: [-283.88821307  -58.39862822   17.3406877 ]  error: [ 36.2210083  128.89782715  88.77359009]\n",
      "phys_est: [532.3009  563.48096 518.73413] comp: [-283.88820826  -58.39862015   16.68884125]  error: [ 32.3772583  115.21899414  79.35281372]\n",
      "phys_est: [535.8501 576.1129 510.0343] comp: [-283.8881995   -58.39865072   16.09028953]  error: [ 28.82806396 102.58703613  70.65298462]\n",
      "phys_est: [539.11    587.7123  502.04578] comp: [-283.88819925  -58.39865158   15.54385721]  error: [25.56817627 90.9876709  62.66445923]\n",
      "phys_est: [542.0859 598.3014 494.7528] comp: [-283.88819478  -58.39862654   15.04790432]  error: [22.59228516 80.39855957 55.37149048]\n",
      "phys_est: [544.787  607.9128 488.1338] comp: [-283.8882146   -58.39859317   14.60031463]  error: [19.89117432 70.78717041 48.75247192]\n",
      "phys_est: [547.22314 616.58624 482.15973] comp: [-283.88820361  -58.3986427    14.19863719]  error: [17.45501709 62.1137085  42.77841187]\n",
      "phys_est: [549.4115  624.3703  476.79877] comp: [-283.88819763  -58.39861041   13.84005231]  error: [15.2666626  54.32965088 37.41744995]\n",
      "phys_est: [551.36365 631.3195  472.01318] comp: [-283.88821232  -58.39864244   13.52151547]  error: [13.31451416 47.38043213 32.63186646]\n",
      "phys_est: [553.09845 637.4921  467.7616 ] comp: [-283.88820619  -58.39864191   13.23990227]  error: [11.57971191 41.20782471 28.38027954]\n",
      "phys_est: [554.63226 642.94946 464.00305] comp: [-283.88820028  -58.39861898   12.99198843]  error: [10.04589844 35.75048828 24.62173462]\n",
      "phys_est: [555.98193 647.7539  460.6942 ] comp: [-283.88819577  -58.39863174   12.77459699]  error: [ 8.69622803 30.94604492 21.31289673]\n",
      "phys_est: [557.1662  651.96704 457.7931 ] comp: [-283.88821972  -58.39862965   12.58463084]  error: [ 7.51196289 26.73291016 18.41177368]\n",
      "phys_est: [558.2008 655.6481 455.2574] comp: [-283.88821602  -58.39859562   12.41919899]  error: [ 6.47735596 23.05187988 15.87606812]\n",
      "phys_est: [559.10095 658.8539  453.0495 ] comp: [-283.88821105  -58.39862101   12.27552644]  error: [ 5.57720947 19.84606934 13.66818237]\n",
      "phys_est: [559.8832  661.6381  451.13196] comp: [-283.8882063   -58.39866028   12.15106902]  error: [ 4.79498291 17.06182861 11.75064087]\n",
      "phys_est: [560.56177 664.0498  449.4709 ] comp: [-283.88819667  -58.39862164   12.0435029 ]  error: [ 4.11639404 14.65014648 10.08956909]\n",
      "phys_est: [561.1472  666.1348  448.03552] comp: [-283.88821965  -58.39863838   11.95069237]  error: [ 3.53094482 12.56512451  8.65420532]\n",
      "phys_est: [561.65247 667.933   446.79657] comp: [-283.88821386  -58.39864423   11.8707909 ]  error: [ 3.0256958  10.76696777  7.41525269]\n",
      "phys_est: [562.08765 669.4814  445.73016] comp: [-283.88820806  -58.39864417   11.80208947]  error: [2.59051514 9.21856689 6.34884644]\n",
      "phys_est: [562.46204 670.81274 444.81323] comp: [-283.88820215  -58.39862137   11.74309563]  error: [2.21612549 7.88720703 5.43191528]\n",
      "phys_est: [562.7826  671.9561  444.02588] comp: [-283.88820112  -58.3986635    11.69249104]  error: [1.89556885 6.74383545 4.64456177]\n",
      "phys_est: [563.0589  672.93677 443.35046] comp: [-283.8881993   -58.39864298   11.64912969]  error: [1.6192627  5.76318359 3.96914673]\n",
      "phys_est: [563.29504 673.777   442.7718 ] comp: [-283.88819689  -58.39861878   11.61200484]  error: [1.38311768 4.92297363 3.39047241]\n",
      "phys_est: [563.4971 674.4967 442.2765] comp: [-283.88821518  -58.39862396   11.58022838]  error: [1.18109131 4.20324707 2.89517212]\n",
      "phys_est: [563.67    675.11224 441.8521 ] comp: [-283.88820925  -58.39862163   11.55307631]  error: [1.00817871 3.58770752 2.47079468]\n",
      "phys_est: [563.8175 675.6384 441.4898] comp: [-283.88820775  -58.39865021   11.5298697 ]  error: [0.86065674 3.06152344 2.10848999]\n",
      "phys_est: [563.94446 676.08813 441.18005] comp: [-283.88820478  -58.39862887   11.5100491 ]  error: [0.73370361 2.61181641 1.79873657]\n",
      "phys_est: [564.0522  676.4723  440.91553] comp: [-283.88820419  -58.39862759   11.49312416]  error: [0.62597656 2.22766113 1.53421021]\n",
      "phys_est: [564.14435 676.80023 440.68964] comp: [-283.88820181  -58.39862462   11.47867922]  error: [0.53381348 1.89971924 1.30831909]\n",
      "GT phys: [564.67816 678.69995 439.38132]\n",
      "newton prediction to phys: [564.22296 677.0801  440.49683], normalized error: 3.347043175949693e-08, time: 0.04887509346008301 sec\n"
     ]
    }
   ],
   "source": [
    "# Small runtime test\n",
    "low_vtx = np.zeros(3)\n",
    "high_vtx = np.ones(3)\n",
    "init_guess = high_vtx / 2\n",
    "cic = CurviInterpCell(min_comp=low_vtx, max_comp=high_vtx, phys_coords=phys)\n",
    "print(f\"Testing point in phys is { point_phys}\")\n",
    "print(f\"Testing point in comp GT is { point}\")\n",
    "print(f\"Testing point initial phys_est is {cic.comp2phys(init_guess)[0]}\\n\\n\")\n",
    "st = time()\n",
    "cic = CurviInterpCell(min_comp=low_vtx, max_comp=high_vtx, phys_coords=phys)\n",
    "\n",
    "num_iter = 1\n",
    "for i in range(num_iter):\n",
    "  comp_est_newton = cic.phys2comp(point_phys, maxiter=50, tol=1e-4)\n",
    "t_newton = time() - st\n",
    "\n",
    "# st = time()\n",
    "# for i in range(num_iter):\n",
    "#   point_phys_nn = ds.inpp.transform(point_phys)\n",
    "#   with torch.no_grad():\n",
    "#     comp_est_nn = model(torch.Tensor(point_phys_nn))\n",
    "#   comp_est_nn = ds.outpp.inverse_transform(comp_est_nn.numpy())\n",
    "# t_nn = time() - st\n",
    "\n",
    "print(f\"GT phys: {point_phys}\")\n",
    "phys_est = trilerp(comp_est_newton, low_vtx, high_vtx, phys)[0]\n",
    "phys_norm = ds.inpp.transform(point_phys)\n",
    "phys_est_norm = ds.inpp.transform(phys_est)\n",
    "print(f\"newton prediction to phys: {phys_est}, normalized error: {mse(phys_norm, phys_est_norm)}, time: {t_newton} sec\")\n",
    "# print(f\"NN     prediction: {comp_est_nn}, normalized error: {mse(comp_est_nn_norm, point_norm)}, time: {t_nn} sec\")"
   ]
  },
  {
   "cell_type": "code",
   "execution_count": 21,
   "metadata": {},
   "outputs": [
    {
     "data": {
      "text/plain": [
       "array([0.21458864, 0.19999923, 0.19984304])"
      ]
     },
     "execution_count": 21,
     "metadata": {},
     "output_type": "execute_result"
    }
   ],
   "source": [
    "comp_est_newton"
   ]
  },
  {
   "cell_type": "code",
   "execution_count": null,
   "metadata": {},
   "outputs": [],
   "source": [
    "cell_coords = np.concatenate([cell_coords_x[...,None], cell_coords_y[...,None], cell_coords_z[...,None]], -1)"
   ]
  },
  {
   "cell_type": "code",
   "execution_count": 21,
   "metadata": {},
   "outputs": [
    {
     "name": "stdout",
     "output_type": "stream",
     "text": [
      "4928.0 4942.5 4928.0 4942.5 4928.0 4942.5 4928.0 4942.5\n",
      "100.27855 100.27855 101.281334 101.281334 100.27855 100.27855 101.281334 101.281334\n",
      "69.27 69.27 69.27 69.27 68.258 68.258 68.258 68.258\n"
     ]
    },
    {
     "data": {
      "text/plain": [
       "(array([5361.5796  ,  136.56906 ,   57.702682], dtype=float32),\n",
       " array([[   0.,   16.,    0.,    0.,    0.,    0.,    0.,    0.],\n",
       "        [   0.,    0.,   20.,    0.,    0.,    0.,    0.,    0.],\n",
       "        [-256.,    0.,    0.,   16.,    0.,    0.,    0.,    0.]],\n",
       "       dtype=float32))"
      ]
     },
     "execution_count": 21,
     "metadata": {},
     "output_type": "execute_result"
    }
   ],
   "source": [
    "comp2phy(point, low_vtx, high_vtx, cell_coords)"
   ]
  },
  {
   "cell_type": "code",
   "execution_count": 17,
   "metadata": {},
   "outputs": [],
   "source": []
  },
  {
   "cell_type": "code",
   "execution_count": 18,
   "metadata": {},
   "outputs": [
    {
     "ename": "ValueError",
     "evalue": "not enough values to unpack (expected 3, got 1)",
     "output_type": "error",
     "traceback": [
      "\u001b[0;31m---------------------------------------------------------------------------\u001b[0m",
      "\u001b[0;31mValueError\u001b[0m                                Traceback (most recent call last)",
      "\u001b[0;32m<ipython-input-18-be09d6166039>\u001b[0m in \u001b[0;36m<module>\u001b[0;34m\u001b[0m\n\u001b[0;32m----> 1\u001b[0;31m \u001b[0msol\u001b[0m \u001b[0;34m=\u001b[0m \u001b[0mop\u001b[0m\u001b[0;34m.\u001b[0m\u001b[0mroot\u001b[0m\u001b[0;34m(\u001b[0m\u001b[0mdiff_phys_dim\u001b[0m\u001b[0;34m,\u001b[0m \u001b[0mx0\u001b[0m\u001b[0;34m=\u001b[0m\u001b[0minit_guess\u001b[0m\u001b[0;34m[\u001b[0m\u001b[0;36m0\u001b[0m\u001b[0;34m]\u001b[0m\u001b[0;34m,\u001b[0m \u001b[0margs\u001b[0m\u001b[0;34m=\u001b[0m\u001b[0;34m(\u001b[0m\u001b[0mpoint_phys\u001b[0m\u001b[0;34m,\u001b[0m \u001b[0mlow_vtx\u001b[0m\u001b[0;34m,\u001b[0m \u001b[0mhigh_vtx\u001b[0m\u001b[0;34m,\u001b[0m \u001b[0mcell_coords\u001b[0m\u001b[0;34m)\u001b[0m\u001b[0;34m)\u001b[0m\u001b[0;34m\u001b[0m\u001b[0;34m\u001b[0m\u001b[0m\n\u001b[0m",
      "\u001b[0;32m~/.conda/envs/vis/lib/python3.7/site-packages/scipy/optimize/_root.py\u001b[0m in \u001b[0;36mroot\u001b[0;34m(fun, x0, args, method, jac, tol, callback, options)\u001b[0m\n\u001b[1;32m    185\u001b[0m \u001b[0;34m\u001b[0m\u001b[0m\n\u001b[1;32m    186\u001b[0m     \u001b[0;32mif\u001b[0m \u001b[0mmeth\u001b[0m \u001b[0;34m==\u001b[0m \u001b[0;34m'hybr'\u001b[0m\u001b[0;34m:\u001b[0m\u001b[0;34m\u001b[0m\u001b[0;34m\u001b[0m\u001b[0m\n\u001b[0;32m--> 187\u001b[0;31m         \u001b[0msol\u001b[0m \u001b[0;34m=\u001b[0m \u001b[0m_root_hybr\u001b[0m\u001b[0;34m(\u001b[0m\u001b[0mfun\u001b[0m\u001b[0;34m,\u001b[0m \u001b[0mx0\u001b[0m\u001b[0;34m,\u001b[0m \u001b[0margs\u001b[0m\u001b[0;34m=\u001b[0m\u001b[0margs\u001b[0m\u001b[0;34m,\u001b[0m \u001b[0mjac\u001b[0m\u001b[0;34m=\u001b[0m\u001b[0mjac\u001b[0m\u001b[0;34m,\u001b[0m \u001b[0;34m**\u001b[0m\u001b[0moptions\u001b[0m\u001b[0;34m)\u001b[0m\u001b[0;34m\u001b[0m\u001b[0;34m\u001b[0m\u001b[0m\n\u001b[0m\u001b[1;32m    188\u001b[0m     \u001b[0;32melif\u001b[0m \u001b[0mmeth\u001b[0m \u001b[0;34m==\u001b[0m \u001b[0;34m'lm'\u001b[0m\u001b[0;34m:\u001b[0m\u001b[0;34m\u001b[0m\u001b[0;34m\u001b[0m\u001b[0m\n\u001b[1;32m    189\u001b[0m         \u001b[0msol\u001b[0m \u001b[0;34m=\u001b[0m \u001b[0m_root_leastsq\u001b[0m\u001b[0;34m(\u001b[0m\u001b[0mfun\u001b[0m\u001b[0;34m,\u001b[0m \u001b[0mx0\u001b[0m\u001b[0;34m,\u001b[0m \u001b[0margs\u001b[0m\u001b[0;34m=\u001b[0m\u001b[0margs\u001b[0m\u001b[0;34m,\u001b[0m \u001b[0mjac\u001b[0m\u001b[0;34m=\u001b[0m\u001b[0mjac\u001b[0m\u001b[0;34m,\u001b[0m \u001b[0;34m**\u001b[0m\u001b[0moptions\u001b[0m\u001b[0;34m)\u001b[0m\u001b[0;34m\u001b[0m\u001b[0;34m\u001b[0m\u001b[0m\n",
      "\u001b[0;32m~/.conda/envs/vis/lib/python3.7/site-packages/scipy/optimize/minpack.py\u001b[0m in \u001b[0;36m_root_hybr\u001b[0;34m(func, x0, args, jac, col_deriv, xtol, maxfev, band, eps, factor, diag, **unknown_options)\u001b[0m\n\u001b[1;32m    224\u001b[0m     \u001b[0;32mif\u001b[0m \u001b[0;32mnot\u001b[0m \u001b[0misinstance\u001b[0m\u001b[0;34m(\u001b[0m\u001b[0margs\u001b[0m\u001b[0;34m,\u001b[0m \u001b[0mtuple\u001b[0m\u001b[0;34m)\u001b[0m\u001b[0;34m:\u001b[0m\u001b[0;34m\u001b[0m\u001b[0;34m\u001b[0m\u001b[0m\n\u001b[1;32m    225\u001b[0m         \u001b[0margs\u001b[0m \u001b[0;34m=\u001b[0m \u001b[0;34m(\u001b[0m\u001b[0margs\u001b[0m\u001b[0;34m,\u001b[0m\u001b[0;34m)\u001b[0m\u001b[0;34m\u001b[0m\u001b[0;34m\u001b[0m\u001b[0m\n\u001b[0;32m--> 226\u001b[0;31m     \u001b[0mshape\u001b[0m\u001b[0;34m,\u001b[0m \u001b[0mdtype\u001b[0m \u001b[0;34m=\u001b[0m \u001b[0m_check_func\u001b[0m\u001b[0;34m(\u001b[0m\u001b[0;34m'fsolve'\u001b[0m\u001b[0;34m,\u001b[0m \u001b[0;34m'func'\u001b[0m\u001b[0;34m,\u001b[0m \u001b[0mfunc\u001b[0m\u001b[0;34m,\u001b[0m \u001b[0mx0\u001b[0m\u001b[0;34m,\u001b[0m \u001b[0margs\u001b[0m\u001b[0;34m,\u001b[0m \u001b[0mn\u001b[0m\u001b[0;34m,\u001b[0m \u001b[0;34m(\u001b[0m\u001b[0mn\u001b[0m\u001b[0;34m,\u001b[0m\u001b[0;34m)\u001b[0m\u001b[0;34m)\u001b[0m\u001b[0;34m\u001b[0m\u001b[0;34m\u001b[0m\u001b[0m\n\u001b[0m\u001b[1;32m    227\u001b[0m     \u001b[0;32mif\u001b[0m \u001b[0mepsfcn\u001b[0m \u001b[0;32mis\u001b[0m \u001b[0;32mNone\u001b[0m\u001b[0;34m:\u001b[0m\u001b[0;34m\u001b[0m\u001b[0;34m\u001b[0m\u001b[0m\n\u001b[1;32m    228\u001b[0m         \u001b[0mepsfcn\u001b[0m \u001b[0;34m=\u001b[0m \u001b[0mfinfo\u001b[0m\u001b[0;34m(\u001b[0m\u001b[0mdtype\u001b[0m\u001b[0;34m)\u001b[0m\u001b[0;34m.\u001b[0m\u001b[0meps\u001b[0m\u001b[0;34m\u001b[0m\u001b[0;34m\u001b[0m\u001b[0m\n",
      "\u001b[0;32m~/.conda/envs/vis/lib/python3.7/site-packages/scipy/optimize/minpack.py\u001b[0m in \u001b[0;36m_check_func\u001b[0;34m(checker, argname, thefunc, x0, args, numinputs, output_shape)\u001b[0m\n\u001b[1;32m     22\u001b[0m def _check_func(checker, argname, thefunc, x0, args, numinputs,\n\u001b[1;32m     23\u001b[0m                 output_shape=None):\n\u001b[0;32m---> 24\u001b[0;31m     \u001b[0mres\u001b[0m \u001b[0;34m=\u001b[0m \u001b[0matleast_1d\u001b[0m\u001b[0;34m(\u001b[0m\u001b[0mthefunc\u001b[0m\u001b[0;34m(\u001b[0m\u001b[0;34m*\u001b[0m\u001b[0;34m(\u001b[0m\u001b[0;34m(\u001b[0m\u001b[0mx0\u001b[0m\u001b[0;34m[\u001b[0m\u001b[0;34m:\u001b[0m\u001b[0mnuminputs\u001b[0m\u001b[0;34m]\u001b[0m\u001b[0;34m,\u001b[0m\u001b[0;34m)\u001b[0m \u001b[0;34m+\u001b[0m \u001b[0margs\u001b[0m\u001b[0;34m)\u001b[0m\u001b[0;34m)\u001b[0m\u001b[0;34m)\u001b[0m\u001b[0;34m\u001b[0m\u001b[0;34m\u001b[0m\u001b[0m\n\u001b[0m\u001b[1;32m     25\u001b[0m     \u001b[0;32mif\u001b[0m \u001b[0;34m(\u001b[0m\u001b[0moutput_shape\u001b[0m \u001b[0;32mis\u001b[0m \u001b[0;32mnot\u001b[0m \u001b[0;32mNone\u001b[0m\u001b[0;34m)\u001b[0m \u001b[0;32mand\u001b[0m \u001b[0;34m(\u001b[0m\u001b[0mshape\u001b[0m\u001b[0;34m(\u001b[0m\u001b[0mres\u001b[0m\u001b[0;34m)\u001b[0m \u001b[0;34m!=\u001b[0m \u001b[0moutput_shape\u001b[0m\u001b[0;34m)\u001b[0m\u001b[0;34m:\u001b[0m\u001b[0;34m\u001b[0m\u001b[0;34m\u001b[0m\u001b[0m\n\u001b[1;32m     26\u001b[0m         \u001b[0;32mif\u001b[0m \u001b[0;34m(\u001b[0m\u001b[0moutput_shape\u001b[0m\u001b[0;34m[\u001b[0m\u001b[0;36m0\u001b[0m\u001b[0;34m]\u001b[0m \u001b[0;34m!=\u001b[0m \u001b[0;36m1\u001b[0m\u001b[0;34m)\u001b[0m\u001b[0;34m:\u001b[0m\u001b[0;34m\u001b[0m\u001b[0;34m\u001b[0m\u001b[0m\n",
      "\u001b[0;32m<ipython-input-5-806b8c8c8097>\u001b[0m in \u001b[0;36mdiff_phys_dim\u001b[0;34m(comp, phys, vtx_low, vtx_high, cell_coords_dim)\u001b[0m\n\u001b[1;32m    133\u001b[0m \u001b[0;34m\u001b[0m\u001b[0m\n\u001b[1;32m    134\u001b[0m \u001b[0;32mdef\u001b[0m \u001b[0mdiff_phys_dim\u001b[0m\u001b[0;34m(\u001b[0m\u001b[0mcomp\u001b[0m\u001b[0;34m:\u001b[0m \u001b[0mnp\u001b[0m\u001b[0;34m.\u001b[0m\u001b[0mndarray\u001b[0m\u001b[0;34m,\u001b[0m \u001b[0mphys\u001b[0m\u001b[0;34m:\u001b[0m \u001b[0mnp\u001b[0m\u001b[0;34m.\u001b[0m\u001b[0mndarray\u001b[0m\u001b[0;34m,\u001b[0m \u001b[0mvtx_low\u001b[0m\u001b[0;34m,\u001b[0m \u001b[0mvtx_high\u001b[0m\u001b[0;34m,\u001b[0m \u001b[0mcell_coords_dim\u001b[0m\u001b[0;34m)\u001b[0m\u001b[0;34m:\u001b[0m\u001b[0;34m\u001b[0m\u001b[0;34m\u001b[0m\u001b[0m\n\u001b[0;32m--> 135\u001b[0;31m   \u001b[0mphys_est\u001b[0m \u001b[0;34m=\u001b[0m \u001b[0mtrilerp\u001b[0m\u001b[0;34m(\u001b[0m\u001b[0mcomp\u001b[0m\u001b[0;34m,\u001b[0m \u001b[0mvtx_low\u001b[0m\u001b[0;34m,\u001b[0m \u001b[0mvtx_high\u001b[0m\u001b[0;34m,\u001b[0m \u001b[0mcell_coords_dim\u001b[0m\u001b[0;34m)\u001b[0m\u001b[0;34m\u001b[0m\u001b[0;34m\u001b[0m\u001b[0m\n\u001b[0m\u001b[1;32m    136\u001b[0m   \u001b[0;32mreturn\u001b[0m \u001b[0mphys\u001b[0m \u001b[0;34m-\u001b[0m \u001b[0mphys_est\u001b[0m\u001b[0;34m\u001b[0m\u001b[0;34m\u001b[0m\u001b[0m\n\u001b[1;32m    137\u001b[0m \u001b[0;31m# op.root_scalar(diff_phys, method='newton')\u001b[0m\u001b[0;34m\u001b[0m\u001b[0;34m\u001b[0m\u001b[0;34m\u001b[0m\u001b[0m\n",
      "\u001b[0;32m<ipython-input-5-806b8c8c8097>\u001b[0m in \u001b[0;36mtrilerp\u001b[0;34m(coord, low_vtx, high_vtx, cell_val)\u001b[0m\n\u001b[1;32m     75\u001b[0m \u001b[0;31m# //    000       100\u001b[0m\u001b[0;34m\u001b[0m\u001b[0;34m\u001b[0m\u001b[0;34m\u001b[0m\u001b[0m\n\u001b[1;32m     76\u001b[0m \u001b[0;32mdef\u001b[0m \u001b[0mtrilerp\u001b[0m\u001b[0;34m(\u001b[0m\u001b[0mcoord\u001b[0m\u001b[0;34m:\u001b[0m \u001b[0mnp\u001b[0m\u001b[0;34m.\u001b[0m\u001b[0mndarray\u001b[0m\u001b[0;34m,\u001b[0m \u001b[0mlow_vtx\u001b[0m\u001b[0;34m:\u001b[0m \u001b[0mnp\u001b[0m\u001b[0;34m.\u001b[0m\u001b[0mndarray\u001b[0m\u001b[0;34m,\u001b[0m \u001b[0mhigh_vtx\u001b[0m\u001b[0;34m:\u001b[0m \u001b[0mnp\u001b[0m\u001b[0;34m.\u001b[0m\u001b[0mndarray\u001b[0m\u001b[0;34m,\u001b[0m \u001b[0mcell_val\u001b[0m\u001b[0;34m:\u001b[0m \u001b[0mnp\u001b[0m\u001b[0;34m.\u001b[0m\u001b[0mndarray\u001b[0m\u001b[0;34m)\u001b[0m\u001b[0;34m:\u001b[0m\u001b[0;34m\u001b[0m\u001b[0;34m\u001b[0m\u001b[0m\n\u001b[0;32m---> 77\u001b[0;31m   \u001b[0mx\u001b[0m\u001b[0;34m,\u001b[0m \u001b[0my\u001b[0m\u001b[0;34m,\u001b[0m \u001b[0mz\u001b[0m \u001b[0;34m=\u001b[0m \u001b[0mcoord\u001b[0m\u001b[0;34m\u001b[0m\u001b[0;34m\u001b[0m\u001b[0m\n\u001b[0m\u001b[1;32m     78\u001b[0m   \u001b[0mx0\u001b[0m\u001b[0;34m,\u001b[0m\u001b[0my0\u001b[0m\u001b[0;34m,\u001b[0m\u001b[0mz0\u001b[0m \u001b[0;34m=\u001b[0m \u001b[0mlow_vtx\u001b[0m\u001b[0;34m\u001b[0m\u001b[0;34m\u001b[0m\u001b[0m\n\u001b[1;32m     79\u001b[0m   \u001b[0mx1\u001b[0m\u001b[0;34m,\u001b[0m\u001b[0my1\u001b[0m\u001b[0;34m,\u001b[0m\u001b[0mz1\u001b[0m \u001b[0;34m=\u001b[0m \u001b[0mhigh_vtx\u001b[0m\u001b[0;34m\u001b[0m\u001b[0;34m\u001b[0m\u001b[0m\n",
      "\u001b[0;31mValueError\u001b[0m: not enough values to unpack (expected 3, got 1)"
     ]
    }
   ],
   "source": [
    "sol = op.root(diff_phys_dim, x0=init_guess[0], args=(point_phys, low_vtx, high_vtx, cell_coords_x))"
   ]
  },
  {
   "cell_type": "code",
   "execution_count": 238,
   "metadata": {},
   "outputs": [
    {
     "data": {
      "text/plain": [
       "array([4935.25   ,  100.77994,   68.764  ], dtype=float32)"
      ]
     },
     "execution_count": 238,
     "metadata": {},
     "output_type": "execute_result"
    }
   ],
   "source": [
    "init_guess"
   ]
  },
  {
   "cell_type": "code",
   "execution_count": 237,
   "metadata": {},
   "outputs": [
    {
     "data": {
      "text/plain": [
       "array([    1671.23568275, -1353139.43757878,  -336520.7910641 ])"
      ]
     },
     "execution_count": 237,
     "metadata": {},
     "output_type": "execute_result"
    }
   ],
   "source": [
    "sol.x"
   ]
  },
  {
   "cell_type": "code",
   "execution_count": 85,
   "metadata": {},
   "outputs": [
    {
     "name": "stdout",
     "output_type": "stream",
     "text": [
      "0.215 0.282 0.2162\n",
      "-1 -2 -3\n",
      "1 2 3\n",
      "-48\n",
      "-48\n",
      "0\n",
      "1\n",
      "10\n",
      "11\n",
      "100\n",
      "101\n",
      "110\n",
      "111\n",
      "gt: 24.655    -      lerp: (59.91583333333333, array([-2664,   -24,  -120,  -800,     0,     0,     0,     0]))\n"
     ]
    }
   ],
   "source": [
    "xg, yg ,zg = np.meshgrid([0,1], [0,1], [0,1],indexing='ij',  sparse=True)\n",
    "def f(x,y,z):\n",
    "  return x + 10*y + 100*z\n",
    "# my lerp\n",
    "coord = [0.215, 0.282, 0.2162]\n",
    "low_vtx = [-1,-2,-3]\n",
    "high_vtx = [1,2,3]\n",
    "cell_val = f(xg, yg, zg)\n",
    "interpolant = trilerp(coord, low_vtx, high_vtx, cell_val)\n",
    "gt = f(*coord)\n",
    "print(f\"gt: {gt}    -      lerp: {interpolant}\")"
   ]
  },
  {
   "cell_type": "code",
   "execution_count": 91,
   "metadata": {},
   "outputs": [
    {
     "data": {
      "text/plain": [
       "array([100.27855 , 101.281334], dtype=float32)"
      ]
     },
     "execution_count": 91,
     "metadata": {},
     "output_type": "execute_result"
    }
   ],
   "source": [
    "comp[...,1][0,:,0]"
   ]
  },
  {
   "cell_type": "code",
   "execution_count": null,
   "metadata": {},
   "outputs": [],
   "source": [
    "diff_phys(phys, comp, )"
   ]
  },
  {
   "cell_type": "code",
   "execution_count": 84,
   "metadata": {},
   "outputs": [
    {
     "data": {
      "text/plain": [
       "array([59.91583333])"
      ]
     },
     "execution_count": 84,
     "metadata": {},
     "output_type": "execute_result"
    }
   ],
   "source": [
    "# SCIPY lerp\n",
    "from scipy.interpolate import RegularGridInterpolator\n",
    "\n",
    "# x = np.arange(2)\n",
    "# y = np.arange(2)\n",
    "# z = np.arange(2)\n",
    "# xg, yg ,zg = np.meshgrid(x, y, z, indexing='ij', sparse=True)\n",
    "# data = f(xg, yg, zg)\n",
    "\n",
    "x= comp[...,0][:,0,0]\n",
    "y= comp[...,1][0,:,0]\n",
    "z= comp[...,2][0,0,:]\n",
    "\n",
    "xs = [low_vtx[0], high_vtx[0]]\n",
    "ys = [low_vtx[1], high_vtx[1]]\n",
    "zs = [low_vtx[2], high_vtx[2]]\n",
    "\n",
    "my_interpolating_function = RegularGridInterpolator((xs, ys, zs), cell_val)\n",
    "my_interpolating_function(coord)"
   ]
  }
 ],
 "metadata": {
  "interpreter": {
   "hash": "d82c3ef9a9c52ca48f89a57a471345d340895240528db2b7c56159ebd2138f11"
  },
  "kernelspec": {
   "display_name": "Python 3.7.10 ('vis': conda)",
   "language": "python",
   "name": "python3"
  },
  "language_info": {
   "codemirror_mode": {
    "name": "ipython",
    "version": 3
   },
   "file_extension": ".py",
   "mimetype": "text/x-python",
   "name": "python",
   "nbconvert_exporter": "python",
   "pygments_lexer": "ipython3",
   "version": "3.7.10"
  },
  "orig_nbformat": 4
 },
 "nbformat": 4,
 "nbformat_minor": 2
}
