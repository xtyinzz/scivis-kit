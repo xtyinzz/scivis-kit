{
 "cells": [
  {
   "cell_type": "code",
   "execution_count": 44,
   "metadata": {},
   "outputs": [
    {
     "name": "stdout",
     "output_type": "stream",
     "text": [
      "The autoreload extension is already loaded. To reload it, use:\n",
      "  %reload_ext autoreload\n"
     ]
    }
   ],
   "source": [
    "import os\n",
    "import torch\n",
    "import numpy as np\n",
    "import matplotlib.pyplot as plt\n",
    "from tqdm import tqdm, trange\n",
    "from data.data import SphericalDataset, SphericalBlockDataset, stand_norm\n",
    "from torch.utils.data import Dataset, DataLoader\n",
    "from sklearn.preprocessing import StandardScaler, MinMaxScaler\n",
    "from sklearn.pipeline import make_pipeline, Pipeline\n",
    "from cfg.configs import Config\n",
    "from util.utils import count_parameters\n",
    "from network.network import MLP\n",
    "%load_ext autoreload\n",
    "%autoreload 2\n",
    "\n",
    "config = Config(\"nn_block.yaml\")"
   ]
  },
  {
   "cell_type": "code",
   "execution_count": 6,
   "metadata": {},
   "outputs": [],
   "source": [
    "ds = SphericalDataset(**config.get_dataset_param())\n",
    "coords = ds.coords[..., :3].reshape(-1, 3)"
   ]
  },
  {
   "cell_type": "code",
   "execution_count": 15,
   "metadata": {},
   "outputs": [
    {
     "name": "stdout",
     "output_type": "stream",
     "text": [
      "(201, 360, 160)\n",
      "25.125\n",
      "45.0\n",
      "20.0\n"
     ]
    }
   ],
   "source": [
    "print(ds.coords.shape[:-1])\n",
    "for length in ds.coords.shape[:-1]:\n",
    "  print(length / 8)"
   ]
  },
  {
   "cell_type": "code",
   "execution_count": null,
   "metadata": {},
   "outputs": [],
   "source": [
    "blocks = []"
   ]
  },
  {
   "cell_type": "code",
   "execution_count": 68,
   "metadata": {},
   "outputs": [],
   "source": [
    "downscale = 8\n",
    "dim_chunks = [np.arange(0, length+1, length//downscale) for length in ds.coords.shape[:-1]]"
   ]
  },
  {
   "cell_type": "code",
   "execution_count": 69,
   "metadata": {},
   "outputs": [
    {
     "data": {
      "text/plain": [
       "[array([  0,  25,  50,  75, 100, 125, 150, 175, 200]),\n",
       " array([  0,  45,  90, 135, 180, 225, 270, 315, 360]),\n",
       " array([  0,  20,  40,  60,  80, 100, 120, 140, 160])]"
      ]
     },
     "execution_count": 69,
     "metadata": {},
     "output_type": "execute_result"
    }
   ],
   "source": [
    "dim_chunks"
   ]
  },
  {
   "cell_type": "code",
   "execution_count": 65,
   "metadata": {},
   "outputs": [
    {
     "data": {
      "text/plain": [
       "590.3333333333334"
      ]
     },
     "execution_count": 65,
     "metadata": {},
     "output_type": "execute_result"
    }
   ],
   "source": [
    "1771/3"
   ]
  },
  {
   "cell_type": "code",
   "execution_count": 56,
   "metadata": {},
   "outputs": [
    {
     "data": {
      "text/plain": [
       "(201, 360, 160, 6)"
      ]
     },
     "execution_count": 56,
     "metadata": {},
     "output_type": "execute_result"
    }
   ],
   "source": [
    "ds.coords.shape"
   ]
  },
  {
   "cell_type": "code",
   "execution_count": 75,
   "metadata": {},
   "outputs": [],
   "source": [
    "a = [(2,2), (3,3)]"
   ]
  },
  {
   "cell_type": "code",
   "execution_count": 77,
   "metadata": {},
   "outputs": [
    {
     "name": "stdout",
     "output_type": "stream",
     "text": [
      "0 2 2\n",
      "1 3 3\n"
     ]
    }
   ],
   "source": [
    "for i, (j, k) in enumerate(a):\n",
    "  print(i,j,k)"
   ]
  },
  {
   "cell_type": "code",
   "execution_count": 78,
   "metadata": {},
   "outputs": [
    {
     "data": {
      "text/plain": [
       "512"
      ]
     },
     "execution_count": 78,
     "metadata": {},
     "output_type": "execute_result"
    }
   ],
   "source": [
    "len(coords_block)"
   ]
  },
  {
   "cell_type": "code",
   "execution_count": 73,
   "metadata": {},
   "outputs": [
    {
     "name": "stdout",
     "output_type": "stream",
     "text": [
      "(25, 45, 20, 6)\n",
      "(25, 45, 20, 6)\n",
      "(25, 45, 20, 6)\n",
      "(25, 45, 20, 6)\n",
      "(25, 45, 20, 6)\n",
      "(25, 45, 20, 6)\n",
      "(25, 45, 20, 6)\n",
      "(25, 45, 20, 6)\n",
      "(25, 45, 20, 6)\n",
      "(25, 45, 20, 6)\n",
      "(25, 45, 20, 6)\n",
      "(25, 45, 20, 6)\n",
      "(25, 45, 20, 6)\n",
      "(25, 45, 20, 6)\n",
      "(25, 45, 20, 6)\n",
      "(25, 45, 20, 6)\n",
      "(25, 45, 20, 6)\n",
      "(25, 45, 20, 6)\n",
      "(25, 45, 20, 6)\n",
      "(25, 45, 20, 6)\n",
      "(25, 45, 20, 6)\n",
      "(25, 45, 20, 6)\n",
      "(25, 45, 20, 6)\n",
      "(25, 45, 20, 6)\n",
      "(25, 45, 20, 6)\n",
      "(25, 45, 20, 6)\n",
      "(25, 45, 20, 6)\n",
      "(25, 45, 20, 6)\n",
      "(25, 45, 20, 6)\n",
      "(25, 45, 20, 6)\n",
      "(25, 45, 20, 6)\n",
      "(25, 45, 20, 6)\n",
      "(25, 45, 20, 6)\n",
      "(25, 45, 20, 6)\n",
      "(25, 45, 20, 6)\n",
      "(25, 45, 20, 6)\n",
      "(25, 45, 20, 6)\n",
      "(25, 45, 20, 6)\n",
      "(25, 45, 20, 6)\n",
      "(25, 45, 20, 6)\n",
      "(25, 45, 20, 6)\n",
      "(25, 45, 20, 6)\n",
      "(25, 45, 20, 6)\n",
      "(25, 45, 20, 6)\n",
      "(25, 45, 20, 6)\n",
      "(25, 45, 20, 6)\n",
      "(25, 45, 20, 6)\n",
      "(25, 45, 20, 6)\n",
      "(25, 45, 20, 6)\n",
      "(25, 45, 20, 6)\n",
      "(25, 45, 20, 6)\n",
      "(25, 45, 20, 6)\n",
      "(25, 45, 20, 6)\n",
      "(25, 45, 20, 6)\n",
      "(25, 45, 20, 6)\n",
      "(25, 45, 20, 6)\n",
      "(25, 45, 20, 6)\n",
      "(25, 45, 20, 6)\n",
      "(25, 45, 20, 6)\n",
      "(25, 45, 20, 6)\n",
      "(25, 45, 20, 6)\n",
      "(25, 45, 20, 6)\n",
      "(25, 45, 20, 6)\n",
      "(25, 45, 20, 6)\n",
      "(25, 45, 20, 6)\n",
      "(25, 45, 20, 6)\n",
      "(25, 45, 20, 6)\n",
      "(25, 45, 20, 6)\n",
      "(25, 45, 20, 6)\n",
      "(25, 45, 20, 6)\n",
      "(25, 45, 20, 6)\n",
      "(25, 45, 20, 6)\n",
      "(25, 45, 20, 6)\n",
      "(25, 45, 20, 6)\n",
      "(25, 45, 20, 6)\n",
      "(25, 45, 20, 6)\n",
      "(25, 45, 20, 6)\n",
      "(25, 45, 20, 6)\n",
      "(25, 45, 20, 6)\n",
      "(25, 45, 20, 6)\n",
      "(25, 45, 20, 6)\n",
      "(25, 45, 20, 6)\n",
      "(25, 45, 20, 6)\n",
      "(25, 45, 20, 6)\n",
      "(25, 45, 20, 6)\n",
      "(25, 45, 20, 6)\n",
      "(25, 45, 20, 6)\n",
      "(25, 45, 20, 6)\n",
      "(25, 45, 20, 6)\n",
      "(25, 45, 20, 6)\n",
      "(25, 45, 20, 6)\n",
      "(25, 45, 20, 6)\n",
      "(25, 45, 20, 6)\n",
      "(25, 45, 20, 6)\n",
      "(25, 45, 20, 6)\n",
      "(25, 45, 20, 6)\n",
      "(25, 45, 20, 6)\n",
      "(25, 45, 20, 6)\n",
      "(25, 45, 20, 6)\n",
      "(25, 45, 20, 6)\n",
      "(25, 45, 20, 6)\n",
      "(25, 45, 20, 6)\n",
      "(25, 45, 20, 6)\n",
      "(25, 45, 20, 6)\n",
      "(25, 45, 20, 6)\n",
      "(25, 45, 20, 6)\n",
      "(25, 45, 20, 6)\n",
      "(25, 45, 20, 6)\n",
      "(25, 45, 20, 6)\n",
      "(25, 45, 20, 6)\n",
      "(25, 45, 20, 6)\n",
      "(25, 45, 20, 6)\n",
      "(25, 45, 20, 6)\n",
      "(25, 45, 20, 6)\n",
      "(25, 45, 20, 6)\n",
      "(25, 45, 20, 6)\n",
      "(25, 45, 20, 6)\n",
      "(25, 45, 20, 6)\n",
      "(25, 45, 20, 6)\n",
      "(25, 45, 20, 6)\n",
      "(25, 45, 20, 6)\n",
      "(25, 45, 20, 6)\n",
      "(25, 45, 20, 6)\n",
      "(25, 45, 20, 6)\n",
      "(25, 45, 20, 6)\n",
      "(25, 45, 20, 6)\n",
      "(25, 45, 20, 6)\n",
      "(25, 45, 20, 6)\n",
      "(25, 45, 20, 6)\n",
      "(25, 45, 20, 6)\n",
      "(25, 45, 20, 6)\n",
      "(25, 45, 20, 6)\n",
      "(25, 45, 20, 6)\n",
      "(25, 45, 20, 6)\n",
      "(25, 45, 20, 6)\n",
      "(25, 45, 20, 6)\n",
      "(25, 45, 20, 6)\n",
      "(25, 45, 20, 6)\n",
      "(25, 45, 20, 6)\n",
      "(25, 45, 20, 6)\n",
      "(25, 45, 20, 6)\n",
      "(25, 45, 20, 6)\n",
      "(25, 45, 20, 6)\n",
      "(25, 45, 20, 6)\n",
      "(25, 45, 20, 6)\n",
      "(25, 45, 20, 6)\n",
      "(25, 45, 20, 6)\n",
      "(25, 45, 20, 6)\n",
      "(25, 45, 20, 6)\n",
      "(25, 45, 20, 6)\n",
      "(25, 45, 20, 6)\n",
      "(25, 45, 20, 6)\n",
      "(25, 45, 20, 6)\n",
      "(25, 45, 20, 6)\n",
      "(25, 45, 20, 6)\n",
      "(25, 45, 20, 6)\n",
      "(25, 45, 20, 6)\n",
      "(25, 45, 20, 6)\n",
      "(25, 45, 20, 6)\n",
      "(25, 45, 20, 6)\n",
      "(25, 45, 20, 6)\n",
      "(25, 45, 20, 6)\n",
      "(25, 45, 20, 6)\n",
      "(25, 45, 20, 6)\n",
      "(25, 45, 20, 6)\n",
      "(25, 45, 20, 6)\n",
      "(25, 45, 20, 6)\n",
      "(25, 45, 20, 6)\n",
      "(25, 45, 20, 6)\n",
      "(25, 45, 20, 6)\n",
      "(25, 45, 20, 6)\n",
      "(25, 45, 20, 6)\n",
      "(25, 45, 20, 6)\n",
      "(25, 45, 20, 6)\n",
      "(25, 45, 20, 6)\n",
      "(25, 45, 20, 6)\n",
      "(25, 45, 20, 6)\n",
      "(25, 45, 20, 6)\n",
      "(25, 45, 20, 6)\n",
      "(25, 45, 20, 6)\n",
      "(25, 45, 20, 6)\n",
      "(25, 45, 20, 6)\n",
      "(25, 45, 20, 6)\n",
      "(25, 45, 20, 6)\n",
      "(25, 45, 20, 6)\n",
      "(25, 45, 20, 6)\n",
      "(25, 45, 20, 6)\n",
      "(25, 45, 20, 6)\n",
      "(25, 45, 20, 6)\n",
      "(25, 45, 20, 6)\n",
      "(25, 45, 20, 6)\n",
      "(25, 45, 20, 6)\n",
      "(25, 45, 20, 6)\n",
      "(25, 45, 20, 6)\n",
      "(25, 45, 20, 6)\n",
      "(25, 45, 20, 6)\n",
      "(25, 45, 20, 6)\n",
      "(25, 45, 20, 6)\n",
      "(25, 45, 20, 6)\n",
      "(25, 45, 20, 6)\n",
      "(25, 45, 20, 6)\n",
      "(25, 45, 20, 6)\n",
      "(25, 45, 20, 6)\n",
      "(25, 45, 20, 6)\n",
      "(25, 45, 20, 6)\n",
      "(25, 45, 20, 6)\n",
      "(25, 45, 20, 6)\n",
      "(25, 45, 20, 6)\n",
      "(25, 45, 20, 6)\n",
      "(25, 45, 20, 6)\n",
      "(25, 45, 20, 6)\n",
      "(25, 45, 20, 6)\n",
      "(25, 45, 20, 6)\n",
      "(25, 45, 20, 6)\n",
      "(25, 45, 20, 6)\n",
      "(25, 45, 20, 6)\n",
      "(25, 45, 20, 6)\n",
      "(25, 45, 20, 6)\n",
      "(25, 45, 20, 6)\n",
      "(25, 45, 20, 6)\n",
      "(25, 45, 20, 6)\n",
      "(25, 45, 20, 6)\n",
      "(25, 45, 20, 6)\n",
      "(25, 45, 20, 6)\n",
      "(25, 45, 20, 6)\n",
      "(25, 45, 20, 6)\n",
      "(25, 45, 20, 6)\n",
      "(25, 45, 20, 6)\n",
      "(25, 45, 20, 6)\n",
      "(25, 45, 20, 6)\n",
      "(25, 45, 20, 6)\n",
      "(25, 45, 20, 6)\n",
      "(25, 45, 20, 6)\n",
      "(25, 45, 20, 6)\n",
      "(25, 45, 20, 6)\n",
      "(25, 45, 20, 6)\n",
      "(25, 45, 20, 6)\n",
      "(25, 45, 20, 6)\n",
      "(25, 45, 20, 6)\n",
      "(25, 45, 20, 6)\n",
      "(25, 45, 20, 6)\n",
      "(25, 45, 20, 6)\n",
      "(25, 45, 20, 6)\n",
      "(25, 45, 20, 6)\n",
      "(25, 45, 20, 6)\n",
      "(25, 45, 20, 6)\n",
      "(25, 45, 20, 6)\n",
      "(25, 45, 20, 6)\n",
      "(25, 45, 20, 6)\n",
      "(25, 45, 20, 6)\n",
      "(25, 45, 20, 6)\n",
      "(25, 45, 20, 6)\n",
      "(25, 45, 20, 6)\n",
      "(25, 45, 20, 6)\n",
      "(25, 45, 20, 6)\n",
      "(25, 45, 20, 6)\n",
      "(25, 45, 20, 6)\n",
      "(25, 45, 20, 6)\n",
      "(25, 45, 20, 6)\n",
      "(25, 45, 20, 6)\n",
      "(25, 45, 20, 6)\n",
      "(25, 45, 20, 6)\n",
      "(25, 45, 20, 6)\n",
      "(25, 45, 20, 6)\n",
      "(25, 45, 20, 6)\n",
      "(25, 45, 20, 6)\n",
      "(25, 45, 20, 6)\n",
      "(25, 45, 20, 6)\n",
      "(25, 45, 20, 6)\n",
      "(25, 45, 20, 6)\n",
      "(25, 45, 20, 6)\n",
      "(25, 45, 20, 6)\n",
      "(25, 45, 20, 6)\n",
      "(25, 45, 20, 6)\n",
      "(25, 45, 20, 6)\n",
      "(25, 45, 20, 6)\n",
      "(25, 45, 20, 6)\n",
      "(25, 45, 20, 6)\n",
      "(25, 45, 20, 6)\n",
      "(25, 45, 20, 6)\n",
      "(25, 45, 20, 6)\n",
      "(25, 45, 20, 6)\n",
      "(25, 45, 20, 6)\n",
      "(25, 45, 20, 6)\n",
      "(25, 45, 20, 6)\n",
      "(25, 45, 20, 6)\n",
      "(25, 45, 20, 6)\n",
      "(25, 45, 20, 6)\n",
      "(25, 45, 20, 6)\n",
      "(25, 45, 20, 6)\n",
      "(25, 45, 20, 6)\n",
      "(25, 45, 20, 6)\n",
      "(25, 45, 20, 6)\n",
      "(25, 45, 20, 6)\n",
      "(25, 45, 20, 6)\n",
      "(25, 45, 20, 6)\n",
      "(25, 45, 20, 6)\n",
      "(25, 45, 20, 6)\n",
      "(25, 45, 20, 6)\n",
      "(25, 45, 20, 6)\n",
      "(25, 45, 20, 6)\n",
      "(25, 45, 20, 6)\n",
      "(25, 45, 20, 6)\n",
      "(25, 45, 20, 6)\n",
      "(25, 45, 20, 6)\n",
      "(25, 45, 20, 6)\n",
      "(25, 45, 20, 6)\n",
      "(25, 45, 20, 6)\n",
      "(25, 45, 20, 6)\n",
      "(25, 45, 20, 6)\n",
      "(25, 45, 20, 6)\n",
      "(25, 45, 20, 6)\n",
      "(25, 45, 20, 6)\n",
      "(25, 45, 20, 6)\n",
      "(25, 45, 20, 6)\n",
      "(25, 45, 20, 6)\n",
      "(25, 45, 20, 6)\n",
      "(25, 45, 20, 6)\n",
      "(25, 45, 20, 6)\n",
      "(25, 45, 20, 6)\n",
      "(25, 45, 20, 6)\n",
      "(25, 45, 20, 6)\n",
      "(25, 45, 20, 6)\n",
      "(25, 45, 20, 6)\n",
      "(25, 45, 20, 6)\n",
      "(25, 45, 20, 6)\n",
      "(25, 45, 20, 6)\n",
      "(25, 45, 20, 6)\n",
      "(25, 45, 20, 6)\n",
      "(25, 45, 20, 6)\n",
      "(25, 45, 20, 6)\n",
      "(25, 45, 20, 6)\n",
      "(25, 45, 20, 6)\n",
      "(25, 45, 20, 6)\n",
      "(25, 45, 20, 6)\n",
      "(25, 45, 20, 6)\n",
      "(25, 45, 20, 6)\n",
      "(25, 45, 20, 6)\n",
      "(25, 45, 20, 6)\n",
      "(25, 45, 20, 6)\n",
      "(25, 45, 20, 6)\n",
      "(25, 45, 20, 6)\n",
      "(25, 45, 20, 6)\n",
      "(25, 45, 20, 6)\n",
      "(25, 45, 20, 6)\n",
      "(25, 45, 20, 6)\n",
      "(25, 45, 20, 6)\n",
      "(25, 45, 20, 6)\n",
      "(25, 45, 20, 6)\n",
      "(25, 45, 20, 6)\n",
      "(25, 45, 20, 6)\n",
      "(25, 45, 20, 6)\n",
      "(25, 45, 20, 6)\n",
      "(25, 45, 20, 6)\n",
      "(25, 45, 20, 6)\n",
      "(25, 45, 20, 6)\n",
      "(25, 45, 20, 6)\n",
      "(25, 45, 20, 6)\n",
      "(25, 45, 20, 6)\n",
      "(25, 45, 20, 6)\n",
      "(25, 45, 20, 6)\n",
      "(25, 45, 20, 6)\n",
      "(25, 45, 20, 6)\n",
      "(25, 45, 20, 6)\n",
      "(25, 45, 20, 6)\n",
      "(25, 45, 20, 6)\n",
      "(25, 45, 20, 6)\n",
      "(25, 45, 20, 6)\n",
      "(25, 45, 20, 6)\n",
      "(25, 45, 20, 6)\n",
      "(25, 45, 20, 6)\n",
      "(25, 45, 20, 6)\n",
      "(25, 45, 20, 6)\n",
      "(25, 45, 20, 6)\n",
      "(25, 45, 20, 6)\n",
      "(25, 45, 20, 6)\n",
      "(25, 45, 20, 6)\n",
      "(25, 45, 20, 6)\n",
      "(25, 45, 20, 6)\n",
      "(25, 45, 20, 6)\n",
      "(25, 45, 20, 6)\n",
      "(25, 45, 20, 6)\n",
      "(25, 45, 20, 6)\n",
      "(25, 45, 20, 6)\n",
      "(25, 45, 20, 6)\n",
      "(25, 45, 20, 6)\n",
      "(25, 45, 20, 6)\n",
      "(25, 45, 20, 6)\n",
      "(25, 45, 20, 6)\n",
      "(25, 45, 20, 6)\n",
      "(25, 45, 20, 6)\n",
      "(25, 45, 20, 6)\n",
      "(25, 45, 20, 6)\n",
      "(25, 45, 20, 6)\n",
      "(25, 45, 20, 6)\n",
      "(25, 45, 20, 6)\n",
      "(25, 45, 20, 6)\n",
      "(25, 45, 20, 6)\n",
      "(25, 45, 20, 6)\n",
      "(25, 45, 20, 6)\n",
      "(25, 45, 20, 6)\n",
      "(25, 45, 20, 6)\n",
      "(25, 45, 20, 6)\n",
      "(25, 45, 20, 6)\n",
      "(25, 45, 20, 6)\n",
      "(25, 45, 20, 6)\n",
      "(25, 45, 20, 6)\n",
      "(25, 45, 20, 6)\n",
      "(25, 45, 20, 6)\n",
      "(25, 45, 20, 6)\n",
      "(25, 45, 20, 6)\n",
      "(25, 45, 20, 6)\n",
      "(25, 45, 20, 6)\n",
      "(25, 45, 20, 6)\n",
      "(25, 45, 20, 6)\n",
      "(25, 45, 20, 6)\n",
      "(25, 45, 20, 6)\n",
      "(25, 45, 20, 6)\n",
      "(25, 45, 20, 6)\n",
      "(25, 45, 20, 6)\n",
      "(25, 45, 20, 6)\n",
      "(25, 45, 20, 6)\n",
      "(25, 45, 20, 6)\n",
      "(25, 45, 20, 6)\n",
      "(25, 45, 20, 6)\n",
      "(25, 45, 20, 6)\n",
      "(25, 45, 20, 6)\n",
      "(25, 45, 20, 6)\n",
      "(25, 45, 20, 6)\n",
      "(25, 45, 20, 6)\n",
      "(25, 45, 20, 6)\n",
      "(25, 45, 20, 6)\n",
      "(25, 45, 20, 6)\n",
      "(25, 45, 20, 6)\n",
      "(25, 45, 20, 6)\n",
      "(25, 45, 20, 6)\n",
      "(25, 45, 20, 6)\n",
      "(25, 45, 20, 6)\n",
      "(25, 45, 20, 6)\n",
      "(25, 45, 20, 6)\n",
      "(25, 45, 20, 6)\n",
      "(25, 45, 20, 6)\n",
      "(25, 45, 20, 6)\n",
      "(25, 45, 20, 6)\n",
      "(25, 45, 20, 6)\n",
      "(25, 45, 20, 6)\n",
      "(25, 45, 20, 6)\n",
      "(25, 45, 20, 6)\n",
      "(25, 45, 20, 6)\n",
      "(25, 45, 20, 6)\n",
      "(25, 45, 20, 6)\n",
      "(25, 45, 20, 6)\n",
      "(25, 45, 20, 6)\n",
      "(25, 45, 20, 6)\n",
      "(25, 45, 20, 6)\n",
      "(25, 45, 20, 6)\n",
      "(25, 45, 20, 6)\n",
      "(25, 45, 20, 6)\n",
      "(25, 45, 20, 6)\n",
      "(25, 45, 20, 6)\n",
      "(25, 45, 20, 6)\n",
      "(25, 45, 20, 6)\n",
      "(25, 45, 20, 6)\n",
      "(25, 45, 20, 6)\n",
      "(25, 45, 20, 6)\n",
      "(25, 45, 20, 6)\n",
      "(25, 45, 20, 6)\n",
      "(25, 45, 20, 6)\n",
      "(25, 45, 20, 6)\n",
      "(25, 45, 20, 6)\n",
      "(25, 45, 20, 6)\n",
      "(25, 45, 20, 6)\n",
      "(25, 45, 20, 6)\n",
      "(25, 45, 20, 6)\n",
      "(25, 45, 20, 6)\n",
      "(25, 45, 20, 6)\n",
      "(25, 45, 20, 6)\n",
      "(25, 45, 20, 6)\n",
      "(25, 45, 20, 6)\n",
      "(25, 45, 20, 6)\n",
      "(25, 45, 20, 6)\n",
      "(25, 45, 20, 6)\n",
      "(25, 45, 20, 6)\n",
      "(25, 45, 20, 6)\n",
      "(25, 45, 20, 6)\n",
      "(25, 45, 20, 6)\n",
      "(25, 45, 20, 6)\n",
      "(25, 45, 20, 6)\n",
      "(25, 45, 20, 6)\n",
      "(25, 45, 20, 6)\n",
      "(25, 45, 20, 6)\n",
      "(25, 45, 20, 6)\n",
      "(25, 45, 20, 6)\n",
      "(25, 45, 20, 6)\n",
      "(25, 45, 20, 6)\n",
      "(25, 45, 20, 6)\n",
      "(25, 45, 20, 6)\n",
      "(25, 45, 20, 6)\n",
      "(25, 45, 20, 6)\n",
      "(25, 45, 20, 6)\n",
      "(25, 45, 20, 6)\n",
      "(25, 45, 20, 6)\n",
      "(25, 45, 20, 6)\n",
      "(25, 45, 20, 6)\n",
      "(25, 45, 20, 6)\n",
      "(25, 45, 20, 6)\n",
      "(25, 45, 20, 6)\n",
      "(25, 45, 20, 6)\n",
      "(25, 45, 20, 6)\n",
      "(25, 45, 20, 6)\n",
      "(25, 45, 20, 6)\n",
      "(25, 45, 20, 6)\n"
     ]
    }
   ],
   "source": [
    "for b in coords_block:\n",
    "  print(b.shape)"
   ]
  },
  {
   "cell_type": "code",
   "execution_count": 109,
   "metadata": {},
   "outputs": [],
   "source": [
    "dsprev = SphericalDataset(**config.get_dataset_param(), intrans=None, outtrans=None)"
   ]
  },
  {
   "cell_type": "code",
   "execution_count": 110,
   "metadata": {},
   "outputs": [],
   "source": [
    "dsprev.curv = stand_norm(dsprev.curv)"
   ]
  },
  {
   "cell_type": "code",
   "execution_count": 111,
   "metadata": {},
   "outputs": [],
   "source": [
    "transcd = ds.outpp.transform(coords)"
   ]
  },
  {
   "cell_type": "code",
   "execution_count": 112,
   "metadata": {},
   "outputs": [
    {
     "data": {
      "text/plain": [
       "array([[ 0.09401977, -1.        , -0.94650984],\n",
       "       [ 0.09401977, -1.        , -0.9468272 ],\n",
       "       [ 0.09401977, -1.        , -0.9471446 ],\n",
       "       [ 0.09401977, -1.        , -0.94746196],\n",
       "       [ 0.09401977, -1.        , -0.94777966]], dtype=float32)"
      ]
     },
     "metadata": {},
     "output_type": "display_data"
    },
    {
     "data": {
      "text/plain": [
       "tensor([[ 0.0940, -1.0000, -0.9465],\n",
       "        [ 0.0940, -1.0000, -0.9468],\n",
       "        [ 0.0940, -1.0000, -0.9471],\n",
       "        [ 0.0940, -1.0000, -0.9475],\n",
       "        [ 0.0940, -1.0000, -0.9478]])"
      ]
     },
     "metadata": {},
     "output_type": "display_data"
    }
   ],
   "source": [
    "display(transcd[:5], dsprev.curv[:5])"
   ]
  },
  {
   "cell_type": "code",
   "execution_count": 113,
   "metadata": {},
   "outputs": [
    {
     "data": {
      "text/plain": [
       "array([[3.4850000e+03, 4.8780406e-05, 1.7039299e+02],\n",
       "       [3.4850000e+03, 4.8780406e-05, 1.6938213e+02],\n",
       "       [3.4850000e+03, 4.8780406e-05, 1.6837077e+02],\n",
       "       [3.4850000e+03, 4.8780406e-05, 1.6736003e+02],\n",
       "       [3.4850000e+03, 4.8780406e-05, 1.6634795e+02]], dtype=float32)"
      ]
     },
     "execution_count": 113,
     "metadata": {},
     "output_type": "execute_result"
    }
   ],
   "source": [
    "ds.outpp.inverse_transform(transcd[:5])"
   ]
  },
  {
   "cell_type": "code",
   "execution_count": 116,
   "metadata": {},
   "outputs": [
    {
     "data": {
      "text/plain": [
       "array([[3485.   ,    0.   ,  170.393],\n",
       "       [3485.   ,    0.   ,  169.382],\n",
       "       [3485.   ,    0.   ,  168.371],\n",
       "       [3485.   ,    0.   ,  167.36 ],\n",
       "       [3485.   ,    0.   ,  166.348]], dtype=float32)"
      ]
     },
     "execution_count": 116,
     "metadata": {},
     "output_type": "execute_result"
    }
   ],
   "source": [
    "coords[:5]"
   ]
  },
  {
   "cell_type": "code",
   "execution_count": 103,
   "metadata": {},
   "outputs": [
    {
     "data": {
      "text/plain": [
       "tensor([[ 0.0940, -1.0000, -0.9465],\n",
       "        [ 0.0940, -1.0000, -0.9468],\n",
       "        [ 0.0940, -1.0000, -0.9471],\n",
       "        [ 0.0940, -1.0000, -0.9475],\n",
       "        [ 0.0940, -1.0000, -0.9478]])"
      ]
     },
     "execution_count": 103,
     "metadata": {},
     "output_type": "execute_result"
    }
   ],
   "source": [
    "ds.curv[:5]"
   ]
  },
  {
   "cell_type": "code",
   "execution_count": 117,
   "metadata": {},
   "outputs": [],
   "source": [
    "curv_gt = np.load(\"eval/data/gt_nopole.npy\")\n",
    "curv_pred = np.load(\"eval/data/pred_nopole.npy\")"
   ]
  },
  {
   "cell_type": "code",
   "execution_count": 118,
   "metadata": {},
   "outputs": [
    {
     "data": {
      "text/plain": [
       "(11577600, 3)"
      ]
     },
     "execution_count": 118,
     "metadata": {},
     "output_type": "execute_result"
    }
   ],
   "source": [
    "\n",
    "curv_gt.shape"
   ]
  },
  {
   "cell_type": "code",
   "execution_count": 119,
   "metadata": {},
   "outputs": [
    {
     "data": {
      "text/plain": [
       "(11577600, 3)"
      ]
     },
     "execution_count": 119,
     "metadata": {},
     "output_type": "execute_result"
    }
   ],
   "source": [
    "coords.shape"
   ]
  },
  {
   "cell_type": "code",
   "execution_count": 62,
   "metadata": {},
   "outputs": [
    {
     "data": {
      "text/plain": [
       "tensor([[3485.0000,    0.0000,  170.3930],\n",
       "        [3485.0000,    0.0000,  169.3820],\n",
       "        [3485.0000,    0.0000,  168.3710],\n",
       "        [3485.0000,    0.0000,  167.3600],\n",
       "        [3485.0000,    0.0000,  166.3480]])"
      ]
     },
     "execution_count": 62,
     "metadata": {},
     "output_type": "execute_result"
    }
   ],
   "source": [
    "ds.coords[...,:3].reshape(-1, 3)[:5]"
   ]
  },
  {
   "cell_type": "code",
   "execution_count": 58,
   "metadata": {},
   "outputs": [
    {
     "data": {
      "text/plain": [
       "array([[3484.9998 ,    0.     ,  170.393  ],\n",
       "       [3484.9998 ,    0.     ,  169.38202],\n",
       "       [3484.9998 ,    0.     ,  168.371  ],\n",
       "       [3484.9998 ,    0.     ,  167.36   ],\n",
       "       [3484.9998 ,    0.     ,  166.34799]], dtype=float32)"
      ]
     },
     "execution_count": 58,
     "metadata": {},
     "output_type": "execute_result"
    }
   ],
   "source": [
    "curv_gt[:5]"
   ]
  },
  {
   "cell_type": "code",
   "execution_count": 60,
   "metadata": {},
   "outputs": [
    {
     "data": {
      "text/plain": [
       "array([[5080.262   ,   11.569483,   13.928986],\n",
       "       [5080.851   ,   10.589554,   13.883995],\n",
       "       [5080.7437  ,   11.071011,   13.865015],\n",
       "       [5077.89    ,   10.84445 ,   13.841349],\n",
       "       [5080.5234  ,   11.245075,   13.824697]], dtype=float32)"
      ]
     },
     "execution_count": 60,
     "metadata": {},
     "output_type": "execute_result"
    }
   ],
   "source": [
    "curv_pred[:5]"
   ]
  },
  {
   "cell_type": "code",
   "execution_count": 81,
   "metadata": {},
   "outputs": [
    {
     "ename": "ValueError",
     "evalue": "Expected 2D array, got 1D array instead:\narray=[1. 1. 1. 1. 1. 1. 1. 1. 1. 1.].\nReshape your data either using array.reshape(-1, 1) if your data has a single feature or array.reshape(1, -1) if it contains a single sample.",
     "output_type": "error",
     "traceback": [
      "\u001b[0;31m---------------------------------------------------------------------------\u001b[0m",
      "\u001b[0;31mValueError\u001b[0m                                Traceback (most recent call last)",
      "\u001b[0;32m<ipython-input-81-1cbc251a8460>\u001b[0m in \u001b[0;36m<module>\u001b[0;34m\u001b[0m\n\u001b[0;32m----> 1\u001b[0;31m \u001b[0mstd\u001b[0m\u001b[0;34m.\u001b[0m\u001b[0mfit\u001b[0m\u001b[0;34m(\u001b[0m\u001b[0mnp\u001b[0m\u001b[0;34m.\u001b[0m\u001b[0mones\u001b[0m\u001b[0;34m(\u001b[0m\u001b[0;36m10\u001b[0m\u001b[0;34m)\u001b[0m\u001b[0;34m)\u001b[0m\u001b[0;34m\u001b[0m\u001b[0;34m\u001b[0m\u001b[0m\n\u001b[0m",
      "\u001b[0;32m~/.conda/envs/vis/lib/python3.7/site-packages/sklearn/preprocessing/_data.py\u001b[0m in \u001b[0;36mfit\u001b[0;34m(self, X, y)\u001b[0m\n\u001b[1;32m    665\u001b[0m         \u001b[0;31m# Reset internal state before fitting\u001b[0m\u001b[0;34m\u001b[0m\u001b[0;34m\u001b[0m\u001b[0;34m\u001b[0m\u001b[0m\n\u001b[1;32m    666\u001b[0m         \u001b[0mself\u001b[0m\u001b[0;34m.\u001b[0m\u001b[0m_reset\u001b[0m\u001b[0;34m(\u001b[0m\u001b[0;34m)\u001b[0m\u001b[0;34m\u001b[0m\u001b[0;34m\u001b[0m\u001b[0m\n\u001b[0;32m--> 667\u001b[0;31m         \u001b[0;32mreturn\u001b[0m \u001b[0mself\u001b[0m\u001b[0;34m.\u001b[0m\u001b[0mpartial_fit\u001b[0m\u001b[0;34m(\u001b[0m\u001b[0mX\u001b[0m\u001b[0;34m,\u001b[0m \u001b[0my\u001b[0m\u001b[0;34m)\u001b[0m\u001b[0;34m\u001b[0m\u001b[0;34m\u001b[0m\u001b[0m\n\u001b[0m\u001b[1;32m    668\u001b[0m \u001b[0;34m\u001b[0m\u001b[0m\n\u001b[1;32m    669\u001b[0m     \u001b[0;32mdef\u001b[0m \u001b[0mpartial_fit\u001b[0m\u001b[0;34m(\u001b[0m\u001b[0mself\u001b[0m\u001b[0;34m,\u001b[0m \u001b[0mX\u001b[0m\u001b[0;34m,\u001b[0m \u001b[0my\u001b[0m\u001b[0;34m=\u001b[0m\u001b[0;32mNone\u001b[0m\u001b[0;34m)\u001b[0m\u001b[0;34m:\u001b[0m\u001b[0;34m\u001b[0m\u001b[0;34m\u001b[0m\u001b[0m\n",
      "\u001b[0;32m~/.conda/envs/vis/lib/python3.7/site-packages/sklearn/preprocessing/_data.py\u001b[0m in \u001b[0;36mpartial_fit\u001b[0;34m(self, X, y)\u001b[0m\n\u001b[1;32m    696\u001b[0m         X = self._validate_data(X, accept_sparse=('csr', 'csc'),\n\u001b[1;32m    697\u001b[0m                                 \u001b[0mestimator\u001b[0m\u001b[0;34m=\u001b[0m\u001b[0mself\u001b[0m\u001b[0;34m,\u001b[0m \u001b[0mdtype\u001b[0m\u001b[0;34m=\u001b[0m\u001b[0mFLOAT_DTYPES\u001b[0m\u001b[0;34m,\u001b[0m\u001b[0;34m\u001b[0m\u001b[0;34m\u001b[0m\u001b[0m\n\u001b[0;32m--> 698\u001b[0;31m                                 force_all_finite='allow-nan')\n\u001b[0m\u001b[1;32m    699\u001b[0m \u001b[0;34m\u001b[0m\u001b[0m\n\u001b[1;32m    700\u001b[0m         \u001b[0;31m# Even in the case of `with_mean=False`, we update the mean anyway\u001b[0m\u001b[0;34m\u001b[0m\u001b[0;34m\u001b[0m\u001b[0;34m\u001b[0m\u001b[0m\n",
      "\u001b[0;32m~/.conda/envs/vis/lib/python3.7/site-packages/sklearn/base.py\u001b[0m in \u001b[0;36m_validate_data\u001b[0;34m(self, X, y, reset, validate_separately, **check_params)\u001b[0m\n\u001b[1;32m    418\u001b[0m                     \u001b[0;34mf\"requires y to be passed, but the target y is None.\"\u001b[0m\u001b[0;34m\u001b[0m\u001b[0;34m\u001b[0m\u001b[0m\n\u001b[1;32m    419\u001b[0m                 )\n\u001b[0;32m--> 420\u001b[0;31m             \u001b[0mX\u001b[0m \u001b[0;34m=\u001b[0m \u001b[0mcheck_array\u001b[0m\u001b[0;34m(\u001b[0m\u001b[0mX\u001b[0m\u001b[0;34m,\u001b[0m \u001b[0;34m**\u001b[0m\u001b[0mcheck_params\u001b[0m\u001b[0;34m)\u001b[0m\u001b[0;34m\u001b[0m\u001b[0;34m\u001b[0m\u001b[0m\n\u001b[0m\u001b[1;32m    421\u001b[0m             \u001b[0mout\u001b[0m \u001b[0;34m=\u001b[0m \u001b[0mX\u001b[0m\u001b[0;34m\u001b[0m\u001b[0;34m\u001b[0m\u001b[0m\n\u001b[1;32m    422\u001b[0m         \u001b[0;32melse\u001b[0m\u001b[0;34m:\u001b[0m\u001b[0;34m\u001b[0m\u001b[0;34m\u001b[0m\u001b[0m\n",
      "\u001b[0;32m~/.conda/envs/vis/lib/python3.7/site-packages/sklearn/utils/validation.py\u001b[0m in \u001b[0;36minner_f\u001b[0;34m(*args, **kwargs)\u001b[0m\n\u001b[1;32m     70\u001b[0m                           FutureWarning)\n\u001b[1;32m     71\u001b[0m         \u001b[0mkwargs\u001b[0m\u001b[0;34m.\u001b[0m\u001b[0mupdate\u001b[0m\u001b[0;34m(\u001b[0m\u001b[0;34m{\u001b[0m\u001b[0mk\u001b[0m\u001b[0;34m:\u001b[0m \u001b[0marg\u001b[0m \u001b[0;32mfor\u001b[0m \u001b[0mk\u001b[0m\u001b[0;34m,\u001b[0m \u001b[0marg\u001b[0m \u001b[0;32min\u001b[0m \u001b[0mzip\u001b[0m\u001b[0;34m(\u001b[0m\u001b[0msig\u001b[0m\u001b[0;34m.\u001b[0m\u001b[0mparameters\u001b[0m\u001b[0;34m,\u001b[0m \u001b[0margs\u001b[0m\u001b[0;34m)\u001b[0m\u001b[0;34m}\u001b[0m\u001b[0;34m)\u001b[0m\u001b[0;34m\u001b[0m\u001b[0;34m\u001b[0m\u001b[0m\n\u001b[0;32m---> 72\u001b[0;31m         \u001b[0;32mreturn\u001b[0m \u001b[0mf\u001b[0m\u001b[0;34m(\u001b[0m\u001b[0;34m**\u001b[0m\u001b[0mkwargs\u001b[0m\u001b[0;34m)\u001b[0m\u001b[0;34m\u001b[0m\u001b[0;34m\u001b[0m\u001b[0m\n\u001b[0m\u001b[1;32m     73\u001b[0m     \u001b[0;32mreturn\u001b[0m \u001b[0minner_f\u001b[0m\u001b[0;34m\u001b[0m\u001b[0;34m\u001b[0m\u001b[0m\n\u001b[1;32m     74\u001b[0m \u001b[0;34m\u001b[0m\u001b[0m\n",
      "\u001b[0;32m~/.conda/envs/vis/lib/python3.7/site-packages/sklearn/utils/validation.py\u001b[0m in \u001b[0;36mcheck_array\u001b[0;34m(array, accept_sparse, accept_large_sparse, dtype, order, copy, force_all_finite, ensure_2d, allow_nd, ensure_min_samples, ensure_min_features, estimator)\u001b[0m\n\u001b[1;32m    621\u001b[0m                     \u001b[0;34m\"Reshape your data either using array.reshape(-1, 1) if \"\u001b[0m\u001b[0;34m\u001b[0m\u001b[0;34m\u001b[0m\u001b[0m\n\u001b[1;32m    622\u001b[0m                     \u001b[0;34m\"your data has a single feature or array.reshape(1, -1) \"\u001b[0m\u001b[0;34m\u001b[0m\u001b[0;34m\u001b[0m\u001b[0m\n\u001b[0;32m--> 623\u001b[0;31m                     \"if it contains a single sample.\".format(array))\n\u001b[0m\u001b[1;32m    624\u001b[0m \u001b[0;34m\u001b[0m\u001b[0m\n\u001b[1;32m    625\u001b[0m         \u001b[0;31m# in the future np.flexible dtypes will be handled like object dtypes\u001b[0m\u001b[0;34m\u001b[0m\u001b[0;34m\u001b[0m\u001b[0;34m\u001b[0m\u001b[0m\n",
      "\u001b[0;31mValueError\u001b[0m: Expected 2D array, got 1D array instead:\narray=[1. 1. 1. 1. 1. 1. 1. 1. 1. 1.].\nReshape your data either using array.reshape(-1, 1) if your data has a single feature or array.reshape(1, -1) if it contains a single sample."
     ]
    }
   ],
   "source": [
    "std.fit(np.ones(10))"
   ]
  },
  {
   "cell_type": "code",
   "execution_count": 46,
   "metadata": {},
   "outputs": [],
   "source": [
    "mycurv = ds.outpp.inverse_transform(ds.curv)"
   ]
  },
  {
   "cell_type": "code",
   "execution_count": 19,
   "metadata": {},
   "outputs": [
    {
     "ename": "TypeError",
     "evalue": "fit() got an unexpected keyword argument 'axis'",
     "output_type": "error",
     "traceback": [
      "\u001b[0;31m---------------------------------------------------------------------------\u001b[0m",
      "\u001b[0;31mTypeError\u001b[0m                                 Traceback (most recent call last)",
      "\u001b[0;32m<ipython-input-19-0fa04e20e8f8>\u001b[0m in \u001b[0;36m<module>\u001b[0;34m\u001b[0m\n\u001b[0;32m----> 1\u001b[0;31m \u001b[0mstd\u001b[0m\u001b[0;34m.\u001b[0m\u001b[0mfit\u001b[0m\u001b[0;34m(\u001b[0m\u001b[0maxis\u001b[0m\u001b[0;34m=\u001b[0m\u001b[0;36m1\u001b[0m\u001b[0;34m)\u001b[0m\u001b[0;34m\u001b[0m\u001b[0;34m\u001b[0m\u001b[0m\n\u001b[0m",
      "\u001b[0;31mTypeError\u001b[0m: fit() got an unexpected keyword argument 'axis'"
     ]
    }
   ],
   "source": [
    "std.fit(axis=1)"
   ]
  },
  {
   "cell_type": "code",
   "execution_count": 25,
   "metadata": {},
   "outputs": [],
   "source": [
    "a = np.array([0,1])\n",
    "b = np.array([2,3])"
   ]
  },
  {
   "cell_type": "code",
   "execution_count": 26,
   "metadata": {},
   "outputs": [],
   "source": [
    "tmp = a\n",
    "a = b\n",
    "b = tmp"
   ]
  },
  {
   "cell_type": "code",
   "execution_count": 28,
   "metadata": {},
   "outputs": [
    {
     "data": {
      "text/plain": [
       "array([2, 3])"
      ]
     },
     "execution_count": 28,
     "metadata": {},
     "output_type": "execute_result"
    }
   ],
   "source": [
    "a"
   ]
  },
  {
   "cell_type": "code",
   "execution_count": 3,
   "metadata": {},
   "outputs": [],
   "source": [
    "traj_down = np.load(\"data/down2/trajectories.npy\")\n",
    "traj_len_down = np.load(\"data/down2/tra_len.npy\")"
   ]
  },
  {
   "cell_type": "code",
   "execution_count": 31,
   "metadata": {},
   "outputs": [],
   "source": [
    "a = np.zeros((2, 256, 4))\n",
    "b = np.zeros((2, 200, 4))\n",
    "npad = np.zeros((2, 56, 4))"
   ]
  },
  {
   "cell_type": "code",
   "execution_count": 33,
   "metadata": {},
   "outputs": [
    {
     "data": {
      "text/plain": [
       "(2, 256, 4)"
      ]
     },
     "execution_count": 33,
     "metadata": {},
     "output_type": "execute_result"
    }
   ],
   "source": [
    "npad = np.zeros((2, 56, 4))\n",
    "np.concatenate((b, npad), axis=1).shape"
   ]
  },
  {
   "cell_type": "code",
   "execution_count": 20,
   "metadata": {},
   "outputs": [
    {
     "ename": "ValueError",
     "evalue": "all the input array dimensions for the concatenation axis must match exactly, but along dimension 1, the array at index 0 has size 256 and the array at index 1 has size 200",
     "output_type": "error",
     "traceback": [
      "\u001b[0;31m---------------------------------------------------------------------------\u001b[0m",
      "\u001b[0;31mValueError\u001b[0m                                Traceback (most recent call last)",
      "\u001b[0;32m<ipython-input-20-0ed2f549f1e6>\u001b[0m in \u001b[0;36m<module>\u001b[0;34m\u001b[0m\n\u001b[0;32m----> 1\u001b[0;31m \u001b[0mnp\u001b[0m\u001b[0;34m.\u001b[0m\u001b[0mconcatenate\u001b[0m\u001b[0;34m(\u001b[0m\u001b[0;34m(\u001b[0m\u001b[0ma\u001b[0m\u001b[0;34m,\u001b[0m \u001b[0mb\u001b[0m\u001b[0;34m)\u001b[0m\u001b[0;34m,\u001b[0m \u001b[0maxis\u001b[0m\u001b[0;34m=\u001b[0m\u001b[0;36m0\u001b[0m\u001b[0;34m)\u001b[0m\u001b[0;34m\u001b[0m\u001b[0;34m\u001b[0m\u001b[0m\n\u001b[0m",
      "\u001b[0;32m<__array_function__ internals>\u001b[0m in \u001b[0;36mconcatenate\u001b[0;34m(*args, **kwargs)\u001b[0m\n",
      "\u001b[0;31mValueError\u001b[0m: all the input array dimensions for the concatenation axis must match exactly, but along dimension 1, the array at index 0 has size 256 and the array at index 1 has size 200"
     ]
    }
   ],
   "source": [
    "np.concatenate((a, b), axis=0, pad)"
   ]
  },
  {
   "cell_type": "code",
   "execution_count": 18,
   "metadata": {},
   "outputs": [
    {
     "data": {
      "text/plain": [
       "(9, 1)"
      ]
     },
     "execution_count": 18,
     "metadata": {},
     "output_type": "execute_result"
    }
   ],
   "source": [
    "np.arange(1, 10, 1)[:,None].shape"
   ]
  },
  {
   "cell_type": "code",
   "execution_count": 13,
   "metadata": {},
   "outputs": [
    {
     "data": {
      "text/plain": [
       "(5, 2, 4)"
      ]
     },
     "execution_count": 13,
     "metadata": {},
     "output_type": "execute_result"
    }
   ],
   "source": [
    "np.repeat(a[None, :, 0, :], 5, 0).shape"
   ]
  },
  {
   "cell_type": "code",
   "execution_count": 6,
   "metadata": {},
   "outputs": [
    {
     "data": {
      "text/plain": [
       "array([1320, 1100, 2001, 1988, 2001, 1487, 1822, 2001, 2001, 2001],\n",
       "      dtype=int32)"
      ]
     },
     "execution_count": 6,
     "metadata": {},
     "output_type": "execute_result"
    }
   ],
   "source": [
    "traj_len_down[rand_idx[:10]]"
   ]
  },
  {
   "cell_type": "code",
   "execution_count": 7,
   "metadata": {},
   "outputs": [
    {
     "ename": "TypeError",
     "evalue": "only integer scalar arrays can be converted to a scalar index",
     "output_type": "error",
     "traceback": [
      "\u001b[0;31m---------------------------------------------------------------------------\u001b[0m",
      "\u001b[0;31mTypeError\u001b[0m                                 Traceback (most recent call last)",
      "\u001b[0;32m<ipython-input-7-7b68436eb840>\u001b[0m in \u001b[0;36m<module>\u001b[0;34m\u001b[0m\n\u001b[0;32m----> 1\u001b[0;31m \u001b[0mtraj_down\u001b[0m\u001b[0;34m[\u001b[0m\u001b[0mrand_idx\u001b[0m\u001b[0;34m[\u001b[0m\u001b[0;34m:\u001b[0m\u001b[0;36m10\u001b[0m\u001b[0;34m]\u001b[0m\u001b[0;34m,\u001b[0m \u001b[0;34m:\u001b[0m\u001b[0mtraj_len_down\u001b[0m\u001b[0;34m[\u001b[0m\u001b[0mrand_idx\u001b[0m\u001b[0;34m[\u001b[0m\u001b[0;34m:\u001b[0m\u001b[0;36m10\u001b[0m\u001b[0;34m]\u001b[0m\u001b[0;34m]\u001b[0m\u001b[0;34m]\u001b[0m\u001b[0;34m\u001b[0m\u001b[0;34m\u001b[0m\u001b[0m\n\u001b[0m",
      "\u001b[0;31mTypeError\u001b[0m: only integer scalar arrays can be converted to a scalar index"
     ]
    }
   ],
   "source": [
    "traj_down[rand_idx[:10],]"
   ]
  },
  {
   "cell_type": "code",
   "execution_count": 4,
   "metadata": {},
   "outputs": [],
   "source": [
    "rand_idx = torch.randperm(len(traj_down))"
   ]
  },
  {
   "cell_type": "code",
   "execution_count": 2,
   "metadata": {},
   "outputs": [],
   "source": [
    "traj = np.load(\"data/gt/trajectories.npy\")"
   ]
  },
  {
   "cell_type": "code",
   "execution_count": 3,
   "metadata": {},
   "outputs": [],
   "source": [
    "traj_len = np.load(\"data/gt/tra_len.npy\")"
   ]
  },
  {
   "cell_type": "code",
   "execution_count": 123,
   "metadata": {},
   "outputs": [],
   "source": [
    "traj_sm_len = np.load(\"data/down2/tra_len.npy\")"
   ]
  },
  {
   "cell_type": "code",
   "execution_count": 18,
   "metadata": {},
   "outputs": [],
   "source": [
    "class Test():\n",
    "  def __init__(self, data, traj_len, in_idx, input_trans=normalization):\n",
    "    self.timelen = traj_len\n",
    "    self.input_trans = input_trans\n",
    "    print(data.shape)\n",
    "    self.input = torch.tensor(data[:, :, in_idx], dtype=torch.float32)\n",
    "    # self.input_coord = torch.tensor(data[:, 0, in_idx], dtype=torch.float32)\n",
    "\n",
    "    # if self.input_trans is not None:\n",
    "    #   self.input = self.input_trans(self.input, dim=None)\n",
    "      \n",
    "    input_list = []\n",
    "    target_list = []\n",
    "    for i in trange(self.timelen.shape[0]):\n",
    "      curr_pos = self.input[i, :(self.timelen[i]-1)]\n",
    "      next_pos = self.input[i, 1:self.timelen[i]]\n",
    "      delta = curr_pos - next_pos\n",
    "      input_list.append(curr_pos)\n",
    "      target_list.append(delta)\n",
    "\n",
    "    self.input = torch.concat(input_list, dim=0)\n",
    "    self.target = torch.concat(target_list, dim=0)"
   ]
  },
  {
   "cell_type": "code",
   "execution_count": 164,
   "metadata": {},
   "outputs": [],
   "source": [
    "rand_idx = torch.randperm(traj.shape[0])"
   ]
  },
  {
   "cell_type": "code",
   "execution_count": 166,
   "metadata": {},
   "outputs": [],
   "source": [
    "rand_idx = torch.randperm(traj.shape[0])\n",
    "num_out = traj.shape[0]//2\n",
    "np.save('data/down2/trajectories.npy', traj[rand_idx[:num_out]])\n",
    "np.save('data/down2/tra_len.npy', traj_len[rand_idx[:num_out]])"
   ]
  },
  {
   "cell_type": "code",
   "execution_count": 12,
   "metadata": {},
   "outputs": [],
   "source": []
  },
  {
   "cell_type": "code",
   "execution_count": 24,
   "metadata": {},
   "outputs": [
    {
     "data": {
      "text/plain": [
       "(array([6.0000e+00, 7.7000e+01, 8.8200e+02, 1.9910e+03, 3.6240e+03,\n",
       "        4.0470e+03, 3.8410e+03, 3.4200e+03, 3.0720e+03, 6.2314e+04]),\n",
       " array([ 186. ,  367.5,  549. ,  730.5,  912. , 1093.5, 1275. , 1456.5,\n",
       "        1638. , 1819.5, 2001. ]),\n",
       " <BarContainer object of 10 artists>)"
      ]
     },
     "execution_count": 24,
     "metadata": {},
     "output_type": "execute_result"
    },
    {
     "data": {
      "image/png": "[encoded data removed]",
      "text/plain": [
       "<Figure size 432x288 with 1 Axes>"
      ]
     },
     "metadata": {
      "needs_background": "light"
     },
     "output_type": "display_data"
    }
   ],
   "source": [
    "plt.hist(traj_len,bins=10)"
   ]
  },
  {
   "cell_type": "code",
   "execution_count": 34,
   "metadata": {},
   "outputs": [
    {
     "ename": "TypeError",
     "evalue": "expected Tensor as element 0 in argument 0, but got list",
     "output_type": "error",
     "traceback": [
      "\u001b[0;31m---------------------------------------------------------------------------\u001b[0m",
      "\u001b[0;31mTypeError\u001b[0m                                 Traceback (most recent call last)",
      "\u001b[0;32m<ipython-input-34-7690b78735c1>\u001b[0m in \u001b[0;36m<module>\u001b[0;34m\u001b[0m\n\u001b[0;32m----> 1\u001b[0;31m \u001b[0mtorch\u001b[0m\u001b[0;34m.\u001b[0m\u001b[0mcat\u001b[0m\u001b[0;34m(\u001b[0m\u001b[0;34m(\u001b[0m\u001b[0;34m[\u001b[0m\u001b[0;36m1\u001b[0m\u001b[0;34m]\u001b[0m\u001b[0;34m,\u001b[0m\u001b[0;34m[\u001b[0m\u001b[0;36m2\u001b[0m\u001b[0;34m]\u001b[0m\u001b[0;34m)\u001b[0m\u001b[0;34m)\u001b[0m\u001b[0;34m\u001b[0m\u001b[0;34m\u001b[0m\u001b[0m\n\u001b[0m",
      "\u001b[0;31mTypeError\u001b[0m: expected Tensor as element 0 in argument 0, but got list"
     ]
    }
   ],
   "source": [
    "torch.cat(())"
   ]
  },
  {
   "cell_type": "code",
   "execution_count": 37,
   "metadata": {},
   "outputs": [],
   "source": [
    "i = torch.randint(0, 10, (1,))"
   ]
  },
  {
   "cell_type": "code",
   "execution_count": 40,
   "metadata": {},
   "outputs": [
    {
     "data": {
      "text/plain": [
       "tensor([6])"
      ]
     },
     "execution_count": 40,
     "metadata": {},
     "output_type": "execute_result"
    }
   ],
   "source": [
    "i"
   ]
  },
  {
   "cell_type": "code",
   "execution_count": 26,
   "metadata": {},
   "outputs": [
    {
     "data": {
      "text/plain": [
       "(59704,)"
      ]
     },
     "execution_count": 26,
     "metadata": {},
     "output_type": "execute_result"
    }
   ],
   "source": [
    "traj_len[traj_len >= 2000]"
   ]
  },
  {
   "cell_type": "code",
   "execution_count": 14,
   "metadata": {},
   "outputs": [
    {
     "data": {
      "text/plain": [
       "(1523, 6)"
      ]
     },
     "execution_count": 14,
     "metadata": {},
     "output_type": "execute_result"
    }
   ],
   "source": [
    "traj[0, range(traj_len[1])].shape"
   ]
  }
 ],
 "metadata": {
  "interpreter": {
   "hash": "d82c3ef9a9c52ca48f89a57a471345d340895240528db2b7c56159ebd2138f11"
  },
  "kernelspec": {
   "display_name": "Python 3.7.10 ('vis': conda)",
   "language": "python",
   "name": "python3"
  },
  "language_info": {
   "codemirror_mode": {
    "name": "ipython",
    "version": 3
   },
   "file_extension": ".py",
   "mimetype": "text/x-python",
   "name": "python",
   "nbconvert_exporter": "python",
   "pygments_lexer": "ipython3",
   "version": "3.7.10"
  },
  "orig_nbformat": 4
 },
 "nbformat": 4,
 "nbformat_minor": 2
}
