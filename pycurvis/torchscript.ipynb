{
 "cells": [
  {
   "cell_type": "code",
   "execution_count": 1,
   "metadata": {},
   "outputs": [
    {
     "name": "stdout",
     "output_type": "stream",
     "text": [
      "transforming inputs\n"
     ]
    }
   ],
   "source": [
    "import torch\n",
    "from data.data import *\n",
    "from train import load_checkpoint\n",
    "from cfg.configs import Config\n",
    "\n",
    "nncfg = Config(\"nn_vls_dense.yaml\")\n",
    "model_dir = nncfg.config['model']['log_dir']\n",
    "ds = nncfg.get_dataset()\n",
    "%load_ext autoreload\n",
    "%autoreload 2"
   ]
  },
  {
   "cell_type": "code",
   "execution_count": 2,
   "metadata": {},
   "outputs": [
    {
     "name": "stdout",
     "output_type": "stream",
     "text": [
      "transforming inputs\n"
     ]
    }
   ],
   "source": [
    "impcfg = Config(\"nn_vls_lg.yaml\")\n",
    "\n",
    "sirencfg = Config(\"nn_vls_siren.yaml\")\n",
    "rescfg = Config(\"nn_vls_res.yaml\")\n",
    "attncfg = Config(\"nn_vls_attn.yaml\")\n",
    "densecfg = Config(\"nn_vls_dense.yaml\")\n",
    "\n",
    "# mlp = load_checkpoint(\"log/mlp.pt\", impcfg)\n",
    "siren = load_checkpoint(\"log/siren.pt\", sirencfg)\n",
    "res = load_checkpoint(  \"log/res.pt\",   rescfg)\n",
    "attn = load_checkpoint( \"log/attn.pt\",  attncfg)\n",
    "dense = load_checkpoint(\"log/dense.pt\", densecfg)\n",
    "\n",
    "ds = sirencfg.get_dataset()\n",
    "\n",
    "ckpts = [ siren, res, attn, dense]\n",
    "models = [ckpt['model'] for ckpt in ckpts]\n",
    "names = [ \"siren\", \"res\", \"attn\", \"dense\"]"
   ]
  },
  {
   "cell_type": "code",
   "execution_count": 5,
   "metadata": {},
   "outputs": [],
   "source": [
    "params = ds.inpp.get_params()\n",
    "stder = params['steps'][0][1]\n",
    "normer = params['steps'][1][1]"
   ]
  },
  {
   "cell_type": "code",
   "execution_count": 14,
   "metadata": {},
   "outputs": [
    {
     "data": {
      "text/plain": [
       "array([[147.92345  ],\n",
       "       [219.87125  ],\n",
       "       [ -1.809802 ],\n",
       "       [  2.4927158]], dtype=float32)"
      ]
     },
     "execution_count": 14,
     "metadata": {},
     "output_type": "execute_result"
    }
   ],
   "source": [
    "stats = np.array([stder.mean_, stder.scale_, normer.data_min_, normer.data_max_], dtype=np.float32)\n",
    "stats"
   ]
  },
  {
   "cell_type": "code",
   "execution_count": 15,
   "metadata": {},
   "outputs": [],
   "source": [
    "num = np.array([4], dtype=np.int32)\n",
    "with open(\"log/ts/stats.bin\", 'wb') as f:\n",
    "  f.write(num.tobytes())\n",
    "  f.write(stats.tobytes())"
   ]
  },
  {
   "cell_type": "code",
   "execution_count": null,
   "metadata": {},
   "outputs": [],
   "source": []
  },
  {
   "cell_type": "code",
   "execution_count": 3,
   "metadata": {},
   "outputs": [],
   "source": [
    "example = torch.rand(2, 3)\n",
    "for i in range(len(models)):\n",
    "  traced_script_module = torch.jit.trace(models[i], example)\n",
    "  traced_script_module.save(f\"log/ts/{names[i]}.pt\")"
   ]
  },
  {
   "cell_type": "code",
   "execution_count": 6,
   "metadata": {},
   "outputs": [],
   "source": [
    "stand = ds.inpp.get_params()['steps'][0][1]\n",
    "norm = ds.inpp.get_params()['steps'][1][1]"
   ]
  },
  {
   "cell_type": "code",
   "execution_count": 13,
   "metadata": {},
   "outputs": [
    {
     "data": {
      "text/plain": [
       "{'copy': True, 'feature_range': (0, 1)}"
      ]
     },
     "execution_count": 13,
     "metadata": {},
     "output_type": "execute_result"
    }
   ],
   "source": [
    "norm.get_params()"
   ]
  },
  {
   "cell_type": "code",
   "execution_count": 1,
   "metadata": {},
   "outputs": [
    {
     "ename": "NameError",
     "evalue": "name 'stand' is not defined",
     "output_type": "error",
     "traceback": [
      "\u001b[0;31m---------------------------------------------------------------------------\u001b[0m",
      "\u001b[0;31mNameError\u001b[0m                                 Traceback (most recent call last)",
      "\u001b[1;32m/home/xiong336/course/scivis/cse5194-scivis/pycurvis/torchscript.ipynb Cell 7'\u001b[0m in \u001b[0;36m<module>\u001b[0;34m\u001b[0m\n\u001b[0;32m----> <a href='vscode-notebook-cell://wsl%2Bubuntu/home/xiong336/course/scivis/cse5194-scivis/pycurvis/torchscript.ipynb#ch0000006vscode-remote?line=0'>1</a>\u001b[0m params \u001b[39m=\u001b[39m [stand\u001b[39m.\u001b[39mmean_, stand\u001b[39m.\u001b[39mscale_, norm\u001b[39m.\u001b[39mdata_max_, norm\u001b[39m.\u001b[39mdata_min_]\n",
      "\u001b[0;31mNameError\u001b[0m: name 'stand' is not defined"
     ]
    }
   ],
   "source": [
    "params = [stand.mean_, stand.scale_, norm.data_max_, norm.data_min_]"
   ]
  }
 ],
 "metadata": {
  "interpreter": {
   "hash": "44db033dc3db8494f6ded4c1fa8ecb9762ec23261956ed8a4037180552ccc6e0"
  },
  "kernelspec": {
   "display_name": "Python 3.7.6 ('ml37')",
   "language": "python",
   "name": "python3"
  },
  "language_info": {
   "codemirror_mode": {
    "name": "ipython",
    "version": 3
   },
   "file_extension": ".py",
   "mimetype": "text/x-python",
   "name": "python",
   "nbconvert_exporter": "python",
   "pygments_lexer": "ipython3",
   "version": "3.7.6"
  },
  "orig_nbformat": 4
 },
 "nbformat": 4,
 "nbformat_minor": 2
}
