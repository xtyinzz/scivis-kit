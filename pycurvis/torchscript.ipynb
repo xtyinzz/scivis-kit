{
 "cells": [
  {
   "cell_type": "code",
   "execution_count": 1,
   "metadata": {},
   "outputs": [],
   "source": [
    "import torch\n",
    "from train import load_checkpoint\n",
    "from cfg.configs import Config\n",
    "nncfg = Config(\"nn_vls_md.yaml\")\n",
    "model_dir = nncfg.config['model']['log_dir']"
   ]
  },
  {
   "cell_type": "code",
   "execution_count": 2,
   "metadata": {},
   "outputs": [],
   "source": [
    "a = torch.rand(32, 32, 32)"
   ]
  },
  {
   "cell_type": "code",
   "execution_count": 3,
   "metadata": {},
   "outputs": [
    {
     "data": {
      "text/plain": [
       "tensor(0.4987)"
      ]
     },
     "execution_count": 3,
     "metadata": {},
     "output_type": "execute_result"
    }
   ],
   "source": [
    "a.mean()"
   ]
  },
  {
   "cell_type": "code",
   "execution_count": 7,
   "metadata": {},
   "outputs": [
    {
     "data": {
      "text/plain": [
       "tensor(1.0000)"
      ]
     },
     "execution_count": 7,
     "metadata": {},
     "output_type": "execute_result"
    }
   ],
   "source": [
    "a.max()"
   ]
  },
  {
   "cell_type": "code",
   "execution_count": 14,
   "metadata": {},
   "outputs": [],
   "source": [
    "ckpt = load_checkpoint(f\"{model_dir}/ckpt_2499_-001_2.15e-02\", nncfg)\n",
    "model = ckpt['model']\n",
    "example = torch.rand(2, 3)\n",
    "traced_script_module = torch.jit.trace(model, example)\n",
    "traced_script_module.save(f\"{model_dir}/traced_2499_1.pt\")"
   ]
  },
  {
   "cell_type": "code",
   "execution_count": 3,
   "metadata": {},
   "outputs": [],
   "source": [
    "ckpt = load_checkpoint(f\"{model_dir}/ckpt_7298_-001_8.76e-06\", nncfg)\n",
    "model = ckpt['model']\n",
    "example = torch.rand(2, 3)\n",
    "traced_script_module = torch.jit.trace(model, example)\n",
    "traced_script_module.save(f\"{model_dir}/traced_7300_1.pt\")"
   ]
  },
  {
   "cell_type": "code",
   "execution_count": 4,
   "metadata": {},
   "outputs": [
    {
     "name": "stdout",
     "output_type": "stream",
     "text": [
      "transforming inputs\n"
     ]
    }
   ],
   "source": [
    "ds = nncfg.get_dataset()"
   ]
  },
  {
   "cell_type": "code",
   "execution_count": 6,
   "metadata": {},
   "outputs": [],
   "source": [
    "stand = ds.inpp.get_params()['steps'][0][1]\n",
    "norm = ds.inpp.get_params()['steps'][1][1]"
   ]
  },
  {
   "cell_type": "code",
   "execution_count": 13,
   "metadata": {},
   "outputs": [
    {
     "data": {
      "text/plain": [
       "{'copy': True, 'feature_range': (0, 1)}"
      ]
     },
     "execution_count": 13,
     "metadata": {},
     "output_type": "execute_result"
    }
   ],
   "source": [
    "norm.get_params()"
   ]
  },
  {
   "cell_type": "code",
   "execution_count": 1,
   "metadata": {},
   "outputs": [
    {
     "ename": "NameError",
     "evalue": "name 'stand' is not defined",
     "output_type": "error",
     "traceback": [
      "\u001b[0;31m---------------------------------------------------------------------------\u001b[0m",
      "\u001b[0;31mNameError\u001b[0m                                 Traceback (most recent call last)",
      "\u001b[1;32m/home/xiong336/course/scivis/cse5194-scivis/pycurvis/torchscript.ipynb Cell 7'\u001b[0m in \u001b[0;36m<module>\u001b[0;34m\u001b[0m\n\u001b[0;32m----> <a href='vscode-notebook-cell://wsl%2Bubuntu/home/xiong336/course/scivis/cse5194-scivis/pycurvis/torchscript.ipynb#ch0000006vscode-remote?line=0'>1</a>\u001b[0m params \u001b[39m=\u001b[39m [stand\u001b[39m.\u001b[39mmean_, stand\u001b[39m.\u001b[39mscale_, norm\u001b[39m.\u001b[39mdata_max_, norm\u001b[39m.\u001b[39mdata_min_]\n",
      "\u001b[0;31mNameError\u001b[0m: name 'stand' is not defined"
     ]
    }
   ],
   "source": [
    "params = [stand.mean_, stand.scale_, norm.data_max_, norm.data_min_]"
   ]
  }
 ],
 "metadata": {
  "interpreter": {
   "hash": "f579e5a590b776c810cf09a4ac859a57499ccf19b09f5193e197d5d21efa5bea"
  },
  "kernelspec": {
   "display_name": "Python 3.8.10 ('vis')",
   "language": "python",
   "name": "python3"
  },
  "language_info": {
   "codemirror_mode": {
    "name": "ipython",
    "version": 3
   },
   "file_extension": ".py",
   "mimetype": "text/x-python",
   "name": "python",
   "nbconvert_exporter": "python",
   "pygments_lexer": "ipython3",
   "version": "3.7.6"
  },
  "orig_nbformat": 4
 },
 "nbformat": 4,
 "nbformat_minor": 2
}
