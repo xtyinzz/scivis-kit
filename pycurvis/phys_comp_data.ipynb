{
 "cells": [
  {
   "cell_type": "code",
   "execution_count": 5,
   "metadata": {},
   "outputs": [
    {
     "name": "stdout",
     "output_type": "stream",
     "text": [
      "The autoreload extension is already loaded. To reload it, use:\n",
      "  %reload_ext autoreload\n"
     ]
    }
   ],
   "source": [
    "import numpy as np\n",
    "import torch\n",
    "from torch.utils.data import DataLoader, Dataset\n",
    "import vtk\n",
    "from vtkmodules.util import numpy_support\n",
    "from data.data import fitTransPipeline\n",
    "from cfg.configs import Config\n",
    "from train import load_checkpoint\n",
    "from eval.util import mse, mae\n",
    "\n",
    "%load_ext autoreload\n",
    "%autoreload 2"
   ]
  },
  {
   "cell_type": "code",
   "execution_count": 2,
   "metadata": {},
   "outputs": [
    {
     "name": "stdout",
     "output_type": "stream",
     "text": [
      "(88, 51, 21)\n",
      "(0, 87, 0, 50, 0, 20)\n",
      "(0.0, 696.0, -250.0, 150.0, 0.7504535071217414, 429.4370158281313)\n"
     ]
    }
   ],
   "source": [
    "data_path = \"../test/final/data/bc80-45000-down.vts\"\n",
    "vtkSGR = vtk.vtkXMLStructuredGridReader()\n",
    "vtkSGR.SetFileName(data_path)\n",
    "vtkSGR.Update()\n",
    "vtkSG = vtkSGR.GetOutput()\n",
    "print(vtkSG.GetDimensions())\n",
    "print(vtkSG.GetExtent())\n",
    "print(vtkSG.GetBounds())"
   ]
  },
  {
   "cell_type": "code",
   "execution_count": 8,
   "metadata": {},
   "outputs": [],
   "source": [
    "dims = [21, 51, 88]\n",
    "z,y,x = np.meshgrid(\n",
    "  np.linspace(0, 1, dims[0]),\n",
    "  np.linspace(0, 1, dims[1]),\n",
    "  np.linspace(0, 1, dims[2]),\n",
    "  indexing=\"ij\"\n",
    ")\n",
    "xyz = np.concatenate([z[...,None], y[...,None], x[...,None]], axis=-1)"
   ]
  },
  {
   "cell_type": "code",
   "execution_count": 16,
   "metadata": {},
   "outputs": [
    {
     "ename": "NameError",
     "evalue": "name 'data_path' is not defined",
     "output_type": "error",
     "traceback": [
      "\u001b[0;31m---------------------------------------------------------------------------\u001b[0m",
      "\u001b[0;31mNameError\u001b[0m                                 Traceback (most recent call last)",
      "\u001b[0;32m<ipython-input-16-beebad21411f>\u001b[0m in \u001b[0;36m<module>\u001b[0;34m\u001b[0m\n\u001b[1;32m     42\u001b[0m     \u001b[0;32mreturn\u001b[0m \u001b[0mself\u001b[0m\u001b[0;34m.\u001b[0m\u001b[0mphys_prep\u001b[0m\u001b[0;34m[\u001b[0m\u001b[0midx\u001b[0m\u001b[0;34m]\u001b[0m\u001b[0;34m,\u001b[0m \u001b[0mself\u001b[0m\u001b[0;34m.\u001b[0m\u001b[0mcomp_prep\u001b[0m\u001b[0;34m[\u001b[0m\u001b[0midx\u001b[0m\u001b[0;34m]\u001b[0m\u001b[0;34m\u001b[0m\u001b[0;34m\u001b[0m\u001b[0m\n\u001b[1;32m     43\u001b[0m \u001b[0;34m\u001b[0m\u001b[0m\n\u001b[0;32m---> 44\u001b[0;31m \u001b[0mds\u001b[0m \u001b[0;34m=\u001b[0m \u001b[0mPhys2CompDataset\u001b[0m\u001b[0;34m(\u001b[0m\u001b[0mdata_path\u001b[0m\u001b[0;34m)\u001b[0m\u001b[0;34m\u001b[0m\u001b[0;34m\u001b[0m\u001b[0m\n\u001b[0m",
      "\u001b[0;31mNameError\u001b[0m: name 'data_path' is not defined"
     ]
    }
   ],
   "source": [
    "class Phys2CompDataset(Dataset):\n",
    "  def __init__(self, data_path, intrans=None, outtrans=None):\n",
    "    self.data_path = data_path\n",
    "    vtkSGR = vtk.vtkXMLStructuredGridReader()\n",
    "    vtkSGR.SetFileName(data_path)\n",
    "    vtkSGR.Update()\n",
    "    vtkSG = vtkSGR.GetOutput()\n",
    "    # get dimension and swap xyz order to zyx\n",
    "    self.dims = np.array(vtkSG.GetDimensions())\n",
    "    tmp = self.dims[0]\n",
    "    self.dims[0] = self.dims[2]\n",
    "    self.dims[2] = tmp\n",
    "    # get phys mesh\n",
    "    self.phys = numpy_support.vtk_to_numpy(vtkSG.GetPoints().GetData())\n",
    "    # get comp mesh - regular grid\n",
    "    self.phys = self.phys.reshape([*self.dims, 3])\n",
    "    z,y,x = np.meshgrid(\n",
    "      np.linspace(0, 1, self.dims[0]),\n",
    "      np.linspace(0, 1, self.dims[1]),\n",
    "      np.linspace(0, 1, self.dims[2]),\n",
    "      indexing=\"ij\"\n",
    "    )\n",
    "    self.comp = np.concatenate([z[...,None], y[...,None], x[...,None]], axis=-1)\n",
    "    # preprocessing\n",
    "    self.phys_prep = torch.Tensor(self.phys.reshape(-1, 3))\n",
    "    self.comp_prep = torch.Tensor(self.comp.reshape(-1, 3))\n",
    "\n",
    "    if intrans is not None:\n",
    "      print(\"transforming inputs\")\n",
    "      self.phys_prep, self.inpp = fitTransPipeline(self.phys.reshape(-1, 3))\n",
    "      self.phys_prep = torch.Tensor(self.phys_prep)\n",
    "    \n",
    "    if outtrans is not None:\n",
    "      print(\"transforming outputs\")\n",
    "      self.comp_prep, self.outpp = fitTransPipeline(self.comp.reshape(-1, 3))\n",
    "      self.comp_prep = torch.Tensor(self.comp_prep)\n",
    "\n",
    "  def __len__(self):\n",
    "    return len(self.phys_prep)\n",
    "\n",
    "  def __getitem__(self, idx):\n",
    "    return self.phys_prep[idx], self.comp_prep[idx]\n",
    "    \n",
    "ds = Phys2CompDataset(data_path)"
   ]
  },
  {
   "cell_type": "code",
   "execution_count": 2,
   "metadata": {},
   "outputs": [
    {
     "name": "stdout",
     "output_type": "stream",
     "text": [
      "transforming inputs\n"
     ]
    }
   ],
   "source": [
    "impcfg = Config(\"nn_vls_imp.yaml\")\n",
    "\n",
    "sirencfg = Config(\"nn_vls_siren.yaml\")\n",
    "rescfg = Config(\"nn_vls_res.yaml\")\n",
    "attncfg = Config(\"nn_vls_attn.yaml\")\n",
    "densecfg = Config(\"nn_vls_dense.yaml\")\n",
    "\n",
    "siren = load_checkpoint(\"log/siren.pt\", sirencfg)\n",
    "res = load_checkpoint(  \"log/res.pt\",   rescfg)\n",
    "attn = load_checkpoint( \"log/attn.pt\",  attncfg)\n",
    "dense = load_checkpoint(\"log/dense.pt\", densecfg)\n",
    "\n",
    "ds = sirencfg.get_dataset()\n",
    "\n",
    "ckpts = [siren, res, attn, dense]\n",
    "models = [ckpt['model'] for ckpt in ckpts]\n",
    "names = [\"siren\", \"res\", \"attn\", \"dense\"]"
   ]
  },
  {
   "cell_type": "code",
   "execution_count": 6,
   "metadata": {},
   "outputs": [
    {
     "ename": "TypeError",
     "evalue": "mean() received an invalid combination of arguments - got (axis=NoneType, dtype=NoneType, out=NoneType, ), but expected one of:\n * (*, torch.dtype dtype)\n * (tuple of ints dim, bool keepdim, *, torch.dtype dtype)\n * (tuple of names dim, bool keepdim, *, torch.dtype dtype)\n",
     "output_type": "error",
     "traceback": [
      "\u001b[1;31m---------------------------------------------------------------------------\u001b[0m",
      "\u001b[1;31mTypeError\u001b[0m                                 Traceback (most recent call last)",
      "\u001b[1;32m<ipython-input-6-1498adb4a2b4>\u001b[0m in \u001b[0;36m<module>\u001b[1;34m\u001b[0m\n\u001b[0;32m      6\u001b[0m \u001b[1;33m\u001b[0m\u001b[0m\n\u001b[0;32m      7\u001b[0m   print(f\"***************************** {names[i]} *****************************\",\n\u001b[1;32m----> 8\u001b[1;33m         f\"MSE: {mse(pred, ds.comp_prep)}, MAE: {mae(pred, ds.comp_prep)}\")\n\u001b[0m\u001b[0;32m      9\u001b[0m   \u001b[1;32mfor\u001b[0m \u001b[0mi\u001b[0m \u001b[1;32min\u001b[0m \u001b[0mrange\u001b[0m\u001b[1;33m(\u001b[0m\u001b[1;36m10\u001b[0m\u001b[1;33m)\u001b[0m\u001b[1;33m:\u001b[0m\u001b[1;33m\u001b[0m\u001b[1;33m\u001b[0m\u001b[0m\n\u001b[0;32m     10\u001b[0m     \u001b[0midx\u001b[0m \u001b[1;33m=\u001b[0m \u001b[0mnp\u001b[0m\u001b[1;33m.\u001b[0m\u001b[0mrandom\u001b[0m\u001b[1;33m.\u001b[0m\u001b[0mchoice\u001b[0m\u001b[1;33m(\u001b[0m\u001b[0mds\u001b[0m\u001b[1;33m.\u001b[0m\u001b[0mcomp_prep\u001b[0m\u001b[1;33m.\u001b[0m\u001b[0mshape\u001b[0m\u001b[1;33m[\u001b[0m\u001b[1;36m0\u001b[0m\u001b[1;33m]\u001b[0m\u001b[1;33m)\u001b[0m\u001b[1;33m\u001b[0m\u001b[1;33m\u001b[0m\u001b[0m\n",
      "\u001b[1;32m\\\\wsl$\\Ubuntu\\home\\xiong336\\course\\scivis\\cse5194-scivis\\pycurvis\\eval\\util.py\u001b[0m in \u001b[0;36mmse\u001b[1;34m(a, b)\u001b[0m\n\u001b[0;32m      9\u001b[0m \u001b[1;33m\u001b[0m\u001b[0m\n\u001b[0;32m     10\u001b[0m \u001b[1;32mdef\u001b[0m \u001b[0mmse\u001b[0m\u001b[1;33m(\u001b[0m\u001b[0ma\u001b[0m\u001b[1;33m:\u001b[0m\u001b[0mnp\u001b[0m\u001b[1;33m.\u001b[0m\u001b[0mndarray\u001b[0m\u001b[1;33m,\u001b[0m \u001b[0mb\u001b[0m\u001b[1;33m:\u001b[0m\u001b[0mnp\u001b[0m\u001b[1;33m.\u001b[0m\u001b[0mndarray\u001b[0m\u001b[1;33m)\u001b[0m\u001b[1;33m:\u001b[0m\u001b[1;33m\u001b[0m\u001b[1;33m\u001b[0m\u001b[0m\n\u001b[1;32m---> 11\u001b[1;33m   \u001b[1;32mreturn\u001b[0m \u001b[0mnp\u001b[0m\u001b[1;33m.\u001b[0m\u001b[0mmean\u001b[0m\u001b[1;33m(\u001b[0m\u001b[1;33m(\u001b[0m\u001b[0ma\u001b[0m\u001b[1;33m-\u001b[0m\u001b[0mb\u001b[0m\u001b[1;33m)\u001b[0m\u001b[1;33m*\u001b[0m\u001b[1;33m(\u001b[0m\u001b[0ma\u001b[0m\u001b[1;33m-\u001b[0m\u001b[0mb\u001b[0m\u001b[1;33m)\u001b[0m\u001b[1;33m)\u001b[0m\u001b[1;33m\u001b[0m\u001b[1;33m\u001b[0m\u001b[0m\n\u001b[0m\u001b[0;32m     12\u001b[0m \u001b[1;33m\u001b[0m\u001b[0m\n\u001b[0;32m     13\u001b[0m \u001b[1;32mdef\u001b[0m \u001b[0mpsnr\u001b[0m\u001b[1;33m(\u001b[0m\u001b[0ma\u001b[0m\u001b[1;33m:\u001b[0m\u001b[0mnp\u001b[0m\u001b[1;33m.\u001b[0m\u001b[0mndarray\u001b[0m\u001b[1;33m,\u001b[0m \u001b[0mgt\u001b[0m\u001b[1;33m:\u001b[0m\u001b[0mnp\u001b[0m\u001b[1;33m.\u001b[0m\u001b[0mndarray\u001b[0m\u001b[1;33m)\u001b[0m\u001b[1;33m:\u001b[0m\u001b[1;33m\u001b[0m\u001b[1;33m\u001b[0m\u001b[0m\n",
      "\u001b[1;32m<__array_function__ internals>\u001b[0m in \u001b[0;36mmean\u001b[1;34m(*args, **kwargs)\u001b[0m\n",
      "\u001b[1;32mc:\\users\\xiong\\envs\\ml37\\lib\\site-packages\\numpy\\core\\fromnumeric.py\u001b[0m in \u001b[0;36mmean\u001b[1;34m(a, axis, dtype, out, keepdims, where)\u001b[0m\n\u001b[0;32m   3436\u001b[0m             \u001b[1;32mpass\u001b[0m\u001b[1;33m\u001b[0m\u001b[1;33m\u001b[0m\u001b[0m\n\u001b[0;32m   3437\u001b[0m         \u001b[1;32melse\u001b[0m\u001b[1;33m:\u001b[0m\u001b[1;33m\u001b[0m\u001b[1;33m\u001b[0m\u001b[0m\n\u001b[1;32m-> 3438\u001b[1;33m             \u001b[1;32mreturn\u001b[0m \u001b[0mmean\u001b[0m\u001b[1;33m(\u001b[0m\u001b[0maxis\u001b[0m\u001b[1;33m=\u001b[0m\u001b[0maxis\u001b[0m\u001b[1;33m,\u001b[0m \u001b[0mdtype\u001b[0m\u001b[1;33m=\u001b[0m\u001b[0mdtype\u001b[0m\u001b[1;33m,\u001b[0m \u001b[0mout\u001b[0m\u001b[1;33m=\u001b[0m\u001b[0mout\u001b[0m\u001b[1;33m,\u001b[0m \u001b[1;33m**\u001b[0m\u001b[0mkwargs\u001b[0m\u001b[1;33m)\u001b[0m\u001b[1;33m\u001b[0m\u001b[1;33m\u001b[0m\u001b[0m\n\u001b[0m\u001b[0;32m   3439\u001b[0m \u001b[1;33m\u001b[0m\u001b[0m\n\u001b[0;32m   3440\u001b[0m     return _methods._mean(a, axis=axis, dtype=dtype,\n",
      "\u001b[1;31mTypeError\u001b[0m: mean() received an invalid combination of arguments - got (axis=NoneType, dtype=NoneType, out=NoneType, ), but expected one of:\n * (*, torch.dtype dtype)\n * (tuple of ints dim, bool keepdim, *, torch.dtype dtype)\n * (tuple of names dim, bool keepdim, *, torch.dtype dtype)\n"
     ]
    }
   ],
   "source": [
    "comp = ds.comp_prep.numpy()\n",
    "for i in range(len(models)):\n",
    "  model = models[i]\n",
    "  model.eval()\n",
    "  with torch.no_grad():\n",
    "    pred = model(ds.phys_prep)\n",
    "  pred = pred.numpy()\n",
    "  print(f\"***************************** {names[i]} *****************************\",\n",
    "        f\"MSE: {mse(pred, comp)}, MAE: {mae(pred, comp)}\")\n",
    "  for i in range(10):\n",
    "    idx = np.random.choice(ds.comp_prep.shape[0])\n",
    "    print(ds.comp_prep[idx], pred[idx])\n",
    "  print()"
   ]
  },
  {
   "cell_type": "code",
   "execution_count": null,
   "metadata": {},
   "outputs": [],
   "source": [
    "pred = model(ds.phys_prep)\n",
    "pred_lg = model_lg(ds.phys_prep)"
   ]
  },
  {
   "cell_type": "code",
   "execution_count": 6,
   "metadata": {},
   "outputs": [],
   "source": [
    "pp = ds.inpp.get_params()\n",
    "std = pp['steps'][0][1]"
   ]
  },
  {
   "cell_type": "code",
   "execution_count": 3,
   "metadata": {},
   "outputs": [],
   "source": [
    "nncfg = Config(\"nn_vls_md.yaml\")\n",
    "nncfg_lg = Config(\"nn_vls_lg.yaml\")"
   ]
  },
  {
   "cell_type": "code",
   "execution_count": 4,
   "metadata": {},
   "outputs": [],
   "source": [
    "model_dir = nncfg.config['model']['log_dir']\n",
    "ckpt = load_checkpoint(f\"{model_dir}/ckpt_7298_-001_8.76e-06\", nncfg)\n",
    "model = ckpt['model']"
   ]
  },
  {
   "cell_type": "code",
   "execution_count": 2,
   "metadata": {},
   "outputs": [
    {
     "ename": "NameError",
     "evalue": "name 'nncfg_lg' is not defined",
     "output_type": "error",
     "traceback": [
      "\u001b[0;31m---------------------------------------------------------------------------\u001b[0m",
      "\u001b[0;31mNameError\u001b[0m                                 Traceback (most recent call last)",
      "\u001b[0;32m<ipython-input-2-f457127080c3>\u001b[0m in \u001b[0;36m<module>\u001b[0;34m\u001b[0m\n\u001b[0;32m----> 1\u001b[0;31m \u001b[0mmodel_dir\u001b[0m \u001b[0;34m=\u001b[0m \u001b[0mnncfg_lg\u001b[0m\u001b[0;34m.\u001b[0m\u001b[0mconfig\u001b[0m\u001b[0;34m[\u001b[0m\u001b[0;34m'model'\u001b[0m\u001b[0;34m]\u001b[0m\u001b[0;34m[\u001b[0m\u001b[0;34m'log_dir'\u001b[0m\u001b[0;34m]\u001b[0m\u001b[0;34m\u001b[0m\u001b[0;34m\u001b[0m\u001b[0m\n\u001b[0m\u001b[1;32m      2\u001b[0m \u001b[0mckpt\u001b[0m \u001b[0;34m=\u001b[0m \u001b[0mload_checkpoint\u001b[0m\u001b[0;34m(\u001b[0m\u001b[0;34mf\"{model_dir}/ckpt_9748_-001_5.31e-06\"\u001b[0m\u001b[0;34m,\u001b[0m \u001b[0mnncfg_lg\u001b[0m\u001b[0;34m)\u001b[0m\u001b[0;34m\u001b[0m\u001b[0;34m\u001b[0m\u001b[0m\n\u001b[1;32m      3\u001b[0m \u001b[0mmodel_lg\u001b[0m \u001b[0;34m=\u001b[0m \u001b[0mckpt\u001b[0m\u001b[0;34m[\u001b[0m\u001b[0;34m'model'\u001b[0m\u001b[0;34m]\u001b[0m\u001b[0;34m\u001b[0m\u001b[0;34m\u001b[0m\u001b[0m\n",
      "\u001b[0;31mNameError\u001b[0m: name 'nncfg_lg' is not defined"
     ]
    }
   ],
   "source": [
    "model_dir = nncfg_lg.config['model']['log_dir']\n",
    "ckpt = load_checkpoint(f\"{model_dir}/ckpt_9748_-001_5.31e-06\", nncfg_lg)\n",
    "model_lg = ckpt['model']"
   ]
  },
  {
   "cell_type": "code",
   "execution_count": 5,
   "metadata": {},
   "outputs": [],
   "source": [
    "example=torch.rand(2, 3)\n",
    "traced_script_module = torch.jit.trace(model, example)\n",
    "traced_script_module.save(f\"{model_dir}/traced_7300_1.pt\")"
   ]
  },
  {
   "cell_type": "code",
   "execution_count": 27,
   "metadata": {},
   "outputs": [
    {
     "name": "stdout",
     "output_type": "stream",
     "text": [
      "transforming inputs\n"
     ]
    }
   ],
   "source": [
    "ds = nncfg.get_dataset()"
   ]
  },
  {
   "cell_type": "code",
   "execution_count": 32,
   "metadata": {},
   "outputs": [],
   "source": [
    "example = torch.rand(2, 3)"
   ]
  },
  {
   "cell_type": "code",
   "execution_count": 30,
   "metadata": {},
   "outputs": [],
   "source": [
    "pred = model(ds.phys_prep)\n",
    "pred_lg = model_lg(ds.phys_prep)"
   ]
  },
  {
   "cell_type": "code",
   "execution_count": 29,
   "metadata": {},
   "outputs": [
    {
     "name": "stdout",
     "output_type": "stream",
     "text": [
      "tensor([0., 0., 0.]) tensor([0.0250, 0.0157, 0.0214], grad_fn=<SelectBackward0>)\n",
      "tensor([0.0000, 0.0000, 0.0115]) tensor([0.0204, 0.0149, 0.0265], grad_fn=<SelectBackward0>)\n",
      "tensor([0.0000, 0.0000, 0.0230]) tensor([0.0172, 0.0136, 0.0354], grad_fn=<SelectBackward0>)\n",
      "tensor([0.0000, 0.0000, 0.0345]) tensor([0.0173, 0.0120, 0.0463], grad_fn=<SelectBackward0>)\n",
      "tensor([0.0000, 0.0000, 0.0460]) tensor([0.0184, 0.0109, 0.0565], grad_fn=<SelectBackward0>)\n",
      "tensor([0.0000, 0.0000, 0.0575]) tensor([0.0193, 0.0103, 0.0646], grad_fn=<SelectBackward0>)\n",
      "tensor([0.0000, 0.0000, 0.0690]) tensor([0.0201, 0.0099, 0.0761], grad_fn=<SelectBackward0>)\n",
      "tensor([0.0000, 0.0000, 0.0805]) tensor([0.0194, 0.0099, 0.0870], grad_fn=<SelectBackward0>)\n",
      "tensor([0.0000, 0.0000, 0.0920]) tensor([0.0173, 0.0100, 0.0987], grad_fn=<SelectBackward0>)\n",
      "tensor([0.0000, 0.0000, 0.1034]) tensor([0.0161, 0.0102, 0.1097], grad_fn=<SelectBackward0>)\n"
     ]
    }
   ],
   "source": [
    "for i in range(10):\n",
    "  print(ds.comp_prep[i], pred[i])"
   ]
  },
  {
   "cell_type": "code",
   "execution_count": 31,
   "metadata": {},
   "outputs": [
    {
     "name": "stdout",
     "output_type": "stream",
     "text": [
      "tensor([0., 0., 0.]) tensor([0.0190, 0.0203, 0.0236], grad_fn=<SelectBackward0>)\n",
      "tensor([0.0000, 0.0000, 0.0115]) tensor([0.0185, 0.0174, 0.0252], grad_fn=<SelectBackward0>)\n",
      "tensor([0.0000, 0.0000, 0.0230]) tensor([0.0145, 0.0157, 0.0321], grad_fn=<SelectBackward0>)\n",
      "tensor([0.0000, 0.0000, 0.0345]) tensor([0.0111, 0.0135, 0.0458], grad_fn=<SelectBackward0>)\n",
      "tensor([0.0000, 0.0000, 0.0460]) tensor([0.0099, 0.0125, 0.0554], grad_fn=<SelectBackward0>)\n",
      "tensor([0.0000, 0.0000, 0.0575]) tensor([0.0100, 0.0111, 0.0644], grad_fn=<SelectBackward0>)\n",
      "tensor([0.0000, 0.0000, 0.0690]) tensor([0.0102, 0.0099, 0.0742], grad_fn=<SelectBackward0>)\n",
      "tensor([0.0000, 0.0000, 0.0805]) tensor([0.0097, 0.0095, 0.0850], grad_fn=<SelectBackward0>)\n",
      "tensor([0.0000, 0.0000, 0.0920]) tensor([0.0084, 0.0101, 0.0988], grad_fn=<SelectBackward0>)\n",
      "tensor([0.0000, 0.0000, 0.1034]) tensor([0.0087, 0.0093, 0.1067], grad_fn=<SelectBackward0>)\n"
     ]
    }
   ],
   "source": [
    "for i in range(10):\n",
    "  print(ds.comp_prep[i], pred_lg[i])"
   ]
  }
 ],
 "metadata": {
  "interpreter": {
   "hash": "44db033dc3db8494f6ded4c1fa8ecb9762ec23261956ed8a4037180552ccc6e0"
  },
  "kernelspec": {
   "display_name": "Python 3.7.6 ('ml37')",
   "language": "python",
   "name": "python3"
  },
  "language_info": {
   "codemirror_mode": {
    "name": "ipython",
    "version": 3
   },
   "file_extension": ".py",
   "mimetype": "text/x-python",
   "name": "python",
   "nbconvert_exporter": "python",
   "pygments_lexer": "ipython3",
   "version": "3.7.6"
  },
  "orig_nbformat": 4
 },
 "nbformat": 4,
 "nbformat_minor": 2
}
