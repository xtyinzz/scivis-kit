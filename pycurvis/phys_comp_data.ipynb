{
 "cells": [
  {
   "cell_type": "code",
   "execution_count": 7,
   "metadata": {},
   "outputs": [],
   "source": [
    "import numpy as np\n",
    "import torch\n",
    "from torch.utils.data import DataLoader, Dataset\n",
    "import vtk\n",
    "from vtkmodules.util import numpy_support\n",
    "from data.data import fitTransPipeline\n",
    "from cfg.configs import Config\n",
    "from train import load_checkpoint"
   ]
  },
  {
   "cell_type": "code",
   "execution_count": 2,
   "metadata": {},
   "outputs": [
    {
     "name": "stdout",
     "output_type": "stream",
     "text": [
      "(88, 51, 21)\n",
      "(0, 87, 0, 50, 0, 20)\n",
      "(0.0, 696.0, -250.0, 150.0, 0.7504535071217414, 429.4370158281313)\n"
     ]
    }
   ],
   "source": [
    "data_path = \"../test/final/data/bc80-45000-down.vts\"\n",
    "vtkSGR = vtk.vtkXMLStructuredGridReader()\n",
    "vtkSGR.SetFileName(data_path)\n",
    "vtkSGR.Update()\n",
    "vtkSG = vtkSGR.GetOutput()\n",
    "print(vtkSG.GetDimensions())\n",
    "print(vtkSG.GetExtent())\n",
    "print(vtkSG.GetBounds())"
   ]
  },
  {
   "cell_type": "code",
   "execution_count": 8,
   "metadata": {},
   "outputs": [],
   "source": [
    "dims = [21, 51, 88]\n",
    "z,y,x = np.meshgrid(\n",
    "  np.linspace(0, 1, dims[0]),\n",
    "  np.linspace(0, 1, dims[1]),\n",
    "  np.linspace(0, 1, dims[2]),\n",
    "  indexing=\"ij\"\n",
    ")\n",
    "xyz = np.concatenate([z[...,None], y[...,None], x[...,None]], axis=-1)"
   ]
  },
  {
   "cell_type": "code",
   "execution_count": 3,
   "metadata": {},
   "outputs": [
    {
     "ename": "NameError",
     "evalue": "name 'dims' is not defined",
     "output_type": "error",
     "traceback": [
      "\u001b[1;31m---------------------------------------------------------------------------\u001b[0m",
      "\u001b[1;31mNameError\u001b[0m                                 Traceback (most recent call last)",
      "\u001b[1;32m<ipython-input-3-2fe53a3f769f>\u001b[0m in \u001b[0;36m<module>\u001b[1;34m\u001b[0m\n\u001b[0;32m     43\u001b[0m     \u001b[1;32mreturn\u001b[0m \u001b[0mself\u001b[0m\u001b[1;33m.\u001b[0m\u001b[0mphys_prep\u001b[0m\u001b[1;33m[\u001b[0m\u001b[0midx\u001b[0m\u001b[1;33m]\u001b[0m\u001b[1;33m,\u001b[0m \u001b[0mself\u001b[0m\u001b[1;33m.\u001b[0m\u001b[0mcomp_prep\u001b[0m\u001b[1;33m[\u001b[0m\u001b[0midx\u001b[0m\u001b[1;33m]\u001b[0m\u001b[1;33m\u001b[0m\u001b[1;33m\u001b[0m\u001b[0m\n\u001b[0;32m     44\u001b[0m \u001b[1;33m\u001b[0m\u001b[0m\n\u001b[1;32m---> 45\u001b[1;33m \u001b[0mds\u001b[0m \u001b[1;33m=\u001b[0m \u001b[0mPhys2CompDataset\u001b[0m\u001b[1;33m(\u001b[0m\u001b[0mdata_path\u001b[0m\u001b[1;33m)\u001b[0m\u001b[1;33m\u001b[0m\u001b[1;33m\u001b[0m\u001b[0m\n\u001b[0m",
      "\u001b[1;32m<ipython-input-3-2fe53a3f769f>\u001b[0m in \u001b[0;36m__init__\u001b[1;34m(self, data_path, intrans, outtrans)\u001b[0m\n\u001b[0;32m     11\u001b[0m     \u001b[0mself\u001b[0m\u001b[1;33m.\u001b[0m\u001b[0mdims\u001b[0m\u001b[1;33m[\u001b[0m\u001b[1;36m0\u001b[0m\u001b[1;33m]\u001b[0m \u001b[1;33m=\u001b[0m \u001b[0mself\u001b[0m\u001b[1;33m.\u001b[0m\u001b[0mdims\u001b[0m\u001b[1;33m[\u001b[0m\u001b[1;36m2\u001b[0m\u001b[1;33m]\u001b[0m\u001b[1;33m\u001b[0m\u001b[1;33m\u001b[0m\u001b[0m\n\u001b[0;32m     12\u001b[0m     \u001b[0mself\u001b[0m\u001b[1;33m.\u001b[0m\u001b[0mdims\u001b[0m\u001b[1;33m[\u001b[0m\u001b[1;36m2\u001b[0m\u001b[1;33m]\u001b[0m \u001b[1;33m=\u001b[0m \u001b[0mtmp\u001b[0m\u001b[1;33m\u001b[0m\u001b[1;33m\u001b[0m\u001b[0m\n\u001b[1;32m---> 13\u001b[1;33m     \u001b[0mprint\u001b[0m\u001b[1;33m(\u001b[0m\u001b[0mdims\u001b[0m\u001b[1;33m)\u001b[0m\u001b[1;33m\u001b[0m\u001b[1;33m\u001b[0m\u001b[0m\n\u001b[0m\u001b[0;32m     14\u001b[0m     \u001b[1;31m# get phys mesh\u001b[0m\u001b[1;33m\u001b[0m\u001b[1;33m\u001b[0m\u001b[1;33m\u001b[0m\u001b[0m\n\u001b[0;32m     15\u001b[0m     \u001b[0mself\u001b[0m\u001b[1;33m.\u001b[0m\u001b[0mphys\u001b[0m \u001b[1;33m=\u001b[0m \u001b[0mnumpy_support\u001b[0m\u001b[1;33m.\u001b[0m\u001b[0mvtk_to_numpy\u001b[0m\u001b[1;33m(\u001b[0m\u001b[0mvtkSG\u001b[0m\u001b[1;33m.\u001b[0m\u001b[0mGetPoints\u001b[0m\u001b[1;33m(\u001b[0m\u001b[1;33m)\u001b[0m\u001b[1;33m.\u001b[0m\u001b[0mGetData\u001b[0m\u001b[1;33m(\u001b[0m\u001b[1;33m)\u001b[0m\u001b[1;33m)\u001b[0m\u001b[1;33m\u001b[0m\u001b[1;33m\u001b[0m\u001b[0m\n",
      "\u001b[1;31mNameError\u001b[0m: name 'dims' is not defined"
     ]
    }
   ],
   "source": [
    "class Phys2CompDataset(Dataset):\n",
    "  def __init__(self, data_path, intrans=None, outtrans=None):\n",
    "    self.data_path = data_path\n",
    "    vtkSGR = vtk.vtkXMLStructuredGridReader()\n",
    "    vtkSGR.SetFileName(data_path)\n",
    "    vtkSGR.Update()\n",
    "    vtkSG = vtkSGR.GetOutput()\n",
    "    # get dimension and swap xyz order to zyx\n",
    "    self.dims = np.array(vtkSG.GetDimensions())\n",
    "    tmp = self.dims[0]\n",
    "    self.dims[0] = self.dims[2]\n",
    "    self.dims[2] = tmp\n",
    "    # get phys mesh\n",
    "    self.phys = numpy_support.vtk_to_numpy(vtkSG.GetPoints().GetData())\n",
    "    # get comp mesh - regular grid\n",
    "    self.phys = self.phys.reshape([*self.dims, 3])\n",
    "    z,y,x = np.meshgrid(\n",
    "      np.linspace(0, 1, self.dims[0]),\n",
    "      np.linspace(0, 1, self.dims[1]),\n",
    "      np.linspace(0, 1, self.dims[2]),\n",
    "      indexing=\"ij\"\n",
    "    )\n",
    "    self.comp = np.concatenate([z[...,None], y[...,None], x[...,None]], axis=-1)\n",
    "    # preprocessing\n",
    "    self.phys_prep = torch.Tensor(self.phys.reshape(-1, 3))\n",
    "    self.comp_prep = torch.Tensor(self.comp.reshape(-1, 3))\n",
    "\n",
    "    if intrans is not None:\n",
    "      print(\"transforming inputs\")\n",
    "      self.phys_prep, self.inpp = fitTransPipeline(self.phys.reshape(-1, 3))\n",
    "      self.phys_prep = torch.Tensor(self.phys_prep)\n",
    "    \n",
    "    if outtrans is not None:\n",
    "      print(\"transforming outputs\")\n",
    "      self.comp_prep, self.outpp = fitTransPipeline(self.comp.reshape(-1, 3))\n",
    "      self.comp_prep = torch.Tensor(self.comp_prep)\n",
    "\n",
    "  def __len__(self):\n",
    "    return len(self.phys_prep)\n",
    "\n",
    "  def __getitem__(self, idx):\n",
    "    return self.phys_prep[idx], self.comp_prep[idx]\n",
    "    \n",
    "ds = Phys2CompDataset(data_path)"
   ]
  },
  {
   "cell_type": "code",
   "execution_count": 8,
   "metadata": {},
   "outputs": [],
   "source": [
    "nncfg = Config(\"nn_vls_md.yaml\")"
   ]
  },
  {
   "cell_type": "code",
   "execution_count": 9,
   "metadata": {},
   "outputs": [],
   "source": [
    "model_dir = nncfg.config['model']['log_dir']\n",
    "ckpt = load_checkpoint(f\"{model_dir}/ckpt_2499_-001_2.15e-02\", nncfg)\n",
    "model = ckpt['model']"
   ]
  },
  {
   "cell_type": "code",
   "execution_count": 12,
   "metadata": {},
   "outputs": [],
   "source": [
    "ds = nncfg.get_dataset()"
   ]
  },
  {
   "cell_type": "code",
   "execution_count": 17,
   "metadata": {},
   "outputs": [],
   "source": [
    "pred = model(ds.phys_prep)"
   ]
  },
  {
   "cell_type": "code",
   "execution_count": 19,
   "metadata": {},
   "outputs": [
    {
     "name": "stdout",
     "output_type": "stream",
     "text": [
      "tensor([0., 0., 0.]) tensor([0.2683, 0.0543, 0.2750], grad_fn=<SelectBackward0>)\n",
      "tensor([0.0000, 0.0000, 0.0115]) tensor([0.0579, 0.0965, 0.0503], grad_fn=<SelectBackward0>)\n",
      "tensor([0.0000, 0.0000, 0.0230]) tensor([0.0152, 0.1133, 0.0966], grad_fn=<SelectBackward0>)\n",
      "tensor([0.0000, 0.0000, 0.0345]) tensor([0.1242, 0.1006, 0.1399], grad_fn=<SelectBackward0>)\n",
      "tensor([0.0000, 0.0000, 0.0460]) tensor([0.0835, 0.0642, 0.1862], grad_fn=<SelectBackward0>)\n",
      "tensor([0.0000, 0.0000, 0.0575]) tensor([0.2448, 0.1216, 0.3506], grad_fn=<SelectBackward0>)\n",
      "tensor([0.0000, 0.0000, 0.0690]) tensor([0.1515, 0.0638, 0.1328], grad_fn=<SelectBackward0>)\n",
      "tensor([0.0000, 0.0000, 0.0805]) tensor([0.0130, 0.1493, 0.1136], grad_fn=<SelectBackward0>)\n",
      "tensor([0.0000, 0.0000, 0.0920]) tensor([0.0103, 0.1504, 0.1529], grad_fn=<SelectBackward0>)\n",
      "tensor([0.0000, 0.0000, 0.1034]) tensor([0.0101, 0.0926, 0.0751], grad_fn=<SelectBackward0>)\n"
     ]
    }
   ],
   "source": [
    "for i in range(10):\n",
    "  print(ds.comp_prep[i], pred[i])"
   ]
  }
 ],
 "metadata": {
  "interpreter": {
   "hash": "d82c3ef9a9c52ca48f89a57a471345d340895240528db2b7c56159ebd2138f11"
  },
  "kernelspec": {
   "display_name": "Python 3.7.10 64-bit ('vis')",
   "language": "python",
   "name": "python3"
  },
  "language_info": {
   "codemirror_mode": {
    "name": "ipython",
    "version": 3
   },
   "file_extension": ".py",
   "mimetype": "text/x-python",
   "name": "python",
   "nbconvert_exporter": "python",
   "pygments_lexer": "ipython3",
   "version": "3.7.6"
  },
  "orig_nbformat": 4
 },
 "nbformat": 4,
 "nbformat_minor": 2
}
