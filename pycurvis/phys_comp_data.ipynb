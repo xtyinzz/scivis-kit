{
 "cells": [
  {
   "cell_type": "code",
   "execution_count": 9,
   "metadata": {},
   "outputs": [],
   "source": [
    "import numpy as np\n",
    "import torch\n",
    "from torch.utils.data import DataLoader, Dataset\n",
    "import vtk\n",
    "from vtkmodules.util import numpy_support\n",
    "from data.data import fitTransPipeline"
   ]
  },
  {
   "cell_type": "code",
   "execution_count": 14,
   "metadata": {},
   "outputs": [
    {
     "name": "stdout",
     "output_type": "stream",
     "text": [
      "(88, 51, 21)\n",
      "(0, 87, 0, 50, 0, 20)\n",
      "(0.0, 696.0, -250.0, 150.0, 0.7504535071217414, 429.4370158281313)\n"
     ]
    }
   ],
   "source": [
    "data_path = \"data/bc80-45000-down.vts\"\n",
    "vtkSGR = vtk.vtkXMLStructuredGridReader()\n",
    "vtkSGR.SetFileName(data_path)\n",
    "vtkSGR.Update()\n",
    "vtkSG = vtkSGR.GetOutput()\n",
    "print(vtkSG.GetDimensions())\n",
    "print(vtkSG.GetExtent())\n",
    "print(vtkSG.GetBounds())"
   ]
  },
  {
   "cell_type": "code",
   "execution_count": null,
   "metadata": {},
   "outputs": [],
   "source": []
  },
  {
   "cell_type": "code",
   "execution_count": 29,
   "metadata": {},
   "outputs": [
    {
     "name": "stdout",
     "output_type": "stream",
     "text": [
      "[   0.         -250.          191.09518731] (0.0, -250.0, 191.09518730899723)\n",
      "[   0.         -242.          191.09518731] (0.0, -242.0, 191.09518730899723)\n",
      "[   0.         -234.          191.09518731] (0.0, -234.0, 191.09518730899723)\n",
      "[   0.         -226.          191.09518731] (0.0, -226.0, 191.09518730899723)\n",
      "[   0.         -218.          191.09518731] (0.0, -218.0, 191.09518730899723)\n",
      "[   0.         -210.          191.09518731] (0.0, -210.0, 191.09518730899723)\n",
      "[   0.         -202.          191.09518731] (0.0, -202.0, 191.09518730899723)\n",
      "[   0.         -194.          191.09518731] (0.0, -194.0, 191.09518730899723)\n",
      "[   0.         -186.          191.09518731] (0.0, -186.0, 191.09518730899723)\n",
      "[   0.         -178.          191.09518731] (0.0, -178.0, 191.09518730899723)\n"
     ]
    }
   ],
   "source": [
    "for i in range(1):\n",
    "  for j in range(10):\n",
    "    print(tmp[0,j,i], vtkSG.GetPoint(i+j*88))"
   ]
  },
  {
   "cell_type": "code",
   "execution_count": 7,
   "metadata": {},
   "outputs": [],
   "source": [
    "vtkPoints = vtkSG.GetPoints()"
   ]
  },
  {
   "cell_type": "code",
   "execution_count": 10,
   "metadata": {},
   "outputs": [],
   "source": [
    "coord = numpy_support.vtk_to_numpy(vtkPoints.GetData())"
   ]
  },
  {
   "cell_type": "code",
   "execution_count": 20,
   "metadata": {},
   "outputs": [],
   "source": [
    "tmp = coord.reshape(21, 51, 88, 3)"
   ]
  },
  {
   "cell_type": "code",
   "execution_count": 34,
   "metadata": {},
   "outputs": [
    {
     "data": {
      "text/plain": [
       "array([0.        , 0.01149425, 0.02298851, 0.03448276, 0.04597701,\n",
       "       0.05747126, 0.06896552, 0.08045977, 0.09195402, 0.10344828,\n",
       "       0.11494253, 0.12643678, 0.13793103, 0.14942529, 0.16091954,\n",
       "       0.17241379, 0.18390805, 0.1954023 , 0.20689655, 0.2183908 ,\n",
       "       0.22988506, 0.24137931, 0.25287356, 0.26436782, 0.27586207,\n",
       "       0.28735632, 0.29885057, 0.31034483, 0.32183908, 0.33333333,\n",
       "       0.34482759, 0.35632184, 0.36781609, 0.37931034, 0.3908046 ,\n",
       "       0.40229885, 0.4137931 , 0.42528736, 0.43678161, 0.44827586,\n",
       "       0.45977011, 0.47126437, 0.48275862, 0.49425287, 0.50574713,\n",
       "       0.51724138, 0.52873563, 0.54022989, 0.55172414, 0.56321839,\n",
       "       0.57471264, 0.5862069 , 0.59770115, 0.6091954 , 0.62068966,\n",
       "       0.63218391, 0.64367816, 0.65517241, 0.66666667, 0.67816092,\n",
       "       0.68965517, 0.70114943, 0.71264368, 0.72413793, 0.73563218,\n",
       "       0.74712644, 0.75862069, 0.77011494, 0.7816092 , 0.79310345,\n",
       "       0.8045977 , 0.81609195, 0.82758621, 0.83908046, 0.85057471,\n",
       "       0.86206897, 0.87356322, 0.88505747, 0.89655172, 0.90804598,\n",
       "       0.91954023, 0.93103448, 0.94252874, 0.95402299, 0.96551724,\n",
       "       0.97701149, 0.98850575, 1.        ])"
      ]
     },
     "execution_count": 34,
     "metadata": {},
     "output_type": "execute_result"
    }
   ],
   "source": [
    "np.linspace(0, 1, 88)"
   ]
  },
  {
   "cell_type": "code",
   "execution_count": 63,
   "metadata": {},
   "outputs": [],
   "source": [
    "dims = [21, 51, 88]\n",
    "z,y,x = np.meshgrid(\n",
    "  np.linspace(0, 1, dims[0]),\n",
    "  np.linspace(0, 1, dims[1]),\n",
    "  np.linspace(0, 1, dims[2]),\n",
    "  indexing=\"ij\"\n",
    ")\n",
    "xyz = np.concatenate([z[...,None], y[...,None], x[...,None]], axis=-1)"
   ]
  },
  {
   "cell_type": "code",
   "execution_count": 95,
   "metadata": {},
   "outputs": [
    {
     "name": "stdout",
     "output_type": "stream",
     "text": [
      "[21, 51, 88]\n"
     ]
    }
   ],
   "source": [
    "class Phys2CompDataset(Dataset):\n",
    "  def __init__(self, data_path, intrans=None, outtrans=None):\n",
    "    self.data_path = data_path\n",
    "    vtkSGR = vtk.vtkXMLStructuredGridReader()\n",
    "    vtkSGR.SetFileName(data_path)\n",
    "    vtkSGR.Update()\n",
    "    vtkSG = vtkSGR.GetOutput()\n",
    "    # get dimension and swap xyz order to zyx\n",
    "    self.dims = np.array(vtkSG.GetDimensions())\n",
    "    tmp = self.dims[0]\n",
    "    self.dims[0] = self.dims[2]\n",
    "    self.dims[2] = tmp\n",
    "    print(dims)\n",
    "    # get phys mesh\n",
    "    self.phys = numpy_support.vtk_to_numpy(vtkSG.GetPoints().GetData())\n",
    "    # get comp mesh - regular grid\n",
    "    self.phys = self.phys.reshape([*self.dims, 3])\n",
    "    z,y,x = np.meshgrid(\n",
    "      np.linspace(0, 1, self.dims[0]),\n",
    "      np.linspace(0, 1, self.dims[1]),\n",
    "      np.linspace(0, 1, self.dims[2]),\n",
    "      indexing=\"ij\"\n",
    "    )\n",
    "    self.comp = np.concatenate([z[...,None], y[...,None], x[...,None]], axis=-1)\n",
    "    # preprocessing\n",
    "    self.phys_prep = torch.Tensor(self.phys.reshape(-1, 3))\n",
    "    self.comp_prep = torch.Tensor(self.comp.reshape(-1, 3))\n",
    "\n",
    "    if intrans is not None:\n",
    "      print(\"transforming inputs\")\n",
    "      self.phys_prep, self.inpp = fitTransPipeline(self.phys.reshape(-1, 3))\n",
    "      self.phys_prep = torch.Tensor(self.phys_prep)\n",
    "    \n",
    "    if outtrans is not None:\n",
    "      print(\"transforming outputs\")\n",
    "      self.comp_prep, self.outpp = fitTransPipeline(self.comp.reshape(-1, 3))\n",
    "      self.comp_prep = torch.Tensor(self.comp_prep)\n",
    "\n",
    "  def __len__(self):\n",
    "    return len(self.phys_prep)\n",
    "\n",
    "  def __getitem__(self, idx):\n",
    "    return self.phys_prep[idx], self.comp_prep[idx]\n",
    "    \n",
    "ds = Phys2CompDataset(data_path)"
   ]
  },
  {
   "cell_type": "code",
   "execution_count": null,
   "metadata": {},
   "outputs": [],
   "source": []
  }
 ],
 "metadata": {
  "interpreter": {
   "hash": "d82c3ef9a9c52ca48f89a57a471345d340895240528db2b7c56159ebd2138f11"
  },
  "kernelspec": {
   "display_name": "Python 3.7.10 64-bit ('vis')",
   "language": "python",
   "name": "python3"
  },
  "language_info": {
   "codemirror_mode": {
    "name": "ipython",
    "version": 3
   },
   "file_extension": ".py",
   "mimetype": "text/x-python",
   "name": "python",
   "nbconvert_exporter": "python",
   "pygments_lexer": "ipython3",
   "version": "3.7.10"
  },
  "orig_nbformat": 4
 },
 "nbformat": 4,
 "nbformat_minor": 2
}
