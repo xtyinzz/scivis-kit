{
 "cells": [
  {
   "cell_type": "code",
<<<<<<< Updated upstream
<<<<<<< Updated upstream
   "execution_count": 15,
=======
   "execution_count": 2,
>>>>>>> Stashed changes
=======
   "execution_count": 2,
>>>>>>> Stashed changes
   "metadata": {},
   "outputs": [],
   "source": [
    "import numpy as np\n",
    "import torch\n",
    "from torch.utils.data import DataLoader, Dataset\n",
    "import vtk\n",
    "from vtkmodules.util import numpy_support\n",
    "from data.data import fitTransPipeline\n",
    "from cfg.configs import Config\n",
    "from train import load_checkpoint"
   ]
  },
  {
   "cell_type": "code",
   "execution_count": 2,
   "metadata": {},
   "outputs": [
    {
     "name": "stdout",
     "output_type": "stream",
     "text": [
      "(88, 51, 21)\n",
      "(0, 87, 0, 50, 0, 20)\n",
      "(0.0, 696.0, -250.0, 150.0, 0.7504535071217414, 429.4370158281313)\n"
     ]
    }
   ],
   "source": [
    "data_path = \"../test/final/data/bc80-45000-down.vts\"\n",
    "vtkSGR = vtk.vtkXMLStructuredGridReader()\n",
    "vtkSGR.SetFileName(data_path)\n",
    "vtkSGR.Update()\n",
    "vtkSG = vtkSGR.GetOutput()\n",
    "print(vtkSG.GetDimensions())\n",
    "print(vtkSG.GetExtent())\n",
    "print(vtkSG.GetBounds())"
   ]
  },
  {
   "cell_type": "code",
   "execution_count": 8,
   "metadata": {},
   "outputs": [],
   "source": [
    "dims = [21, 51, 88]\n",
    "z,y,x = np.meshgrid(\n",
    "  np.linspace(0, 1, dims[0]),\n",
    "  np.linspace(0, 1, dims[1]),\n",
    "  np.linspace(0, 1, dims[2]),\n",
    "  indexing=\"ij\"\n",
    ")\n",
    "xyz = np.concatenate([z[...,None], y[...,None], x[...,None]], axis=-1)"
   ]
  },
  {
   "cell_type": "code",
<<<<<<< Updated upstream
<<<<<<< Updated upstream
   "execution_count": 16,
=======
   "execution_count": 3,
>>>>>>> Stashed changes
=======
   "execution_count": 3,
>>>>>>> Stashed changes
   "metadata": {},
   "outputs": [
    {
     "ename": "NameError",
<<<<<<< Updated upstream
<<<<<<< Updated upstream
     "evalue": "name 'data_path' is not defined",
     "output_type": "error",
     "traceback": [
      "\u001b[0;31m---------------------------------------------------------------------------\u001b[0m",
      "\u001b[0;31mNameError\u001b[0m                                 Traceback (most recent call last)",
      "\u001b[0;32m<ipython-input-16-beebad21411f>\u001b[0m in \u001b[0;36m<module>\u001b[0;34m\u001b[0m\n\u001b[1;32m     42\u001b[0m     \u001b[0;32mreturn\u001b[0m \u001b[0mself\u001b[0m\u001b[0;34m.\u001b[0m\u001b[0mphys_prep\u001b[0m\u001b[0;34m[\u001b[0m\u001b[0midx\u001b[0m\u001b[0;34m]\u001b[0m\u001b[0;34m,\u001b[0m \u001b[0mself\u001b[0m\u001b[0;34m.\u001b[0m\u001b[0mcomp_prep\u001b[0m\u001b[0;34m[\u001b[0m\u001b[0midx\u001b[0m\u001b[0;34m]\u001b[0m\u001b[0;34m\u001b[0m\u001b[0;34m\u001b[0m\u001b[0m\n\u001b[1;32m     43\u001b[0m \u001b[0;34m\u001b[0m\u001b[0m\n\u001b[0;32m---> 44\u001b[0;31m \u001b[0mds\u001b[0m \u001b[0;34m=\u001b[0m \u001b[0mPhys2CompDataset\u001b[0m\u001b[0;34m(\u001b[0m\u001b[0mdata_path\u001b[0m\u001b[0;34m)\u001b[0m\u001b[0;34m\u001b[0m\u001b[0;34m\u001b[0m\u001b[0m\n\u001b[0m",
      "\u001b[0;31mNameError\u001b[0m: name 'data_path' is not defined"
=======
=======
>>>>>>> Stashed changes
     "evalue": "name 'dims' is not defined",
     "output_type": "error",
     "traceback": [
      "\u001b[1;31m---------------------------------------------------------------------------\u001b[0m",
      "\u001b[1;31mNameError\u001b[0m                                 Traceback (most recent call last)",
      "\u001b[1;32m<ipython-input-3-2fe53a3f769f>\u001b[0m in \u001b[0;36m<module>\u001b[1;34m\u001b[0m\n\u001b[0;32m     43\u001b[0m     \u001b[1;32mreturn\u001b[0m \u001b[0mself\u001b[0m\u001b[1;33m.\u001b[0m\u001b[0mphys_prep\u001b[0m\u001b[1;33m[\u001b[0m\u001b[0midx\u001b[0m\u001b[1;33m]\u001b[0m\u001b[1;33m,\u001b[0m \u001b[0mself\u001b[0m\u001b[1;33m.\u001b[0m\u001b[0mcomp_prep\u001b[0m\u001b[1;33m[\u001b[0m\u001b[0midx\u001b[0m\u001b[1;33m]\u001b[0m\u001b[1;33m\u001b[0m\u001b[1;33m\u001b[0m\u001b[0m\n\u001b[0;32m     44\u001b[0m \u001b[1;33m\u001b[0m\u001b[0m\n\u001b[1;32m---> 45\u001b[1;33m \u001b[0mds\u001b[0m \u001b[1;33m=\u001b[0m \u001b[0mPhys2CompDataset\u001b[0m\u001b[1;33m(\u001b[0m\u001b[0mdata_path\u001b[0m\u001b[1;33m)\u001b[0m\u001b[1;33m\u001b[0m\u001b[1;33m\u001b[0m\u001b[0m\n\u001b[0m",
      "\u001b[1;32m<ipython-input-3-2fe53a3f769f>\u001b[0m in \u001b[0;36m__init__\u001b[1;34m(self, data_path, intrans, outtrans)\u001b[0m\n\u001b[0;32m     11\u001b[0m     \u001b[0mself\u001b[0m\u001b[1;33m.\u001b[0m\u001b[0mdims\u001b[0m\u001b[1;33m[\u001b[0m\u001b[1;36m0\u001b[0m\u001b[1;33m]\u001b[0m \u001b[1;33m=\u001b[0m \u001b[0mself\u001b[0m\u001b[1;33m.\u001b[0m\u001b[0mdims\u001b[0m\u001b[1;33m[\u001b[0m\u001b[1;36m2\u001b[0m\u001b[1;33m]\u001b[0m\u001b[1;33m\u001b[0m\u001b[1;33m\u001b[0m\u001b[0m\n\u001b[0;32m     12\u001b[0m     \u001b[0mself\u001b[0m\u001b[1;33m.\u001b[0m\u001b[0mdims\u001b[0m\u001b[1;33m[\u001b[0m\u001b[1;36m2\u001b[0m\u001b[1;33m]\u001b[0m \u001b[1;33m=\u001b[0m \u001b[0mtmp\u001b[0m\u001b[1;33m\u001b[0m\u001b[1;33m\u001b[0m\u001b[0m\n\u001b[1;32m---> 13\u001b[1;33m     \u001b[0mprint\u001b[0m\u001b[1;33m(\u001b[0m\u001b[0mdims\u001b[0m\u001b[1;33m)\u001b[0m\u001b[1;33m\u001b[0m\u001b[1;33m\u001b[0m\u001b[0m\n\u001b[0m\u001b[0;32m     14\u001b[0m     \u001b[1;31m# get phys mesh\u001b[0m\u001b[1;33m\u001b[0m\u001b[1;33m\u001b[0m\u001b[1;33m\u001b[0m\u001b[0m\n\u001b[0;32m     15\u001b[0m     \u001b[0mself\u001b[0m\u001b[1;33m.\u001b[0m\u001b[0mphys\u001b[0m \u001b[1;33m=\u001b[0m \u001b[0mnumpy_support\u001b[0m\u001b[1;33m.\u001b[0m\u001b[0mvtk_to_numpy\u001b[0m\u001b[1;33m(\u001b[0m\u001b[0mvtkSG\u001b[0m\u001b[1;33m.\u001b[0m\u001b[0mGetPoints\u001b[0m\u001b[1;33m(\u001b[0m\u001b[1;33m)\u001b[0m\u001b[1;33m.\u001b[0m\u001b[0mGetData\u001b[0m\u001b[1;33m(\u001b[0m\u001b[1;33m)\u001b[0m\u001b[1;33m)\u001b[0m\u001b[1;33m\u001b[0m\u001b[1;33m\u001b[0m\u001b[0m\n",
      "\u001b[1;31mNameError\u001b[0m: name 'dims' is not defined"
<<<<<<< Updated upstream
>>>>>>> Stashed changes
=======
>>>>>>> Stashed changes
     ]
    }
   ],
   "source": [
    "class Phys2CompDataset(Dataset):\n",
    "  def __init__(self, data_path, intrans=None, outtrans=None):\n",
    "    self.data_path = data_path\n",
    "    vtkSGR = vtk.vtkXMLStructuredGridReader()\n",
    "    vtkSGR.SetFileName(data_path)\n",
    "    vtkSGR.Update()\n",
    "    vtkSG = vtkSGR.GetOutput()\n",
    "    # get dimension and swap xyz order to zyx\n",
    "    self.dims = np.array(vtkSG.GetDimensions())\n",
    "    tmp = self.dims[0]\n",
    "    self.dims[0] = self.dims[2]\n",
    "    self.dims[2] = tmp\n",
    "    # get phys mesh\n",
    "    self.phys = numpy_support.vtk_to_numpy(vtkSG.GetPoints().GetData())\n",
    "    # get comp mesh - regular grid\n",
    "    self.phys = self.phys.reshape([*self.dims, 3])\n",
    "    z,y,x = np.meshgrid(\n",
    "      np.linspace(0, 1, self.dims[0]),\n",
    "      np.linspace(0, 1, self.dims[1]),\n",
    "      np.linspace(0, 1, self.dims[2]),\n",
    "      indexing=\"ij\"\n",
    "    )\n",
    "    self.comp = np.concatenate([z[...,None], y[...,None], x[...,None]], axis=-1)\n",
    "    # preprocessing\n",
    "    self.phys_prep = torch.Tensor(self.phys.reshape(-1, 3))\n",
    "    self.comp_prep = torch.Tensor(self.comp.reshape(-1, 3))\n",
    "\n",
    "    if intrans is not None:\n",
    "      print(\"transforming inputs\")\n",
    "      self.phys_prep, self.inpp = fitTransPipeline(self.phys.reshape(-1, 3))\n",
    "      self.phys_prep = torch.Tensor(self.phys_prep)\n",
    "    \n",
    "    if outtrans is not None:\n",
    "      print(\"transforming outputs\")\n",
    "      self.comp_prep, self.outpp = fitTransPipeline(self.comp.reshape(-1, 3))\n",
    "      self.comp_prep = torch.Tensor(self.comp_prep)\n",
    "\n",
    "  def __len__(self):\n",
    "    return len(self.phys_prep)\n",
    "\n",
    "  def __getitem__(self, idx):\n",
    "    return self.phys_prep[idx], self.comp_prep[idx]\n",
    "    \n",
    "ds = Phys2CompDataset(data_path)"
   ]
  },
  {
   "cell_type": "code",
<<<<<<< Updated upstream
<<<<<<< Updated upstream
   "execution_count": 17,
=======
   "execution_count": 3,
>>>>>>> Stashed changes
   "metadata": {},
   "outputs": [],
   "source": [
    "nncfg = Config(\"nn_vls_md.yaml\")\n",
    "nncfg_lg = Config(\"nn_vls_lg.yaml\")"
   ]
  },
  {
   "cell_type": "code",
<<<<<<< Updated upstream
   "execution_count": 20,
   "metadata": {},
   "outputs": [
    {
     "ename": "RuntimeError",
     "evalue": "Error(s) in loading state_dict for MLP:\n\tUnexpected key(s) in state_dict: \"net.6.layer.0.weight\", \"net.6.layer.0.bias\", \"net.6.layer.1.weight\", \"net.6.layer.1.bias\", \"net.7.layer.0.weight\", \"net.7.layer.0.bias\", \"net.5.layer.1.weight\", \"net.5.layer.1.bias\". \n\tsize mismatch for net.1.layer.0.weight: copying a param with shape torch.Size([32, 48]) from checkpoint, the shape in current model is torch.Size([64, 48]).\n\tsize mismatch for net.1.layer.0.bias: copying a param with shape torch.Size([32]) from checkpoint, the shape in current model is torch.Size([64]).\n\tsize mismatch for net.1.layer.1.weight: copying a param with shape torch.Size([32]) from checkpoint, the shape in current model is torch.Size([64]).\n\tsize mismatch for net.1.layer.1.bias: copying a param with shape torch.Size([32]) from checkpoint, the shape in current model is torch.Size([64]).\n\tsize mismatch for net.2.layer.0.weight: copying a param with shape torch.Size([64, 32]) from checkpoint, the shape in current model is torch.Size([64, 64]).\n\tsize mismatch for net.3.layer.0.weight: copying a param with shape torch.Size([128, 64]) from checkpoint, the shape in current model is torch.Size([64, 64]).\n\tsize mismatch for net.3.layer.0.bias: copying a param with shape torch.Size([128]) from checkpoint, the shape in current model is torch.Size([64]).\n\tsize mismatch for net.3.layer.1.weight: copying a param with shape torch.Size([128]) from checkpoint, the shape in current model is torch.Size([64]).\n\tsize mismatch for net.3.layer.1.bias: copying a param with shape torch.Size([128]) from checkpoint, the shape in current model is torch.Size([64]).\n\tsize mismatch for net.4.layer.0.weight: copying a param with shape torch.Size([128, 128]) from checkpoint, the shape in current model is torch.Size([64, 64]).\n\tsize mismatch for net.4.layer.0.bias: copying a param with shape torch.Size([128]) from checkpoint, the shape in current model is torch.Size([64]).\n\tsize mismatch for net.4.layer.1.weight: copying a param with shape torch.Size([128]) from checkpoint, the shape in current model is torch.Size([64]).\n\tsize mismatch for net.4.layer.1.bias: copying a param with shape torch.Size([128]) from checkpoint, the shape in current model is torch.Size([64]).\n\tsize mismatch for net.5.layer.0.weight: copying a param with shape torch.Size([64, 128]) from checkpoint, the shape in current model is torch.Size([3, 64]).\n\tsize mismatch for net.5.layer.0.bias: copying a param with shape torch.Size([64]) from checkpoint, the shape in current model is torch.Size([3]).",
     "output_type": "error",
     "traceback": [
      "\u001b[0;31m---------------------------------------------------------------------------\u001b[0m",
      "\u001b[0;31mRuntimeError\u001b[0m                              Traceback (most recent call last)",
      "\u001b[0;32m<ipython-input-20-3e2314eaca19>\u001b[0m in \u001b[0;36m<module>\u001b[0;34m\u001b[0m\n\u001b[1;32m      4\u001b[0m \u001b[0;34m\u001b[0m\u001b[0m\n\u001b[1;32m      5\u001b[0m \u001b[0mmodel_dir\u001b[0m \u001b[0;34m=\u001b[0m \u001b[0mnncfg_lg\u001b[0m\u001b[0;34m.\u001b[0m\u001b[0mconfig\u001b[0m\u001b[0;34m[\u001b[0m\u001b[0;34m'model'\u001b[0m\u001b[0;34m]\u001b[0m\u001b[0;34m[\u001b[0m\u001b[0;34m'log_dir'\u001b[0m\u001b[0;34m]\u001b[0m\u001b[0;34m\u001b[0m\u001b[0;34m\u001b[0m\u001b[0m\n\u001b[0;32m----> 6\u001b[0;31m \u001b[0mckpt\u001b[0m \u001b[0;34m=\u001b[0m \u001b[0mload_checkpoint\u001b[0m\u001b[0;34m(\u001b[0m\u001b[0;34mf\"{model_dir}/ckpt_9748_-001_5.31e-06\"\u001b[0m\u001b[0;34m,\u001b[0m \u001b[0mnncfg_lg\u001b[0m\u001b[0;34m)\u001b[0m\u001b[0;34m\u001b[0m\u001b[0;34m\u001b[0m\u001b[0m\n\u001b[0m\u001b[1;32m      7\u001b[0m \u001b[0mmodel_lg\u001b[0m \u001b[0;34m=\u001b[0m \u001b[0mckpt\u001b[0m\u001b[0;34m[\u001b[0m\u001b[0;34m'model'\u001b[0m\u001b[0;34m]\u001b[0m\u001b[0;34m\u001b[0m\u001b[0;34m\u001b[0m\u001b[0m\n",
      "\u001b[0;32m~/project/scivis-kit/pycurvis/train.py\u001b[0m in \u001b[0;36mload_checkpoint\u001b[0;34m(ckpt_path, config)\u001b[0m\n\u001b[1;32m     54\u001b[0m   \u001b[0mmodel\u001b[0m\u001b[0;34m.\u001b[0m\u001b[0mto\u001b[0m\u001b[0;34m(\u001b[0m\u001b[0mdevice\u001b[0m\u001b[0;34m)\u001b[0m\u001b[0;34m\u001b[0m\u001b[0;34m\u001b[0m\u001b[0m\n\u001b[1;32m     55\u001b[0m   \u001b[0moptim\u001b[0m \u001b[0;34m=\u001b[0m \u001b[0mconfig\u001b[0m\u001b[0;34m.\u001b[0m\u001b[0mget_optim\u001b[0m\u001b[0;34m(\u001b[0m\u001b[0mmodel\u001b[0m\u001b[0;34m)\u001b[0m\u001b[0;34m\u001b[0m\u001b[0;34m\u001b[0m\u001b[0m\n\u001b[0;32m---> 56\u001b[0;31m   \u001b[0mmodel\u001b[0m\u001b[0;34m.\u001b[0m\u001b[0mload_state_dict\u001b[0m\u001b[0;34m(\u001b[0m\u001b[0mckpt\u001b[0m\u001b[0;34m[\u001b[0m\u001b[0;34m'model'\u001b[0m\u001b[0;34m]\u001b[0m\u001b[0;34m)\u001b[0m\u001b[0;34m\u001b[0m\u001b[0;34m\u001b[0m\u001b[0m\n\u001b[0m\u001b[1;32m     57\u001b[0m   \u001b[0moptim\u001b[0m\u001b[0;34m.\u001b[0m\u001b[0mload_state_dict\u001b[0m\u001b[0;34m(\u001b[0m\u001b[0mckpt\u001b[0m\u001b[0;34m[\u001b[0m\u001b[0;34m'optim'\u001b[0m\u001b[0;34m]\u001b[0m\u001b[0;34m)\u001b[0m\u001b[0;34m\u001b[0m\u001b[0;34m\u001b[0m\u001b[0m\n\u001b[1;32m     58\u001b[0m   \u001b[0mckpt\u001b[0m\u001b[0;34m[\u001b[0m\u001b[0;34m'model'\u001b[0m\u001b[0;34m]\u001b[0m \u001b[0;34m=\u001b[0m \u001b[0mmodel\u001b[0m\u001b[0;34m\u001b[0m\u001b[0;34m\u001b[0m\u001b[0m\n",
      "\u001b[0;32m~/.conda/envs/vis/lib/python3.7/site-packages/torch/nn/modules/module.py\u001b[0m in \u001b[0;36mload_state_dict\u001b[0;34m(self, state_dict, strict)\u001b[0m\n\u001b[1;32m   1481\u001b[0m         \u001b[0;32mif\u001b[0m \u001b[0mlen\u001b[0m\u001b[0;34m(\u001b[0m\u001b[0merror_msgs\u001b[0m\u001b[0;34m)\u001b[0m \u001b[0;34m>\u001b[0m \u001b[0;36m0\u001b[0m\u001b[0;34m:\u001b[0m\u001b[0;34m\u001b[0m\u001b[0;34m\u001b[0m\u001b[0m\n\u001b[1;32m   1482\u001b[0m             raise RuntimeError('Error(s) in loading state_dict for {}:\\n\\t{}'.format(\n\u001b[0;32m-> 1483\u001b[0;31m                                self.__class__.__name__, \"\\n\\t\".join(error_msgs)))\n\u001b[0m\u001b[1;32m   1484\u001b[0m         \u001b[0;32mreturn\u001b[0m \u001b[0m_IncompatibleKeys\u001b[0m\u001b[0;34m(\u001b[0m\u001b[0mmissing_keys\u001b[0m\u001b[0;34m,\u001b[0m \u001b[0munexpected_keys\u001b[0m\u001b[0;34m)\u001b[0m\u001b[0;34m\u001b[0m\u001b[0;34m\u001b[0m\u001b[0m\n\u001b[1;32m   1485\u001b[0m \u001b[0;34m\u001b[0m\u001b[0m\n",
      "\u001b[0;31mRuntimeError\u001b[0m: Error(s) in loading state_dict for MLP:\n\tUnexpected key(s) in state_dict: \"net.6.layer.0.weight\", \"net.6.layer.0.bias\", \"net.6.layer.1.weight\", \"net.6.layer.1.bias\", \"net.7.layer.0.weight\", \"net.7.layer.0.bias\", \"net.5.layer.1.weight\", \"net.5.layer.1.bias\". \n\tsize mismatch for net.1.layer.0.weight: copying a param with shape torch.Size([32, 48]) from checkpoint, the shape in current model is torch.Size([64, 48]).\n\tsize mismatch for net.1.layer.0.bias: copying a param with shape torch.Size([32]) from checkpoint, the shape in current model is torch.Size([64]).\n\tsize mismatch for net.1.layer.1.weight: copying a param with shape torch.Size([32]) from checkpoint, the shape in current model is torch.Size([64]).\n\tsize mismatch for net.1.layer.1.bias: copying a param with shape torch.Size([32]) from checkpoint, the shape in current model is torch.Size([64]).\n\tsize mismatch for net.2.layer.0.weight: copying a param with shape torch.Size([64, 32]) from checkpoint, the shape in current model is torch.Size([64, 64]).\n\tsize mismatch for net.3.layer.0.weight: copying a param with shape torch.Size([128, 64]) from checkpoint, the shape in current model is torch.Size([64, 64]).\n\tsize mismatch for net.3.layer.0.bias: copying a param with shape torch.Size([128]) from checkpoint, the shape in current model is torch.Size([64]).\n\tsize mismatch for net.3.layer.1.weight: copying a param with shape torch.Size([128]) from checkpoint, the shape in current model is torch.Size([64]).\n\tsize mismatch for net.3.layer.1.bias: copying a param with shape torch.Size([128]) from checkpoint, the shape in current model is torch.Size([64]).\n\tsize mismatch for net.4.layer.0.weight: copying a param with shape torch.Size([128, 128]) from checkpoint, the shape in current model is torch.Size([64, 64]).\n\tsize mismatch for net.4.layer.0.bias: copying a param with shape torch.Size([128]) from checkpoint, the shape in current model is torch.Size([64]).\n\tsize mismatch for net.4.layer.1.weight: copying a param with shape torch.Size([128]) from checkpoint, the shape in current model is torch.Size([64]).\n\tsize mismatch for net.4.layer.1.bias: copying a param with shape torch.Size([128]) from checkpoint, the shape in current model is torch.Size([64]).\n\tsize mismatch for net.5.layer.0.weight: copying a param with shape torch.Size([64, 128]) from checkpoint, the shape in current model is torch.Size([3, 64]).\n\tsize mismatch for net.5.layer.0.bias: copying a param with shape torch.Size([64]) from checkpoint, the shape in current model is torch.Size([3])."
     ]
    }
   ],
   "source": [
    "model_dir = nncfg.config['model']['log_dir']\n",
    "ckpt = load_checkpoint(f\"{model_dir}/ckpt_7298_-001_8.76e-06\", nncfg)\n",
    "model = ckpt['model']\n",
    "\n",
    "model_dir = nncfg_lg.config['model']['log_dir']\n",
    "ckpt = load_checkpoint(f\"{model_dir}/ckpt_9748_-001_5.31e-06\", nncfg_lg)\n",
    "model_lg = ckpt['model']"
   ]
  },
  {
   "cell_type": "code",
   "execution_count": 12,
   "metadata": {},
   "outputs": [],
   "source": [
    "ds = nncfg.get_dataset()"
   ]
  },
  {
   "cell_type": "code",
   "execution_count": 17,
   "metadata": {},
   "outputs": [],
   "source": [
    "pred = model(ds.phys_prep)"
=======
   "execution_count": 3,
   "metadata": {},
   "outputs": [],
   "source": [
    "nncfg = Config(\"nn_vls_md.yaml\")\n",
    "nncfg_lg = Config(\"nn_vls_lg.yaml\")"
>>>>>>> Stashed changes
   ]
  },
  {
   "cell_type": "code",
<<<<<<< Updated upstream
   "execution_count": 19,
=======
=======
>>>>>>> Stashed changes
   "execution_count": 13,
   "metadata": {},
   "outputs": [],
   "source": [
    "model_dir = nncfg.config['model']['log_dir']\n",
    "ckpt = load_checkpoint(f\"{model_dir}/ckpt_3299_-001_1.92e-05\", nncfg)\n",
    "model = ckpt['model']"
   ]
  },
  {
   "cell_type": "code",
   "execution_count": 11,
   "metadata": {},
   "outputs": [
    {
     "name": "stdout",
     "output_type": "stream",
     "text": [
      "transforming inputs\n"
     ]
    }
   ],
   "source": [
    "ds = nncfg.get_dataset()"
   ]
  },
  {
   "cell_type": "code",
   "execution_count": 14,
<<<<<<< Updated upstream
>>>>>>> Stashed changes
=======
>>>>>>> Stashed changes
   "metadata": {},
   "outputs": [
    {
     "name": "stdout",
     "output_type": "stream",
     "text": [
<<<<<<< Updated upstream
<<<<<<< Updated upstream
      "tensor([0., 0., 0.]) tensor([0.2683, 0.0543, 0.2750], grad_fn=<SelectBackward0>)\n",
      "tensor([0.0000, 0.0000, 0.0115]) tensor([0.0579, 0.0965, 0.0503], grad_fn=<SelectBackward0>)\n",
      "tensor([0.0000, 0.0000, 0.0230]) tensor([0.0152, 0.1133, 0.0966], grad_fn=<SelectBackward0>)\n",
      "tensor([0.0000, 0.0000, 0.0345]) tensor([0.1242, 0.1006, 0.1399], grad_fn=<SelectBackward0>)\n",
      "tensor([0.0000, 0.0000, 0.0460]) tensor([0.0835, 0.0642, 0.1862], grad_fn=<SelectBackward0>)\n",
      "tensor([0.0000, 0.0000, 0.0575]) tensor([0.2448, 0.1216, 0.3506], grad_fn=<SelectBackward0>)\n",
      "tensor([0.0000, 0.0000, 0.0690]) tensor([0.1515, 0.0638, 0.1328], grad_fn=<SelectBackward0>)\n",
      "tensor([0.0000, 0.0000, 0.0805]) tensor([0.0130, 0.1493, 0.1136], grad_fn=<SelectBackward0>)\n",
      "tensor([0.0000, 0.0000, 0.0920]) tensor([0.0103, 0.1504, 0.1529], grad_fn=<SelectBackward0>)\n",
      "tensor([0.0000, 0.0000, 0.1034]) tensor([0.0101, 0.0926, 0.0751], grad_fn=<SelectBackward0>)\n"
=======
=======
>>>>>>> Stashed changes
      "tensor([0., 0., 0.]) tensor([0.0288, 0.0264, 0.0314], grad_fn=<SelectBackward0>)\n",
      "tensor([0.0000, 0.0000, 0.0115]) tensor([0.0293, 0.0240, 0.0346], grad_fn=<SelectBackward0>)\n",
      "tensor([0.0000, 0.0000, 0.0230]) tensor([0.0285, 0.0216, 0.0410], grad_fn=<SelectBackward0>)\n",
      "tensor([0.0000, 0.0000, 0.0345]) tensor([0.0270, 0.0192, 0.0529], grad_fn=<SelectBackward0>)\n",
      "tensor([0.0000, 0.0000, 0.0460]) tensor([0.0287, 0.0168, 0.0642], grad_fn=<SelectBackward0>)\n",
      "tensor([0.0000, 0.0000, 0.0575]) tensor([0.0313, 0.0152, 0.0730], grad_fn=<SelectBackward0>)\n",
      "tensor([0.0000, 0.0000, 0.0690]) tensor([0.0326, 0.0144, 0.0822], grad_fn=<SelectBackward0>)\n",
      "tensor([0.0000, 0.0000, 0.0805]) tensor([0.0286, 0.0149, 0.0903], grad_fn=<SelectBackward0>)\n",
      "tensor([0.0000, 0.0000, 0.0920]) tensor([0.0308, 0.0145, 0.0963], grad_fn=<SelectBackward0>)\n",
      "tensor([0.0000, 0.0000, 0.1034]) tensor([0.0291, 0.0150, 0.1064], grad_fn=<SelectBackward0>)\n"
<<<<<<< Updated upstream
>>>>>>> Stashed changes
=======
>>>>>>> Stashed changes
     ]
    }
   ],
   "source": [
<<<<<<< Updated upstream
<<<<<<< Updated upstream
=======
    "pred = model(ds.phys_prep)\n",
>>>>>>> Stashed changes
=======
    "pred = model(ds.phys_prep)\n",
>>>>>>> Stashed changes
    "for i in range(10):\n",
    "  print(ds.comp_prep[i], pred[i])"
   ]
  }
 ],
 "metadata": {
  "interpreter": {
   "hash": "d82c3ef9a9c52ca48f89a57a471345d340895240528db2b7c56159ebd2138f11"
  },
  "kernelspec": {
   "display_name": "Python 3.7.10 64-bit ('vis')",
   "language": "python",
   "name": "python3"
  },
  "language_info": {
   "codemirror_mode": {
    "name": "ipython",
    "version": 3
   },
   "file_extension": ".py",
   "mimetype": "text/x-python",
   "name": "python",
   "nbconvert_exporter": "python",
   "pygments_lexer": "ipython3",
   "version": "3.7.6"
  },
  "orig_nbformat": 4
 },
 "nbformat": 4,
 "nbformat_minor": 2
}
