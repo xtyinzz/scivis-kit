{
 "cells": [
  {
   "cell_type": "code",
   "execution_count": 7,
   "metadata": {},
   "outputs": [
    {
     "name": "stdout",
     "output_type": "stream",
     "text": [
      "The autoreload extension is already loaded. To reload it, use:\n",
      "  %reload_ext autoreload\n"
     ]
    }
   ],
   "source": [
    "import numpy as np\n",
    "import struct\n",
    "import sys\n",
    "import os\n",
    "from vec_io import get_zeroled_names, read_vec\n",
    "from vis_io import get_vtr, write_vtr, get_mesh\n",
    "import vtk\n",
    "from vtkmodules.util import numpy_support\n",
    "\n",
    "%load_ext autoreload\n",
    "%autoreload 2"
   ]
  },
  {
   "cell_type": "code",
   "execution_count": 8,
   "metadata": {},
   "outputs": [],
   "source": [
    "vec_dir = 'data'\n",
    "vec_paths = sorted([os.path.join(vec_dir, vec_file) for vec_file in os.listdir(vec_dir)])\n",
    "vec0 = read_vec(vec_paths[0])"
   ]
  },
  {
   "cell_type": "code",
   "execution_count": 34,
   "metadata": {},
   "outputs": [
    {
     "name": "stdout",
     "output_type": "stream",
     "text": [
      "meshe generated: (48, 48, 48, 3)\n"
     ]
    }
   ],
   "source": [
    "# generate seeds in every on each grid point of (48,48,48)\n",
    "dim_coord = np.arange(48., dtype=np.float32)\n",
    "mesh = get_mesh(dim_coord,dim_coord,dim_coord)\n",
    "mesh = mesh.reshape(-1, 3)\n",
    "seeds = vtk.vtkPoints()\n",
    "seeds.SetData(numpy_support.numpy_to_vtk(mesh))\n",
    "seeds_pd = vtk.vtkPolyData()\n",
    "seeds_pd.SetPoints(seeds)\n",
    "# seeds_dataset = vtk.vtkPointSet()\n",
    "# seeds_dataset.SetPoints(seeds)\n",
    "# seeds_source = vtk.vtkPointSource()\n",
    "# seeds_source.SetInputData(seeds_dataset)\n",
    "\n",
    "# get vector field in vtk format\n",
    "dim_coord = np.arange(48., dtype=np.float32)\n",
    "vec_vtr = get_vtr(vec0.shape[:-1], dim_coord, dim_coord, dim_coord, {'velocity': vec0.reshape(-1, 3)})"
   ]
  },
  {
   "cell_type": "code",
   "execution_count": 35,
   "metadata": {},
   "outputs": [
    {
     "data": {
      "text/plain": [
       "0"
      ]
     },
     "execution_count": 35,
     "metadata": {},
     "output_type": "execute_result"
    }
   ],
   "source": [
    "# get stream tracer\n",
    "tem_speed =0.0001\n",
    "max_error = 1e-12\n",
    "min_intstepsize = 0.01\n",
    "max_intstepsize = 0.5\n",
    "max_steps = 1000\n",
    "max_length = 47\n",
    "\n",
    "\n",
    "st = vtk.vtkStreamTracer()\n",
    "\n",
    "st.SetInputData(vec_vtr)\n",
    "st.SetSourceData(seeds_pd)\n",
    "\n",
    "integrator = vtk.vtkRungeKutta45()\n",
    "st.SetIntegratorTypeToRungeKutta45()\n",
    "st.SetIntegrationDirectionToForward()\n",
    "st.SetInitialIntegrationStep(0.2)\n",
    "st.SetMinimumIntegrationStep(min_intstepsize)\n",
    "st.SetMaximumIntegrationStep(max_intstepsize)\n",
    "st.SetMaximumNumberOfSteps(max_steps)\n",
    "st.SetMaximumPropagation(max_length)\n",
    "st.SetTerminalSpeed(tem_speed)\n",
    "\n",
    "# st.SetSourceData(seeds_dataset)\n",
    "\n",
    "st.Update()\n",
    "\n",
    "pdm = st.GetOutput()\n",
    "pdm.GetNumberOfLines()"
   ]
  },
  {
   "cell_type": "code",
   "execution_count": 38,
   "metadata": {},
   "outputs": [
    {
     "data": {
      "text/plain": [
       "0"
      ]
     },
     "execution_count": 38,
     "metadata": {},
     "output_type": "execute_result"
    }
   ],
   "source": [
    "pdm.GetNumberOfCells()"
   ]
  },
  {
   "cell_type": "code",
   "execution_count": 36,
   "metadata": {},
   "outputs": [],
   "source": [
    "pdm.BuildCells()"
   ]
  },
  {
   "cell_type": "code",
   "execution_count": 24,
   "metadata": {},
   "outputs": [
    {
     "ename": "AttributeError",
     "evalue": "'vtkmodules.vtkFiltersFlowPaths.vtkStreamTracer' object has no attribute 'SetSource'",
     "output_type": "error",
     "traceback": [
      "\u001b[1;31m---------------------------------------------------------------------------\u001b[0m",
      "\u001b[1;31mAttributeError\u001b[0m                            Traceback (most recent call last)",
      "\u001b[1;32m<ipython-input-24-89dc56b5184c>\u001b[0m in \u001b[0;36m<module>\u001b[1;34m\u001b[0m\n\u001b[1;32m----> 1\u001b[1;33m \u001b[0mst\u001b[0m\u001b[1;33m.\u001b[0m\u001b[0mSetSource\u001b[0m\u001b[1;33m(\u001b[0m\u001b[1;33m)\u001b[0m\u001b[1;33m\u001b[0m\u001b[1;33m\u001b[0m\u001b[0m\n\u001b[0m",
      "\u001b[1;31mAttributeError\u001b[0m: 'vtkmodules.vtkFiltersFlowPaths.vtkStreamTracer' object has no attribute 'SetSource'"
     ]
    }
   ],
   "source": [
    "st.SetSource()"
   ]
  },
  {
   "cell_type": "code",
   "execution_count": 42,
   "metadata": {},
   "outputs": [],
   "source": [
    "pd = st.GetSource()"
   ]
  },
  {
   "cell_type": "code",
   "execution_count": null,
   "metadata": {},
   "outputs": [],
   "source": [
    "pd."
   ]
  },
  {
   "cell_type": "code",
   "execution_count": 26,
   "metadata": {},
   "outputs": [],
   "source": [
    "pointdata = vec_vtr.GetPointData()"
   ]
  }
 ],
 "metadata": {
  "interpreter": {
   "hash": "b43128b8149febc113f839bcab30702eb99c8d3a604df05727c78f54e33a9fbd"
  },
  "kernelspec": {
   "display_name": "Python 3.7.6 ('ml37')",
   "language": "python",
   "name": "python3"
  },
  "language_info": {
   "codemirror_mode": {
    "name": "ipython",
    "version": 3
   },
   "file_extension": ".py",
   "mimetype": "text/x-python",
   "name": "python",
   "nbconvert_exporter": "python",
   "pygments_lexer": "ipython3",
   "version": "3.7.6"
  },
  "orig_nbformat": 4
 },
 "nbformat": 4,
 "nbformat_minor": 2
}
