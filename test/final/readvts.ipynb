{
 "cells": [
  {
   "cell_type": "code",
   "execution_count": 45,
   "metadata": {},
   "outputs": [],
   "source": [
    "import sys  \n",
    "sys.path.insert(0, '../../pycurvis')\n",
    "from data.vec_io import *\n",
    "from data.vis_io import *\n",
    "import vtk\n",
    "from vtkmodules.util import numpy_support\n",
    "\n",
    "def getijk(n, strides):\n",
    "  k = n // strides[2]\n",
    "  n -= k*strides[2]\n",
    "  j = n // strides[1]\n",
    "  n -= j*strides[1]\n",
    "  i = n // strides[0]\n",
    "  n -= i*strides[0]\n",
    "  return [i, j, k]"
   ]
  },
  {
   "cell_type": "code",
   "execution_count": 2,
   "metadata": {},
   "outputs": [],
   "source": [
    "sgr = vtk.vtkXMLStructuredGridReader()\n",
    "sgr.SetFileName(\"data/bc80-45000-down.vts\")\n",
    "sgr.Update()\n",
    "sg = sgr.GetOutput()"
   ]
  },
  {
   "cell_type": "code",
   "execution_count": 6,
   "metadata": {},
   "outputs": [
    {
     "name": "stdout",
     "output_type": "stream",
     "text": [
      "(300.21173095703125,)\n",
      "(0.0, 696.0, -250.0, 150.0, 0.7504535071217414, 429.4370158281313)\n"
     ]
    }
   ],
   "source": [
    "pd = sg.GetPointData()\n",
    "theta = pd.GetArray(0)\n",
    "print(theta.GetTuple(21241))\n",
    "print(sg.GetBounds())"
   ]
  },
  {
   "cell_type": "code",
   "execution_count": 118,
   "metadata": {},
   "outputs": [
    {
     "name": "stdout",
     "output_type": "stream",
     "text": [
      "63325 [53, 5, 14] (424.0, -210.0, 126.73634439666756)\n"
     ]
    }
   ],
   "source": [
    "# query = [0, 0, 0]\n",
    "query = [0+200, -250.0+5, 0.7505+5]\n",
    "pcoord = [0,0,0]\n",
    "weights = [0,0,0,0,0,0,0,0]\n",
    "subid = vtk.reference(0)\n",
    "spid = sg.FindCell(query, None, 0, 1e-4, subid, pcoord, weights)\n",
    "strides = [1, 88, 88*51]\n",
    "\n",
    "i = [0, 1, 1, 0, 0, 1, 1, 0]\n",
    "j = [0, 0, 1, 1, 0, 0, 1, 1]\n",
    "k = [0, 0, 0, 0, 1, 1, 1, 1]\n",
    "if spid > -1:\n",
    "  for pidx in range(8):\n",
    "    tmpspid = spid + i[pidx]*strides[0] + j[pidx]*strides[1] + k[pidx]*strides[2]\n",
    "    print(tmpspid, getijk(tmpspid, strides), sg.GetPoint(tmpspid))"
   ]
  },
  {
   "cell_type": "code",
   "execution_count": 117,
   "metadata": {},
   "outputs": [
    {
     "data": {
      "text/plain": [
       "[-9.375, 0.625, -79.46451548542096]"
      ]
     },
     "execution_count": 117,
     "metadata": {},
     "output_type": "execute_result"
    }
   ],
   "source": [
    "pcoord"
   ]
  },
  {
   "cell_type": "code",
   "execution_count": 115,
   "metadata": {},
   "outputs": [
    {
     "data": {
      "text/plain": [
       "0"
      ]
     },
     "execution_count": 115,
     "metadata": {},
     "output_type": "execute_result"
    }
   ],
   "source": [
    "subid.get()"
   ]
  },
  {
   "cell_type": "code",
   "execution_count": 94,
   "metadata": {},
   "outputs": [
    {
     "data": {
      "text/plain": [
       "[-5.0, 1.0, -41.403590523999455]"
      ]
     },
     "execution_count": 94,
     "metadata": {},
     "output_type": "execute_result"
    }
   ],
   "source": [
    "pcoord"
   ]
  },
  {
   "cell_type": "code",
   "execution_count": 100,
   "metadata": {},
   "outputs": [
    {
     "name": "stdout",
     "output_type": "stream",
     "text": [
      "8\n",
      "2118 [6, 24, 0] (48.0, -58.0, 175.10739521681703)\n",
      "2119 [7, 24, 0] (56.0, -58.0, 171.1106758878864)\n",
      "2207 [7, 25, 0] (56.0, -50.0, 171.1106758878864)\n",
      "2206 [6, 25, 0] (48.0, -50.0, 175.10739521681703)\n",
      "6606 [6, 24, 1] (48.0, -58.0, 177.58077417243973)\n",
      "6607 [7, 24, 1] (56.0, -58.0, 173.59741543316198)\n",
      "6695 [7, 25, 1] (56.0, -50.0, 173.59741543316198)\n",
      "6694 [6, 25, 1] (48.0, -50.0, 177.58077417243973)\n"
     ]
    }
   ],
   "source": [
    "tmpGCell = vtk.vtkGenericCell()\n",
    "\n",
    "# query = [0, 0, 0]\n",
    "query = [10, -50.0, 100]\n",
    "pcoord = [0,0,0]\n",
    "weights = [0,0,0,0,0,0,0,0]\n",
    "subid = vtk.reference(0)\n",
    "spid = sg.FindCell(query, None, tmpGCell, 0, 0, subid, pcoord, weights)\n",
    "print(tmpGCell.GetNumberOfPoints())\n",
    "pids = tmpGCell.GetPointIds()\n",
    "strides = [1, 88, 88*51]\n",
    "for i in range(8):\n",
    "  print(pids.GetId(i), getijk(pids.GetId(i), strides), sg.GetPoint(pids.GetId(i)))"
   ]
  },
  {
   "cell_type": "code",
   "execution_count": 87,
   "metadata": {},
   "outputs": [
    {
     "data": {
      "text/plain": [
       "[0.0, 0.0, 0.373899810228308]"
      ]
     },
     "execution_count": 87,
     "metadata": {},
     "output_type": "execute_result"
    }
   ],
   "source": [
    "pcoord"
   ]
  },
  {
   "cell_type": "code",
   "execution_count": 97,
   "metadata": {},
   "outputs": [],
   "source": [
    "vtkInterp = vtk.vtkProbeFilter()\n",
    "vtkInterp.SetSourceData(sg)\n",
    "seeds_dataset = vtk.vtkPointSet()\n",
    "seed = vtk.vtkPoints()\n",
    "seed.InsertNextPoint([10, -50.0, 100])\n",
    "seeds_dataset.SetPoints(seed)\n",
    "vtkInterp.SetInputData(seeds_dataset)\n",
    "vtkInterp.Update()\n",
    "pc = vtkInterp.GetOutput()"
   ]
  },
  {
   "cell_type": "code",
   "execution_count": 99,
   "metadata": {},
   "outputs": [
    {
     "data": {
      "text/plain": [
       "array([0.], dtype=float32)"
      ]
     },
     "execution_count": 99,
     "metadata": {},
     "output_type": "execute_result"
    }
   ],
   "source": [
    "values = numpy_support.vtk_to_numpy(pc.GetPointData().GetArray(0))\n",
    "values"
   ]
  },
  {
   "cell_type": "code",
   "execution_count": 54,
   "metadata": {},
   "outputs": [
    {
     "data": {
      "text/plain": [
       "(0.0, -250.0, 191.09518730899723)"
      ]
     },
     "execution_count": 54,
     "metadata": {},
     "output_type": "execute_result"
    }
   ],
   "source": [
    "sg.GetPoint(0)"
   ]
  },
  {
   "cell_type": "code",
   "execution_count": 34,
   "metadata": {},
   "outputs": [
    {
     "name": "stdout",
     "output_type": "stream",
     "text": [
      "(88, 51, 21)\n",
      "(0, 87, 0, 50, 0, 20)\n",
      "(0.0, 696.0, -250.0, 150.0, 0.7504535071217414, 429.4370158281313)\n",
      "4488\n"
     ]
    }
   ],
   "source": [
    "print(sg.GetDimensions())\n",
    "print(sg.GetExtent())\n",
    "print(sg.GetBounds())\n",
    "print(88*51)"
   ]
  },
  {
   "cell_type": "code",
   "execution_count": null,
   "metadata": {},
   "outputs": [],
   "source": [
    "sg.GetDimensions"
   ]
  },
  {
   "cell_type": "code",
   "execution_count": 24,
   "metadata": {},
   "outputs": [
    {
     "name": "stdout",
     "output_type": "stream",
     "text": [
      "1598 (112.0, -106.0, 143.1336405853721)\n",
      "0\n",
      "[14, 18, 0]\n",
      "1599 (120.0, -106.0, 139.13692125644147)\n",
      "0\n",
      "[15, 18, 0]\n",
      "1687 (120.0, -98.0, 139.13692125644147)\n",
      "0\n",
      "[15, 19, 0]\n",
      "1686 (112.0, -98.0, 143.1336405853721)\n",
      "0\n",
      "[14, 19, 0]\n",
      "6086 (112.0, -106.0, 145.71390425821784)\n",
      "0\n",
      "[14, 18, 1]\n",
      "6087 (120.0, -106.0, 141.7305455189401)\n",
      "0\n",
      "[15, 18, 1]\n",
      "6175 (120.0, -98.0, 141.7305455189401)\n",
      "0\n",
      "[15, 19, 1]\n",
      "6174 (112.0, -98.0, 145.71390425821784)\n",
      "0\n",
      "[14, 19, 1]\n"
     ]
    }
   ],
   "source": [
    "strides = [1, 88, 88*51]\n",
    "pids = tmpGCell.GetPointIds()\n",
    "for i in range(8):\n",
    "  print(pids.GetId(i), sg.GetPoint(pids.GetId(i)))\n",
    "  print(getijk(pids.GetId(i), strides))"
   ]
  },
  {
   "cell_type": "code",
   "execution_count": 57,
   "metadata": {},
   "outputs": [],
   "source": []
  },
  {
   "cell_type": "code",
   "execution_count": 27,
   "metadata": {},
   "outputs": [
    {
     "data": {
      "text/plain": [
       "vtkmodules.vtkCommonCore.tuple_reference([0, 0, 0])"
      ]
     },
     "execution_count": 27,
     "metadata": {},
     "output_type": "execute_result"
    }
   ],
   "source": [
    "vtk.reference([0,0,0])"
   ]
  },
  {
   "cell_type": "code",
   "execution_count": 26,
   "metadata": {},
   "outputs": [],
   "source": [
    "phys = read_vec(\"data/mantle_phys.vec\")"
   ]
  },
  {
   "cell_type": "code",
   "execution_count": 28,
   "metadata": {},
   "outputs": [
    {
     "data": {
      "text/plain": [
       "(201, 360, 140, 3)"
      ]
     },
     "execution_count": 28,
     "metadata": {},
     "output_type": "execute_result"
    }
   ],
   "source": [
    "phys.shape"
   ]
  }
 ],
 "metadata": {
  "interpreter": {
   "hash": "f579e5a590b776c810cf09a4ac859a57499ccf19b09f5193e197d5d21efa5bea"
  },
  "kernelspec": {
   "display_name": "Python 3.8.10 ('vis')",
   "language": "python",
   "name": "python3"
  },
  "language_info": {
   "codemirror_mode": {
    "name": "ipython",
    "version": 3
   },
   "file_extension": ".py",
   "mimetype": "text/x-python",
   "name": "python",
   "nbconvert_exporter": "python",
   "pygments_lexer": "ipython3",
   "version": "3.8.10"
  },
  "orig_nbformat": 4
 },
 "nbformat": 4,
 "nbformat_minor": 2
}
