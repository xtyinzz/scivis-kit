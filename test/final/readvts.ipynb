{
 "cells": [
  {
   "cell_type": "code",
   "execution_count": 45,
   "metadata": {},
   "outputs": [],
   "source": [
    "import sys  \n",
    "sys.path.insert(0, '../../pycurvis')\n",
    "from data.vec_io import *\n",
    "from data.vis_io import *\n",
    "import vtk\n",
    "from vtkmodules.util import numpy_support\n",
    "\n",
    "%load_ext autoreload\n",
    "%autoreload 2"
   ]
  },
  {
   "cell_type": "code",
   "execution_count": 2,
   "metadata": {},
   "outputs": [],
   "source": [
    "data_path = \"data/bc80-45000-down.vts\"\n",
    "vtkSGR = vtk.vtkXMLStructuredGridReader()\n",
    "vtkSGR.SetFileName(data_path)\n",
    "vtkSGR.Update()\n",
    "sg = vtkSGR.GetOutput()\n",
    "print(sg.GetDimensions())\n",
    "print(sg.GetExtent())\n",
    "print(sg.GetBounds())"
   ]
  },
  {
   "cell_type": "code",
   "execution_count": 6,
   "metadata": {},
   "outputs": [
    {
     "name": "stdout",
     "output_type": "stream",
     "text": [
      "(300.21173095703125,)\n",
      "(0.0, 696.0, -250.0, 150.0, 0.7504535071217414, 429.4370158281313)\n"
     ]
    }
   ],
   "source": [
    "pd = sg.GetPointData()\n",
    "theta = pd.GetArray(0)\n",
    "print(theta.GetTuple(21241))\n",
    "print(sg.GetBounds())"
   ]
  },
  {
   "cell_type": "code",
   "execution_count": 120,
   "metadata": {},
   "outputs": [
    {
     "name": "stdout",
     "output_type": "stream",
     "text": [
      "56574 [78, 30, 12] (624.0, -10.0, 90.10465936576189)\n",
      "56575 [79, 30, 12] (632.0, -10.0, 90.10465936576189)\n",
      "56663 [79, 31, 12] (632.0, -2.0, 90.10465936576189)\n",
      "56662 [78, 31, 12] (624.0, -2.0, 90.10465936576189)\n",
      "61062 [78, 30, 13] (624.0, -10.0, 107.26677976350443)\n",
      "61063 [79, 30, 13] (632.0, -10.0, 107.26677976350443)\n",
      "61151 [79, 31, 13] (632.0, -2.0, 107.26677976350443)\n",
      "61150 [78, 31, 13] (624.0, -2.0, 107.26677976350443)\n"
     ]
    }
   ],
   "source": [
    "# query = [0, 0, 0]\n",
    "query = [0+200, -250.0+5, 0.7505+205]\n",
    "pcoord = [0,0,0]\n",
    "weights = [0,0,0,0,0,0,0,0]\n",
    "subid = vtk.reference(0)\n",
    "spid = sg.FindCell(query, None, 0, 1e-4, subid, pcoord, weights)\n",
    "strides = [1, 88, 88*51]\n",
    "\n",
    "i = [0, 1, 1, 0, 0, 1, 1, 0]\n",
    "j = [0, 0, 1, 1, 0, 0, 1, 1]\n",
    "k = [0, 0, 0, 0, 1, 1, 1, 1]\n",
    "if spid > -1:\n",
    "  for pidx in range(8):\n",
    "    tmpspid = spid + i[pidx]*strides[0] + j[pidx]*strides[1] + k[pidx]*strides[2]\n",
    "    print(tmpspid, getijk(tmpspid, strides), sg.GetPoint(tmpspid))"
   ]
  },
  {
   "cell_type": "code",
   "execution_count": 117,
   "metadata": {},
   "outputs": [
    {
     "data": {
      "text/plain": [
       "[-9.375, 0.625, -79.46451548542096]"
      ]
     },
     "execution_count": 117,
     "metadata": {},
     "output_type": "execute_result"
    }
   ],
   "source": [
    "pcoord"
   ]
  },
  {
   "cell_type": "code",
   "execution_count": 115,
   "metadata": {},
   "outputs": [
    {
     "data": {
      "text/plain": [
       "0"
      ]
     },
     "execution_count": 115,
     "metadata": {},
     "output_type": "execute_result"
    }
   ],
   "source": [
    "subid.get()"
   ]
  },
  {
   "cell_type": "code",
   "execution_count": 94,
   "metadata": {},
   "outputs": [
    {
     "data": {
      "text/plain": [
       "[-5.0, 1.0, -41.403590523999455]"
      ]
     },
     "execution_count": 94,
     "metadata": {},
     "output_type": "execute_result"
    }
   ],
   "source": [
    "pcoord"
   ]
  },
  {
   "cell_type": "code",
   "execution_count": 137,
   "metadata": {},
   "outputs": [
    {
     "name": "stdout",
     "output_type": "stream",
     "text": [
      "8 [0.25, 0.75, 0.8210165699599147]\n",
      "1585 [1, 18, 0] (8.0, -106.0, 190.39218160122977)\n",
      "1586 [2, 18, 0] (16.0, -106.0, 188.8643219615249)\n",
      "1674 [2, 19, 0] (16.0, -98.0, 188.8643219615249)\n",
      "1673 [1, 19, 0] (8.0, -98.0, 190.39218160122977)\n",
      "6073 [1, 18, 1] (8.0, -106.0, 192.8144652103927)\n",
      "6074 [2, 18, 1] (16.0, -106.0, 191.29171303608967)\n",
      "6162 [2, 19, 1] (16.0, -98.0, 191.29171303608967)\n",
      "6161 [1, 19, 1] (8.0, -98.0, 192.8144652103927)\n"
     ]
    }
   ],
   "source": [
    "tmpGCell = vtk.vtkGenericCell()\n",
    "\n",
    "# query = [0, 0, 0]\n",
    "query = [10.0, -100.0, 192]\n",
    "pcoord = [0,0,0]\n",
    "weights = [0,0,0,0,0,0,0,0]\n",
    "subid = vtk.reference(0)\n",
    "spid = sg.FindCell(query, None, tmpGCell, 0, 0, subid, pcoord, weights)\n",
    "print(tmpGCell.GetNumberOfPoints(), pcoord)\n",
    "pids = tmpGCell.GetPointIds()\n",
    "strides = [1, 88, 88*51]\n",
    "for i in range(8):\n",
    "  print(pids.GetId(i), getijk(pids.GetId(i), strides), sg.GetPoint(pids.GetId(i)))"
   ]
  },
  {
   "cell_type": "code",
   "execution_count": 131,
   "metadata": {},
   "outputs": [
    {
     "data": {
      "text/plain": [
       "[0.125, 0.25, 0.7424097112086455]"
      ]
     },
     "execution_count": 131,
     "metadata": {},
     "output_type": "execute_result"
    }
   ],
   "source": []
  },
  {
   "cell_type": "code",
   "execution_count": 87,
   "metadata": {},
   "outputs": [
    {
     "data": {
      "text/plain": [
       "[0.0, 0.0, 0.373899810228308]"
      ]
     },
     "execution_count": 87,
     "metadata": {},
     "output_type": "execute_result"
    }
   ],
   "source": [
    "pcoord"
   ]
  },
  {
   "cell_type": "code",
   "execution_count": 97,
   "metadata": {},
   "outputs": [],
   "source": [
    "vtkInterp = vtk.vtkProbeFilter()\n",
    "vtkInterp.SetSourceData(sg)\n",
    "seeds_dataset = vtk.vtkPointSet()\n",
    "seed = vtk.vtkPoints()\n",
    "seed.InsertNextPoint([10, -50.0, 100])\n",
    "seeds_dataset.SetPoints(seed)\n",
    "vtkInterp.SetInputData(seeds_dataset)\n",
    "vtkInterp.Update()\n",
    "pc = vtkInterp.GetOutput()"
   ]
  },
  {
   "cell_type": "code",
   "execution_count": 99,
   "metadata": {},
   "outputs": [
    {
     "data": {
      "text/plain": [
       "array([0.], dtype=float32)"
      ]
     },
     "execution_count": 99,
     "metadata": {},
     "output_type": "execute_result"
    }
   ],
   "source": [
    "values = numpy_support.vtk_to_numpy(pc.GetPointData().GetArray(0))\n",
    "values"
   ]
  },
  {
   "cell_type": "code",
   "execution_count": 54,
   "metadata": {},
   "outputs": [
    {
     "data": {
      "text/plain": [
       "(0.0, -250.0, 191.09518730899723)"
      ]
     },
     "execution_count": 54,
     "metadata": {},
     "output_type": "execute_result"
    }
   ],
   "source": [
    "sg.GetPoint(0)"
   ]
  },
  {
   "cell_type": "code",
   "execution_count": 34,
   "metadata": {},
   "outputs": [
    {
     "name": "stdout",
     "output_type": "stream",
     "text": [
      "(88, 51, 21)\n",
      "(0, 87, 0, 50, 0, 20)\n",
      "(0.0, 696.0, -250.0, 150.0, 0.7504535071217414, 429.4370158281313)\n",
      "4488\n"
     ]
    }
   ],
   "source": [
    "print(sg.GetDimensions())\n",
    "print(sg.GetExtent())\n",
    "print(sg.GetBounds())\n",
    "print(88*51)"
   ]
  },
  {
   "cell_type": "code",
   "execution_count": null,
   "metadata": {},
   "outputs": [],
   "source": [
    "sg.GetDimensions"
   ]
  },
  {
   "cell_type": "code",
   "execution_count": 24,
   "metadata": {},
   "outputs": [
    {
     "name": "stdout",
     "output_type": "stream",
     "text": [
      "1598 (112.0, -106.0, 143.1336405853721)\n",
      "0\n",
      "[14, 18, 0]\n",
      "1599 (120.0, -106.0, 139.13692125644147)\n",
      "0\n",
      "[15, 18, 0]\n",
      "1687 (120.0, -98.0, 139.13692125644147)\n",
      "0\n",
      "[15, 19, 0]\n",
      "1686 (112.0, -98.0, 143.1336405853721)\n",
      "0\n",
      "[14, 19, 0]\n",
      "6086 (112.0, -106.0, 145.71390425821784)\n",
      "0\n",
      "[14, 18, 1]\n",
      "6087 (120.0, -106.0, 141.7305455189401)\n",
      "0\n",
      "[15, 18, 1]\n",
      "6175 (120.0, -98.0, 141.7305455189401)\n",
      "0\n",
      "[15, 19, 1]\n",
      "6174 (112.0, -98.0, 145.71390425821784)\n",
      "0\n",
      "[14, 19, 1]\n"
     ]
    }
   ],
   "source": [
    "strides = [1, 88, 88*51]\n",
    "pids = tmpGCell.GetPointIds()\n",
    "for i in range(8):\n",
    "  print(pids.GetId(i), sg.GetPoint(pids.GetId(i)))\n",
    "  print(getijk(pids.GetId(i), strides))"
   ]
  },
  {
   "cell_type": "code",
   "execution_count": 57,
   "metadata": {},
   "outputs": [],
   "source": []
  },
  {
   "cell_type": "code",
   "execution_count": 27,
   "metadata": {},
   "outputs": [
    {
     "data": {
      "text/plain": [
       "vtkmodules.vtkCommonCore.tuple_reference([0, 0, 0])"
      ]
     },
     "execution_count": 27,
     "metadata": {},
     "output_type": "execute_result"
    }
   ],
   "source": [
    "vtk.reference([0,0,0])"
   ]
  },
  {
   "cell_type": "code",
   "execution_count": 26,
   "metadata": {},
   "outputs": [],
   "source": [
    "phys = read_vec(\"data/mantle_phys.vec\")"
   ]
  },
  {
   "cell_type": "code",
   "execution_count": 28,
   "metadata": {},
   "outputs": [
    {
     "data": {
      "text/plain": [
       "(201, 360, 140, 3)"
      ]
     },
     "execution_count": 28,
     "metadata": {},
     "output_type": "execute_result"
    }
   ],
   "source": [
    "phys.shape"
   ]
  }
 ],
 "metadata": {
  "interpreter": {
   "hash": "f579e5a590b776c810cf09a4ac859a57499ccf19b09f5193e197d5d21efa5bea"
  },
  "kernelspec": {
   "display_name": "Python 3.8.10 ('vis')",
   "language": "python",
   "name": "python3"
  },
  "language_info": {
   "codemirror_mode": {
    "name": "ipython",
    "version": 3
   },
   "file_extension": ".py",
   "mimetype": "text/x-python",
   "name": "python",
   "nbconvert_exporter": "python",
   "pygments_lexer": "ipython3",
   "version": "3.8.10"
  },
  "orig_nbformat": 4
 },
 "nbformat": 4,
 "nbformat_minor": 2
}
