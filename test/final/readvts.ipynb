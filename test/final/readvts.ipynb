{
 "cells": [
  {
   "cell_type": "code",
   "execution_count": 8,
   "metadata": {},
   "outputs": [],
   "source": [
    "import sys  \n",
    "sys.path.insert(0, '../../pycurvis')\n",
    "from data.vec_io import *\n",
    "from data.vis_io import *\n",
    "import vtk\n",
    "from vtkmodules.util import numpy_support"
   ]
  },
  {
   "cell_type": "code",
   "execution_count": 19,
   "metadata": {},
   "outputs": [],
   "source": [
    "sgr = vtk.vtkStructuredGridReader()\n",
    "sgr.SetFileName(\"data/mountain_backcurve40_20000.vts\")\n",
    "sgr.Update()\n",
    "sg = sgr.GetOutput()"
   ]
  },
  {
   "cell_type": "code",
   "execution_count": 24,
   "metadata": {},
   "outputs": [
    {
     "data": {
      "text/plain": [
       "0"
      ]
     },
     "execution_count": 24,
     "metadata": {},
     "output_type": "execute_result"
    }
   ],
   "source": [
    "sg.GetNumberOfPoints()"
   ]
  },
  {
   "cell_type": "code",
   "execution_count": 26,
   "metadata": {},
   "outputs": [],
   "source": [
    "phys = read_vec(\"data/mantle_phys.vec\")"
   ]
  },
  {
   "cell_type": "code",
   "execution_count": 28,
   "metadata": {},
   "outputs": [
    {
     "data": {
      "text/plain": [
       "(201, 360, 140, 3)"
      ]
     },
     "execution_count": 28,
     "metadata": {},
     "output_type": "execute_result"
    }
   ],
   "source": [
    "phys.shape"
   ]
  }
 ],
 "metadata": {
  "interpreter": {
   "hash": "f579e5a590b776c810cf09a4ac859a57499ccf19b09f5193e197d5d21efa5bea"
  },
  "kernelspec": {
   "display_name": "Python 3.8.10 ('vis')",
   "language": "python",
   "name": "python3"
  },
  "language_info": {
   "codemirror_mode": {
    "name": "ipython",
    "version": 3
   },
   "file_extension": ".py",
   "mimetype": "text/x-python",
   "name": "python",
   "nbconvert_exporter": "python",
   "pygments_lexer": "ipython3",
   "version": "3.8.10"
  },
  "orig_nbformat": 4
 },
 "nbformat": 4,
 "nbformat_minor": 2
}
