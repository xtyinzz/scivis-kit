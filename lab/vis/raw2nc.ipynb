{
 "cells": [
  {
   "cell_type": "code",
   "execution_count": 22,
   "metadata": {},
   "outputs": [],
   "source": [
    "import os\n",
    "from netCDF4 import Dataset\n",
    "import numpy as np\n",
    "os.chdir(\"/users/PAS0027/xiong336/course/scivis/lab\")"
   ]
  },
  {
   "cell_type": "code",
   "execution_count": 33,
   "metadata": {},
   "outputs": [],
   "source": [
    "rg = Dataset('vis/func.nc', 'w')"
   ]
  },
  {
   "cell_type": "code",
   "execution_count": 34,
   "metadata": {},
   "outputs": [
    {
     "data": {
      "text/plain": [
       "<class 'netCDF4._netCDF4.Dimension'>: name = 'z', size = 101"
      ]
     },
     "execution_count": 34,
     "metadata": {},
     "output_type": "execute_result"
    }
   ],
   "source": [
    "dmin, dmax = [-1, 1]\n",
    "step = 0.02\n",
    "dim_points = np.arange(dmin, dmax + step, step)\n",
    "\n",
    "rg.createDimension('x', dim_points.shape[0])\n",
    "rg.createDimension('y', dim_points.shape[0])\n",
    "rg.createDimension('z', dim_points.shape[0])"
   ]
  },
  {
   "cell_type": "code",
   "execution_count": 35,
   "metadata": {},
   "outputs": [],
   "source": [
    "x = rg.createVariable('x', 'f4', ('x',))\n",
    "y = rg.createVariable('y', 'f4', ('y',))\n",
    "z = rg.createVariable('z', 'f4', ('z',))\n",
    "x[:] = dim_points\n",
    "y[:] = dim_points\n",
    "z[:] = dim_points"
   ]
  },
  {
   "cell_type": "code",
   "execution_count": 36,
   "metadata": {},
   "outputs": [],
   "source": [
    "func_val = np.fromfile('data/func.raw', dtype=np.float32)\n",
    "func_val = func_val.reshape(x.shape[0], y.shape[0], z.shape[0])\n",
    "val = rg.createVariable('value', 'f4', ('x','y','z',))\n",
    "val[:] = func_val"
   ]
  },
  {
   "cell_type": "code",
   "execution_count": 37,
   "metadata": {},
   "outputs": [],
   "source": [
    "rg.close()"
   ]
  }
 ],
 "metadata": {
  "interpreter": {
   "hash": "d82c3ef9a9c52ca48f89a57a471345d340895240528db2b7c56159ebd2138f11"
  },
  "kernelspec": {
   "display_name": "Python 3.7.10 64-bit ('vis': conda)",
   "language": "python",
   "name": "python3"
  },
  "language_info": {
   "codemirror_mode": {
    "name": "ipython",
    "version": 3
   },
   "file_extension": ".py",
   "mimetype": "text/x-python",
   "name": "python",
   "nbconvert_exporter": "python",
   "pygments_lexer": "ipython3",
   "version": "3.7.10"
  },
  "orig_nbformat": 4
 },
 "nbformat": 4,
 "nbformat_minor": 2
}
