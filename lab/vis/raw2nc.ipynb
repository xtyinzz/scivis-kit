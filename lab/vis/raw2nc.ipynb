{
 "cells": [
  {
   "cell_type": "code",
   "execution_count": 1,
   "metadata": {},
   "outputs": [],
   "source": [
    "import os\n",
    "from netCDF4 import Dataset\n",
    "import numpy as np\n",
    "# os.chdir(\"/users/PAS0027/xiong336/course/scivis/lab\")\n",
    "os.chdir(\"..\")"
   ]
  },
  {
   "cell_type": "code",
   "execution_count": 2,
   "metadata": {},
   "outputs": [],
   "source": [
    "# task1a\n",
    "rg = Dataset('data/sub/task1a.nc', 'w')\n",
    "\n",
    "dmin, dmax = [-1, 1]\n",
    "step = 2 / 299\n",
    "dim_points = np.arange(dmin, dmax + step, step)\n",
    "\n",
    "rg.createDimension('x', dim_points.shape[0])\n",
    "rg.createDimension('y', dim_points.shape[0])\n",
    "rg.createDimension('z', dim_points.shape[0])\n",
    "\n",
    "x = rg.createVariable('x', 'f4', ('x',))\n",
    "y = rg.createVariable('y', 'f4', ('y',))\n",
    "z = rg.createVariable('z', 'f4', ('z',))\n",
    "x[:] = dim_points\n",
    "y[:] = dim_points\n",
    "z[:] = dim_points\n",
    "\n",
    "func_val = np.fromfile('data/raw/task1a.raw', dtype=np.float32)\n",
    "val = rg.createVariable('value', 'f4', ('x','y','z',))\n",
    "val[:] = func_val.reshape(val.shape)\n",
    "\n",
    "rg.close()"
   ]
  },
  {
   "cell_type": "code",
   "execution_count": 8,
   "metadata": {},
   "outputs": [],
   "source": [
    "# task1c\n",
    "with open('data/test/task1_plane.txt', 'r') as f:\n",
    "  f.readline()\n",
    "  dims = f.readline().strip().split(',')\n",
    "  dims = [int(d) for d in dims]\n",
    "vals = np.loadtxt('data/test/task1_plane_value.txt')\n",
    "\n",
    "rg = Dataset('data/sub/task1_plane_value.nc', 'w')\n",
    "\n",
    "rg.createDimension('x', dims[0])\n",
    "rg.createDimension('y', dims[1])\n",
    "\n",
    "x = rg.createVariable('x', 'f4', ('x',))\n",
    "y = rg.createVariable('y', 'f4', ('y',))\n",
    "x[:] = np.arange(dims[0])\n",
    "y[:] = np.arange(dims[1])\n",
    "\n",
    "val = rg.createVariable('value', 'f4', ('x','y',))\n",
    "val[:] = vals.reshape(val.shape)\n",
    "rg.close()"
   ]
  },
  {
   "cell_type": "code",
   "execution_count": 35,
   "metadata": {},
   "outputs": [],
   "source": [
    "# task 2a\n",
    "rg = Dataset('data/sub/task2a.nc', 'w')\n",
    "\n",
    "rg.createDimension('x', 256)\n",
    "rg.createDimension('y', 256)\n",
    "rg.createDimension('z', 256)\n",
    "\n",
    "x = rg.createVariable('x', 'f4', ('x',))\n",
    "y = rg.createVariable('y', 'f4', ('y',))\n",
    "z = rg.createVariable('z', 'f4', ('z',))\n",
    "x[:] = np.arange(256)\n",
    "y[:] = np.arange(256)\n",
    "z[:] = np.arange(256)\n",
    "\n",
    "val = rg.createVariable('value', 'f4', ('x','y','z'))\n",
    "vals = np.fromfile('data/raw/task2a.raw', dtype=np.float32)\n",
    "val[:] = vals.reshape(val.shape)\n",
    "rg.close()"
   ]
  },
  {
   "cell_type": "code",
   "execution_count": 5,
   "metadata": {},
   "outputs": [],
   "source": [
    "# task2c\n",
    "with open('data/test/task2_plane.txt', 'r') as f:\n",
    "  dims = f.readline().strip().split(',')\n",
    "  dims = [int(d) for d in dims]\n",
    "vals = np.loadtxt('data/test/task2_plane_value.txt')\n",
    "\n",
    "if rg is not None:\n",
    "  rg.close()\n",
    "\n",
    "rg = Dataset('data/sub/task2_plane_value.nc', 'w')\n",
    "\n",
    "rg.createDimension('x', dims[0])\n",
    "rg.createDimension('y', dims[1])\n",
    "\n",
    "x = rg.createVariable('x', 'f4', ('x',))\n",
    "y = rg.createVariable('y', 'f4', ('y',))\n",
    "x[:] = np.arange(dims[0])\n",
    "y[:] = np.arange(dims[1])\n",
    "\n",
    "val = rg.createVariable('value', 'f4', ('x','y',))\n",
    "val[:] = vals.reshape(val.shape)\n",
    "rg.close()"
   ]
  }
 ],
 "metadata": {
  "interpreter": {
   "hash": "d82c3ef9a9c52ca48f89a57a471345d340895240528db2b7c56159ebd2138f11"
  },
  "kernelspec": {
   "display_name": "Python 3.7.10 64-bit ('vis': conda)",
   "language": "python",
   "name": "python3"
  },
  "language_info": {
   "codemirror_mode": {
    "name": "ipython",
    "version": 3
   },
   "file_extension": ".py",
   "mimetype": "text/x-python",
   "name": "python",
   "nbconvert_exporter": "python",
   "pygments_lexer": "ipython3",
   "version": "3.7.6"
  },
  "orig_nbformat": 4
 },
 "nbformat": 4,
 "nbformat_minor": 2
}
